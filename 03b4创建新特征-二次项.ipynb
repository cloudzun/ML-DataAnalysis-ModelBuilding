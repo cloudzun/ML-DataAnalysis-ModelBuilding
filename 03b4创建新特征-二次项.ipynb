{
 "cells": [
  {
   "cell_type": "markdown",
   "metadata": {},
   "source": [
    "# 问题定义  \n",
    "\n",
    "特征工程-创建新特征的示例"
   ]
  },
  {
   "cell_type": "markdown",
   "metadata": {},
   "source": [
    "# 数据预处理"
   ]
  },
  {
   "cell_type": "code",
   "execution_count": 1,
   "metadata": {},
   "outputs": [],
   "source": [
    "import pandas as pd #导入Pandas\n",
    "import numpy as np #导入NumPy\n",
    "import matplotlib.pyplot as plt #导入绘图工具\n",
    "plt.rcParams['font.family'] = ['SimHei'] #或者 ['Microsoft YaHei']\n",
    "plt.rcParams['axes.unicode_minus'] = False"
   ]
  },
  {
   "cell_type": "code",
   "execution_count": 2,
   "metadata": {},
   "outputs": [
    {
     "data": {
      "text/html": [
       "<div>\n",
       "<style scoped>\n",
       "    .dataframe tbody tr th:only-of-type {\n",
       "        vertical-align: middle;\n",
       "    }\n",
       "\n",
       "    .dataframe tbody tr th {\n",
       "        vertical-align: top;\n",
       "    }\n",
       "\n",
       "    .dataframe thead th {\n",
       "        text-align: right;\n",
       "    }\n",
       "</style>\n",
       "<table border=\"1\" class=\"dataframe\">\n",
       "  <thead>\n",
       "    <tr style=\"text-align: right;\">\n",
       "      <th></th>\n",
       "      <th>X</th>\n",
       "      <th>Y</th>\n",
       "    </tr>\n",
       "  </thead>\n",
       "  <tbody>\n",
       "    <tr>\n",
       "      <th>0</th>\n",
       "      <td>0.27</td>\n",
       "      <td>-0.16</td>\n",
       "    </tr>\n",
       "    <tr>\n",
       "      <th>1</th>\n",
       "      <td>-0.80</td>\n",
       "      <td>0.65</td>\n",
       "    </tr>\n",
       "    <tr>\n",
       "      <th>2</th>\n",
       "      <td>-0.46</td>\n",
       "      <td>-0.42</td>\n",
       "    </tr>\n",
       "    <tr>\n",
       "      <th>3</th>\n",
       "      <td>-0.69</td>\n",
       "      <td>0.34</td>\n",
       "    </tr>\n",
       "    <tr>\n",
       "      <th>4</th>\n",
       "      <td>-0.16</td>\n",
       "      <td>-0.12</td>\n",
       "    </tr>\n",
       "    <tr>\n",
       "      <th>...</th>\n",
       "      <td>...</td>\n",
       "      <td>...</td>\n",
       "    </tr>\n",
       "    <tr>\n",
       "      <th>195</th>\n",
       "      <td>0.78</td>\n",
       "      <td>0.85</td>\n",
       "    </tr>\n",
       "    <tr>\n",
       "      <th>196</th>\n",
       "      <td>0.19</td>\n",
       "      <td>-0.11</td>\n",
       "    </tr>\n",
       "    <tr>\n",
       "      <th>197</th>\n",
       "      <td>-0.34</td>\n",
       "      <td>0.31</td>\n",
       "    </tr>\n",
       "    <tr>\n",
       "      <th>198</th>\n",
       "      <td>-0.45</td>\n",
       "      <td>0.34</td>\n",
       "    </tr>\n",
       "    <tr>\n",
       "      <th>199</th>\n",
       "      <td>-0.22</td>\n",
       "      <td>0.21</td>\n",
       "    </tr>\n",
       "  </tbody>\n",
       "</table>\n",
       "<p>200 rows × 2 columns</p>\n",
       "</div>"
      ],
      "text/plain": [
       "        X     Y\n",
       "0    0.27 -0.16\n",
       "1   -0.80  0.65\n",
       "2   -0.46 -0.42\n",
       "3   -0.69  0.34\n",
       "4   -0.16 -0.12\n",
       "..    ...   ...\n",
       "195  0.78  0.85\n",
       "196  0.19 -0.11\n",
       "197 -0.34  0.31\n",
       "198 -0.45  0.34\n",
       "199 -0.22  0.21\n",
       "\n",
       "[200 rows x 2 columns]"
      ]
     },
     "execution_count": 2,
     "metadata": {},
     "output_type": "execute_result"
    }
   ],
   "source": [
    "df = pd.read_csv('特征构建示意数据集.csv') #导入数据\n",
    "df #显示数据"
   ]
  },
  {
   "cell_type": "markdown",
   "metadata": {},
   "source": [
    "## 数据可视化"
   ]
  },
  {
   "cell_type": "code",
   "execution_count": 3,
   "metadata": {},
   "outputs": [
    {
     "data": {
      "text/plain": [
       "Text(0, 0.5, 'Y值')"
      ]
     },
     "execution_count": 3,
     "metadata": {},
     "output_type": "execute_result"
    },
    {
     "data": {
      "image/png": "[encoded data removed]",
      "text/plain": [
       "<Figure size 640x480 with 1 Axes>"
      ]
     },
     "metadata": {},
     "output_type": "display_data"
    }
   ],
   "source": [
    "plt.scatter(df.X, df.Y) #X，Y散点图\n",
    "plt.xlabel('X值') #x轴\n",
    "plt.ylabel('Y值') #y轴"
   ]
  },
  {
   "cell_type": "markdown",
   "metadata": {},
   "source": [
    "此代码段使用matplotlib库（缩写为plt）来绘制一个散点图，观察数据集（dataframe `df`）中两个特征（`X`和`Y`）之间的关系。以下是代码段的分步解释：\n",
    "\n",
    "1. `plt.scatter(df.X, df.Y)`：绘制散点图，其中横坐标为数据集`df`的`X`列，纵坐标为数据集`df`的`Y`列。\n",
    "\n",
    "2. `plt.xlabel('X值')`：为图形的x轴添加标签，名称为'X值'。\n",
    "\n",
    "3. `plt.ylabel('Y值')`：为图形的y轴添加标签，名称为'Y值'。\n",
    "\n",
    "在运行此代码段后，您将看到一个散点图，其中x轴表示特征X的值，y轴表示特征Y的值。通过观察散点图，您可以更好地理解这两个特征之间的关系（例如正相关、负相关或无关），从而为进一步的特征工程和模型构建提供依据。\n",
    "\n",
    "--- \n",
    "\n",
    "输出显示，数据集中的特征 X 和标签 y 呈现出符合回归模型的趋势。\n"
   ]
  },
  {
   "cell_type": "markdown",
   "metadata": {},
   "source": [
    "# 用线性回归建模"
   ]
  },
  {
   "cell_type": "code",
   "execution_count": 4,
   "metadata": {},
   "outputs": [],
   "source": [
    "from sklearn.model_selection import train_test_split #导入train_test_split \n",
    "df_x = df['X'].to_frame() #特征集\n",
    "df_y = df['Y'] #标签集\n",
    "X_train, X_test, y_train, y_test = train_test_split(df_x,df_y,test_size=0.3, random_state = 0) #拆分数据集"
   ]
  },
  {
   "cell_type": "markdown",
   "metadata": {},
   "source": [
    "这段代码的目的是将数据集分为训练集和测试集，以便在机器学习模型中对数据进行训练和测试。以下是代码段的分步解释：\n",
    "\n",
    "1. 导入`train_test_split`函数，用于分割数据集。\n",
    "   ```python\n",
    "   from sklearn.model_selection import train_test_split\n",
    "   ```\n",
    "\n",
    "2. 将`df['X']`列转换为DataFrame格式，将其作为特征集（`df_x`）。\n",
    "   ```python\n",
    "   df_x = df['X'].to_frame()\n",
    "   ```\n",
    "\n",
    "3. 将`df['Y']`列作为标签集（`df_y`）。这是我们希望机器学习模型根据提供的特征进行预测的目标变量。\n",
    "   ```python\n",
    "   df_y = df['Y']\n",
    "   ```\n",
    "\n",
    "4. 使用`train_test_split()`函数将特征集`df_x`和标签集`df_y`拆分为训练集和测试集。拆分比例为：70%的数据用于训练，30%的数据用于测试。`random_state`设置为0以保证每次运行时，数据集按照相同的方式进行拆分。\n",
    "   ```python\n",
    "   X_train, X_test, y_train, y_test = train_test_split(df_x, df_y, test_size=0.3, random_state=0)\n",
    "   ```\n",
    "\n",
    "现在，您已经将数据集成功分为训练集（`X_train`和`y_train`）和测试集（`X_test`和`y_test`）。您可以使用训练集数据来训练机器学习模型，然后使用测试集数据来评估训练后的模型性能。这有助于您了解模型在未见过的数据上的预测能力。"
   ]
  },
  {
   "cell_type": "code",
   "execution_count": 5,
   "metadata": {},
   "outputs": [
    {
     "data": {
      "text/html": [
       "<style>#sk-container-id-1 {color: black;background-color: white;}#sk-container-id-1 pre{padding: 0;}#sk-container-id-1 div.sk-toggleable {background-color: white;}#sk-container-id-1 label.sk-toggleable__label {cursor: pointer;display: block;width: 100%;margin-bottom: 0;padding: 0.3em;box-sizing: border-box;text-align: center;}#sk-container-id-1 label.sk-toggleable__label-arrow:before {content: \"▸\";float: left;margin-right: 0.25em;color: #696969;}#sk-container-id-1 label.sk-toggleable__label-arrow:hover:before {color: black;}#sk-container-id-1 div.sk-estimator:hover label.sk-toggleable__label-arrow:before {color: black;}#sk-container-id-1 div.sk-toggleable__content {max-height: 0;max-width: 0;overflow: hidden;text-align: left;background-color: #f0f8ff;}#sk-container-id-1 div.sk-toggleable__content pre {margin: 0.2em;color: black;border-radius: 0.25em;background-color: #f0f8ff;}#sk-container-id-1 input.sk-toggleable__control:checked~div.sk-toggleable__content {max-height: 200px;max-width: 100%;overflow: auto;}#sk-container-id-1 input.sk-toggleable__control:checked~label.sk-toggleable__label-arrow:before {content: \"▾\";}#sk-container-id-1 div.sk-estimator input.sk-toggleable__control:checked~label.sk-toggleable__label {background-color: #d4ebff;}#sk-container-id-1 div.sk-label input.sk-toggleable__control:checked~label.sk-toggleable__label {background-color: #d4ebff;}#sk-container-id-1 input.sk-hidden--visually {border: 0;clip: rect(1px 1px 1px 1px);clip: rect(1px, 1px, 1px, 1px);height: 1px;margin: -1px;overflow: hidden;padding: 0;position: absolute;width: 1px;}#sk-container-id-1 div.sk-estimator {font-family: monospace;background-color: #f0f8ff;border: 1px dotted black;border-radius: 0.25em;box-sizing: border-box;margin-bottom: 0.5em;}#sk-container-id-1 div.sk-estimator:hover {background-color: #d4ebff;}#sk-container-id-1 div.sk-parallel-item::after {content: \"\";width: 100%;border-bottom: 1px solid gray;flex-grow: 1;}#sk-container-id-1 div.sk-label:hover label.sk-toggleable__label {background-color: #d4ebff;}#sk-container-id-1 div.sk-serial::before {content: \"\";position: absolute;border-left: 1px solid gray;box-sizing: border-box;top: 0;bottom: 0;left: 50%;z-index: 0;}#sk-container-id-1 div.sk-serial {display: flex;flex-direction: column;align-items: center;background-color: white;padding-right: 0.2em;padding-left: 0.2em;position: relative;}#sk-container-id-1 div.sk-item {position: relative;z-index: 1;}#sk-container-id-1 div.sk-parallel {display: flex;align-items: stretch;justify-content: center;background-color: white;position: relative;}#sk-container-id-1 div.sk-item::before, #sk-container-id-1 div.sk-parallel-item::before {content: \"\";position: absolute;border-left: 1px solid gray;box-sizing: border-box;top: 0;bottom: 0;left: 50%;z-index: -1;}#sk-container-id-1 div.sk-parallel-item {display: flex;flex-direction: column;z-index: 1;position: relative;background-color: white;}#sk-container-id-1 div.sk-parallel-item:first-child::after {align-self: flex-end;width: 50%;}#sk-container-id-1 div.sk-parallel-item:last-child::after {align-self: flex-start;width: 50%;}#sk-container-id-1 div.sk-parallel-item:only-child::after {width: 0;}#sk-container-id-1 div.sk-dashed-wrapped {border: 1px dashed gray;margin: 0 0.4em 0.5em 0.4em;box-sizing: border-box;padding-bottom: 0.4em;background-color: white;}#sk-container-id-1 div.sk-label label {font-family: monospace;font-weight: bold;display: inline-block;line-height: 1.2em;}#sk-container-id-1 div.sk-label-container {text-align: center;}#sk-container-id-1 div.sk-container {/* jupyter's `normalize.less` sets `[hidden] { display: none; }` but bootstrap.min.css set `[hidden] { display: none !important; }` so we also need the `!important` here to be able to override the default hidden behavior on the sphinx rendered scikit-learn.org. See: https://github.com/scikit-learn/scikit-learn/issues/21755 */display: inline-block !important;position: relative;}#sk-container-id-1 div.sk-text-repr-fallback {display: none;}</style><div id=\"sk-container-id-1\" class=\"sk-top-container\"><div class=\"sk-text-repr-fallback\"><pre>LinearRegression()</pre><b>In a Jupyter environment, please rerun this cell to show the HTML representation or trust the notebook. <br />On GitHub, the HTML representation is unable to render, please try loading this page with nbviewer.org.</b></div><div class=\"sk-container\" hidden><div class=\"sk-item\"><div class=\"sk-estimator sk-toggleable\"><input class=\"sk-toggleable__control sk-hidden--visually\" id=\"sk-estimator-id-1\" type=\"checkbox\" checked><label for=\"sk-estimator-id-1\" class=\"sk-toggleable__label sk-toggleable__label-arrow\">LinearRegression</label><div class=\"sk-toggleable__content\"><pre>LinearRegression()</pre></div></div></div></div></div>"
      ],
      "text/plain": [
       "LinearRegression()"
      ]
     },
     "execution_count": 5,
     "metadata": {},
     "output_type": "execute_result"
    }
   ],
   "source": [
    "from sklearn.linear_model import LinearRegression #导入LinearRegression\n",
    "model = LinearRegression() #创建模型\n",
    "model.fit(X_train, y_train) #拟合模型"
   ]
  },
  {
   "cell_type": "code",
   "execution_count": 6,
   "metadata": {},
   "outputs": [
    {
     "data": {
      "text/plain": [
       "Text(0, 0.5, 'Y值')"
      ]
     },
     "execution_count": 6,
     "metadata": {},
     "output_type": "execute_result"
    },
    {
     "data": {
      "image/png": "[encoded data removed]",
      "text/plain": [
       "<Figure size 640x480 with 1 Axes>"
      ]
     },
     "metadata": {},
     "output_type": "display_data"
    }
   ],
   "source": [
    "plt.scatter(df.X, df.Y) #散点图\n",
    "plt.plot(X_test, model.predict(X_test),linestyle='--', color = 'red') #显示拟合曲线\n",
    "plt.xlabel('X值') #x轴\n",
    "plt.ylabel('Y值') #y轴"
   ]
  },
  {
   "cell_type": "markdown",
   "metadata": {},
   "source": [
    "这段代码使用matplotlib库生成了一个散点图，显示了数据集中特征X与目标变量Y之间的关系。同时，在图上绘制了线性回归模型预测的数据点（拟合线），以便直观地观察模型如何拟合这些数据。以下是代码段的逐步解释：\n",
    "\n",
    "1. 绘制原始数据集的散点图。`df.X`表示特征值，`df.Y`表示目标变量值。\n",
    "   ```python\n",
    "   plt.scatter(df.X, df.Y)\n",
    "   ```\n",
    "\n",
    "2. 在图上绘制线性回归模型拟合线。使用测试集的`X_test`数据作为输入，并用模型的`predict()`方法得到相应的预测值。线条样式设置为虚线，颜色设置为红色。\n",
    "   ```python\n",
    "   plt.plot(X_test, model.predict(X_test), linestyle='--', color='red')\n",
    "   ```\n",
    "\n",
    "3. 为图形设置x轴标签，表示为\"X值\"。\n",
    "   ```python\n",
    "   plt.xlabel('X值')\n",
    "   ```\n",
    "\n",
    "4. 为图形设置y轴标签，表示为\"Y值\"。\n",
    "   ```python\n",
    "   plt.ylabel('Y值')\n",
    "   ```\n",
    "\n",
    "执行这段代码后，您将看到一个散点图，其中包含数据集中的数据点以及线性回归模型的拟合线。通过观察拟合线与数据点的分布情况，您可以直观地了解模型在拟合这些数据方面的表现。\n",
    "\n",
    "---\n",
    "\n",
    "可以看出，这条回归线并不能很好地描述 X 和 Y 之间的关系。\n",
    "\n",
    "从图中可以观察到，X和Y之间的关系更接近于多项式回归中的二次回归，即Y是X的二次函数。因此，在X的基础上进行平方运算，得到一个新特征。"
   ]
  },
  {
   "cell_type": "markdown",
   "metadata": {},
   "source": [
    "# 增加新特性"
   ]
  },
  {
   "cell_type": "code",
   "execution_count": 7,
   "metadata": {},
   "outputs": [],
   "source": [
    "X2_train = X_train.copy() #新特征训练集\n",
    "X2_test = X_test.copy() #新特征测试集"
   ]
  },
  {
   "cell_type": "markdown",
   "metadata": {},
   "source": [
    "这段代码创建了原始训练集(`X_train`)和测试集(`X_test`)的副本，分别命名为`X2_train`和`X2_test`。在某些情况下，您可能需要对训练数据和测试数据进行额外的处理(如特征工程)或进行一些实验，这时，建立副本是非常有用的。这样，您可以保留原始数据，避免对原始数据的不必要修改。您可以对`X2_train`和`X2_test`进行修改，而不改变原始训练和测试数据。\n",
    "\n",
    "以下是代码的逐步解释：\n",
    "\n",
    "1. 创建训练数据集`X_train`的副本并命名为`X2_train`。\n",
    "    ```python\n",
    "    X2_train = X_train.copy()\n",
    "    ```\n",
    "\n",
    "2. 创建测试数据集`X_test`的副本并命名为`X2_test`。\n",
    "    ```python\n",
    "    X2_test = X_test.copy()\n",
    "    ``` \n",
    "\n",
    "现在，您可以根据需要修改`X2_train`和`X2_test`数据集，而不会影响原始数据集。在进行任何数据处理时，始终保留原始数据是一个很好的做法。"
   ]
  },
  {
   "cell_type": "code",
   "execution_count": 8,
   "metadata": {},
   "outputs": [
    {
     "data": {
      "text/html": [
       "<div>\n",
       "<style scoped>\n",
       "    .dataframe tbody tr th:only-of-type {\n",
       "        vertical-align: middle;\n",
       "    }\n",
       "\n",
       "    .dataframe tbody tr th {\n",
       "        vertical-align: top;\n",
       "    }\n",
       "\n",
       "    .dataframe thead th {\n",
       "        text-align: right;\n",
       "    }\n",
       "</style>\n",
       "<table border=\"1\" class=\"dataframe\">\n",
       "  <thead>\n",
       "    <tr style=\"text-align: right;\">\n",
       "      <th></th>\n",
       "      <th>X</th>\n",
       "      <th>X2</th>\n",
       "    </tr>\n",
       "  </thead>\n",
       "  <tbody>\n",
       "    <tr>\n",
       "      <th>131</th>\n",
       "      <td>0.21</td>\n",
       "      <td>0.0441</td>\n",
       "    </tr>\n",
       "    <tr>\n",
       "      <th>96</th>\n",
       "      <td>0.33</td>\n",
       "      <td>0.1089</td>\n",
       "    </tr>\n",
       "    <tr>\n",
       "      <th>181</th>\n",
       "      <td>-0.47</td>\n",
       "      <td>0.2209</td>\n",
       "    </tr>\n",
       "    <tr>\n",
       "      <th>19</th>\n",
       "      <td>0.13</td>\n",
       "      <td>0.0169</td>\n",
       "    </tr>\n",
       "    <tr>\n",
       "      <th>153</th>\n",
       "      <td>-0.52</td>\n",
       "      <td>0.2704</td>\n",
       "    </tr>\n",
       "  </tbody>\n",
       "</table>\n",
       "</div>"
      ],
      "text/plain": [
       "        X      X2\n",
       "131  0.21  0.0441\n",
       "96   0.33  0.1089\n",
       "181 -0.47  0.2209\n",
       "19   0.13  0.0169\n",
       "153 -0.52  0.2704"
      ]
     },
     "execution_count": 8,
     "metadata": {},
     "output_type": "execute_result"
    }
   ],
   "source": [
    "X2_train['X2'] = X2_train['X']**2 #构建新特征X2\n",
    "X2_train.head() #显示新特征训练集"
   ]
  },
  {
   "cell_type": "markdown",
   "metadata": {},
   "source": [
    "这段代码将原始特征`X`的平方作为新特征`X2`添加到副本训练数据集`X2_train`中。这是一个示例，如何在训练数据中构建新的特征，这样的特征工程有助于提高模型的性能。以下是代码的逐步解释：\n",
    "\n",
    "1. 计算特征`X`的平方值（`X ** 2`）并将其作为新特征`X2`添加到数据集`X2_train`中。\n",
    "   ```python\n",
    "   X2_train['X2'] = X2_train['X']**2\n",
    "   ```\n",
    "\n",
    "2. 使用`head()`方法显示`X2_train`数据集的前几行，以便查看新特征`X2`是否已成功添加到数据集中。\n",
    "   ```python\n",
    "   X2_train.head()\n",
    "   ```\n",
    "\n",
    "在执行这段代码后，您将看到一个包含新特征`X2`的训练数据集。接下来，您可以使用这个包含新特征的数据集来训练和测试模型，以评估是否能提高模型性能。在实际应用中，特征工程通常包括从现有特征中提取新特征、组合特征、转换特征等，以帮助捕捉数据中的模式。"
   ]
  },
  {
   "cell_type": "code",
   "execution_count": 9,
   "metadata": {},
   "outputs": [],
   "source": [
    "X2_test['X2'] = X2_test['X']**2 #构建新特征X2\n",
    "# X2_test #显示新特征测试集"
   ]
  },
  {
   "cell_type": "markdown",
   "metadata": {},
   "source": [
    "此段代码将原始特征`X`的平方作为新特征`X2`添加到副本测试数据集`X2_test`中。与`X_train`类似，这是一个构建新特征的示例，以此增强测试数据集。以下是代码的逐步解释：\n",
    "\n",
    "1. 计算特征`X`的平方值（`X ** 2`），并将其作为新特征`X2`添加到数据集`X2_test`中。\n",
    "   ```python\n",
    "   X2_test['X2'] = X2_test['X']**2\n",
    "   ```\n",
    "\n",
    "直接运行这段代码后，新特征`X2`将被添加到测试数据集`X2_test`中。但是，请注意，这里没有显示包含新特征的测试集`X2_test`。如果您确实想查看这个包含新特征的测试数据集，只需取消对`X2_test`的注释（去掉行首的`#`），然后再执行此代码段：\n",
    "\n",
    "```python\n",
    "X2_test['X2'] = X2_test['X']**2 \n",
    "X2_test\n",
    "```\n",
    "\n",
    "现在，您可以将包含新特征`X2`的训练集`X2_train`和测试集`X2_test`用于训练和评估模型，看看这个新特征是否能提高模型性能。在实际应用中，特征工程通常涉及提取新特征、组合特征、转换特征等，以帮助模型捕捉数据中的模式。"
   ]
  },
  {
   "cell_type": "code",
   "execution_count": 10,
   "metadata": {},
   "outputs": [
    {
     "data": {
      "text/html": [
       "<style>#sk-container-id-2 {color: black;background-color: white;}#sk-container-id-2 pre{padding: 0;}#sk-container-id-2 div.sk-toggleable {background-color: white;}#sk-container-id-2 label.sk-toggleable__label {cursor: pointer;display: block;width: 100%;margin-bottom: 0;padding: 0.3em;box-sizing: border-box;text-align: center;}#sk-container-id-2 label.sk-toggleable__label-arrow:before {content: \"▸\";float: left;margin-right: 0.25em;color: #696969;}#sk-container-id-2 label.sk-toggleable__label-arrow:hover:before {color: black;}#sk-container-id-2 div.sk-estimator:hover label.sk-toggleable__label-arrow:before {color: black;}#sk-container-id-2 div.sk-toggleable__content {max-height: 0;max-width: 0;overflow: hidden;text-align: left;background-color: #f0f8ff;}#sk-container-id-2 div.sk-toggleable__content pre {margin: 0.2em;color: black;border-radius: 0.25em;background-color: #f0f8ff;}#sk-container-id-2 input.sk-toggleable__control:checked~div.sk-toggleable__content {max-height: 200px;max-width: 100%;overflow: auto;}#sk-container-id-2 input.sk-toggleable__control:checked~label.sk-toggleable__label-arrow:before {content: \"▾\";}#sk-container-id-2 div.sk-estimator input.sk-toggleable__control:checked~label.sk-toggleable__label {background-color: #d4ebff;}#sk-container-id-2 div.sk-label input.sk-toggleable__control:checked~label.sk-toggleable__label {background-color: #d4ebff;}#sk-container-id-2 input.sk-hidden--visually {border: 0;clip: rect(1px 1px 1px 1px);clip: rect(1px, 1px, 1px, 1px);height: 1px;margin: -1px;overflow: hidden;padding: 0;position: absolute;width: 1px;}#sk-container-id-2 div.sk-estimator {font-family: monospace;background-color: #f0f8ff;border: 1px dotted black;border-radius: 0.25em;box-sizing: border-box;margin-bottom: 0.5em;}#sk-container-id-2 div.sk-estimator:hover {background-color: #d4ebff;}#sk-container-id-2 div.sk-parallel-item::after {content: \"\";width: 100%;border-bottom: 1px solid gray;flex-grow: 1;}#sk-container-id-2 div.sk-label:hover label.sk-toggleable__label {background-color: #d4ebff;}#sk-container-id-2 div.sk-serial::before {content: \"\";position: absolute;border-left: 1px solid gray;box-sizing: border-box;top: 0;bottom: 0;left: 50%;z-index: 0;}#sk-container-id-2 div.sk-serial {display: flex;flex-direction: column;align-items: center;background-color: white;padding-right: 0.2em;padding-left: 0.2em;position: relative;}#sk-container-id-2 div.sk-item {position: relative;z-index: 1;}#sk-container-id-2 div.sk-parallel {display: flex;align-items: stretch;justify-content: center;background-color: white;position: relative;}#sk-container-id-2 div.sk-item::before, #sk-container-id-2 div.sk-parallel-item::before {content: \"\";position: absolute;border-left: 1px solid gray;box-sizing: border-box;top: 0;bottom: 0;left: 50%;z-index: -1;}#sk-container-id-2 div.sk-parallel-item {display: flex;flex-direction: column;z-index: 1;position: relative;background-color: white;}#sk-container-id-2 div.sk-parallel-item:first-child::after {align-self: flex-end;width: 50%;}#sk-container-id-2 div.sk-parallel-item:last-child::after {align-self: flex-start;width: 50%;}#sk-container-id-2 div.sk-parallel-item:only-child::after {width: 0;}#sk-container-id-2 div.sk-dashed-wrapped {border: 1px dashed gray;margin: 0 0.4em 0.5em 0.4em;box-sizing: border-box;padding-bottom: 0.4em;background-color: white;}#sk-container-id-2 div.sk-label label {font-family: monospace;font-weight: bold;display: inline-block;line-height: 1.2em;}#sk-container-id-2 div.sk-label-container {text-align: center;}#sk-container-id-2 div.sk-container {/* jupyter's `normalize.less` sets `[hidden] { display: none; }` but bootstrap.min.css set `[hidden] { display: none !important; }` so we also need the `!important` here to be able to override the default hidden behavior on the sphinx rendered scikit-learn.org. See: https://github.com/scikit-learn/scikit-learn/issues/21755 */display: inline-block !important;position: relative;}#sk-container-id-2 div.sk-text-repr-fallback {display: none;}</style><div id=\"sk-container-id-2\" class=\"sk-top-container\"><div class=\"sk-text-repr-fallback\"><pre>LinearRegression()</pre><b>In a Jupyter environment, please rerun this cell to show the HTML representation or trust the notebook. <br />On GitHub, the HTML representation is unable to render, please try loading this page with nbviewer.org.</b></div><div class=\"sk-container\" hidden><div class=\"sk-item\"><div class=\"sk-estimator sk-toggleable\"><input class=\"sk-toggleable__control sk-hidden--visually\" id=\"sk-estimator-id-2\" type=\"checkbox\" checked><label for=\"sk-estimator-id-2\" class=\"sk-toggleable__label sk-toggleable__label-arrow\">LinearRegression</label><div class=\"sk-toggleable__content\"><pre>LinearRegression()</pre></div></div></div></div></div>"
      ],
      "text/plain": [
       "LinearRegression()"
      ]
     },
     "execution_count": 10,
     "metadata": {},
     "output_type": "execute_result"
    }
   ],
   "source": [
    "model2 = LinearRegression() #创建新模型\n",
    "model2.fit(X2_train, y_train) #拟合新模型"
   ]
  },
  {
   "cell_type": "markdown",
   "metadata": {},
   "source": [
    "这段代码创建了一个新的线性回归模型`model2`，并使用包含新特征`X2`的训练数据集`X2_train`来训练该模型。以下是代码的步骤说明：\n",
    "\n",
    "1. 使用`LinearRegression()`函数创建一个新的线性回归模型实例，命名为`model2`。\n",
    "   ```python\n",
    "   model2 = LinearRegression()\n",
    "   ```\n",
    "\n",
    "2. 使用`fit()`方法，将`X2_train`(包含特征`X`和`X2`的训练数据)和相应的目标变量`y_train`(例如，模型的预测目标)作为输入，训练新的线性回归模型`model2`。\n",
    "   ```python\n",
    "   model2.fit(X2_train, y_train)\n",
    "   ```\n",
    "\n",
    "在运行这段代码后，新的线性回归模型`model2`现在已经训练好，并可以处理具有原始特征`X`和新特征`X2`的数据。接下来，您可以使用包含新特征的测试数据集`X2_test`对模型进行预测，然后评估模型的性能，看看添加新特征`X2`是否有助于提高模型的准确性。在机器学习中，模型的准确性是通过评估指标（如均方误差、平均绝对误差等）来衡量的。"
   ]
  },
  {
   "cell_type": "code",
   "execution_count": 11,
   "metadata": {},
   "outputs": [
    {
     "data": {
      "text/plain": [
       "Text(0, 0.5, 'Y值')"
      ]
     },
     "execution_count": 11,
     "metadata": {},
     "output_type": "execute_result"
    },
    {
     "data": {
      "image/png": "[encoded data removed]",
      "text/plain": [
       "<Figure size 640x480 with 1 Axes>"
      ]
     },
     "metadata": {},
     "output_type": "display_data"
    }
   ],
   "source": [
    "plt.scatter(df.X, df.Y) #散点图\n",
    "# plt.plot(X_test, model.predict(X2_test),linestyle='--',color = 'red')\n",
    "plt.scatter(X_test, model2.predict(X2_test), linestyle='--', color = 'red') #新拟合函数曲线\n",
    "plt.xlabel('X值') #x轴\n",
    "plt.ylabel('Y值') #y轴"
   ]
  },
  {
   "cell_type": "markdown",
   "metadata": {},
   "source": [
    "我们仍然使用相同的模型进行拟合，并展示原始特征 X 和预测值之间的关系。在这个过程中，我们发现拟合曲线更接近于 X 和 Y 的真实关系。"
   ]
  },
  {
   "cell_type": "code",
   "execution_count": null,
   "metadata": {},
   "outputs": [],
   "source": []
  }
 ],
 "metadata": {
  "kernelspec": {
   "display_name": "Python 3 (ipykernel)",
   "language": "python",
   "name": "python3"
  },
  "language_info": {
   "codemirror_mode": {
    "name": "ipython",
    "version": 3
   },
   "file_extension": ".py",
   "mimetype": "text/x-python",
   "name": "python",
   "nbconvert_exporter": "python",
   "pygments_lexer": "ipython3",
   "version": "3.10.9"
  }
 },
 "nbformat": 4,
 "nbformat_minor": 4
}
