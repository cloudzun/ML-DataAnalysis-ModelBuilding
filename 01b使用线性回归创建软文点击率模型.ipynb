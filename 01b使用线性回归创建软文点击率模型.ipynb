{
 "cells": [
  {
   "cell_type": "markdown",
   "id": "cd5fa059",
   "metadata": {},
   "source": [
    "# 定义问题\n",
    "\n",
    "- 根据数据集：易速鲜花微信软文.csv 建立一个机器学习模型，根据点赞数和转发数等指标，估计一篇文章能实现多大的浏览量。\n",
    "- 由于需要估计浏览量，因此在这个数据集中，点赞数、转发数、热度指数和文章评级是特征字段，而浏览量则是标签。\n",
    "- 而且我们已经有了要估计的标签，所以这是一个监督学习问题。\n",
    "- 另外，考虑到我们的标签是连续性数值，因此它属于回归问题。"
   ]
  },
  {
   "cell_type": "markdown",
   "id": "d18a39db",
   "metadata": {},
   "source": [
    "# 数据收集和预处理"
   ]
  },
  {
   "cell_type": "code",
   "execution_count": 1,
   "id": "63c39d15",
   "metadata": {},
   "outputs": [],
   "source": [
    "# 导入最基本的数据处理工具\n",
    "# import numpy as np # 导入NumPy数学计算工具包\n",
    "import pandas as pd # 导入Pandas数据处理工具包"
   ]
  },
  {
   "cell_type": "code",
   "execution_count": 2,
   "id": "36e92fce",
   "metadata": {},
   "outputs": [
    {
     "data": {
      "text/html": [
       "<div>\n",
       "<style scoped>\n",
       "    .dataframe tbody tr th:only-of-type {\n",
       "        vertical-align: middle;\n",
       "    }\n",
       "\n",
       "    .dataframe tbody tr th {\n",
       "        vertical-align: top;\n",
       "    }\n",
       "\n",
       "    .dataframe thead th {\n",
       "        text-align: right;\n",
       "    }\n",
       "</style>\n",
       "<table border=\"1\" class=\"dataframe\">\n",
       "  <thead>\n",
       "    <tr style=\"text-align: right;\">\n",
       "      <th></th>\n",
       "      <th>点赞数</th>\n",
       "      <th>转发数</th>\n",
       "      <th>热度指数</th>\n",
       "      <th>文章评级</th>\n",
       "      <th>浏览量</th>\n",
       "    </tr>\n",
       "  </thead>\n",
       "  <tbody>\n",
       "    <tr>\n",
       "      <th>0</th>\n",
       "      <td>2646</td>\n",
       "      <td>1347.0</td>\n",
       "      <td>7</td>\n",
       "      <td>5</td>\n",
       "      <td>260004</td>\n",
       "    </tr>\n",
       "    <tr>\n",
       "      <th>1</th>\n",
       "      <td>816</td>\n",
       "      <td>816.0</td>\n",
       "      <td>4</td>\n",
       "      <td>6</td>\n",
       "      <td>100004</td>\n",
       "    </tr>\n",
       "    <tr>\n",
       "      <th>2</th>\n",
       "      <td>1224</td>\n",
       "      <td>612.0</td>\n",
       "      <td>6</td>\n",
       "      <td>5</td>\n",
       "      <td>164502</td>\n",
       "    </tr>\n",
       "    <tr>\n",
       "      <th>3</th>\n",
       "      <td>1261</td>\n",
       "      <td>1261.0</td>\n",
       "      <td>6</td>\n",
       "      <td>6</td>\n",
       "      <td>163001</td>\n",
       "    </tr>\n",
       "    <tr>\n",
       "      <th>4</th>\n",
       "      <td>1720</td>\n",
       "      <td>1720.0</td>\n",
       "      <td>7</td>\n",
       "      <td>5</td>\n",
       "      <td>260401</td>\n",
       "    </tr>\n",
       "    <tr>\n",
       "      <th>5</th>\n",
       "      <td>1541</td>\n",
       "      <td>1541.0</td>\n",
       "      <td>7</td>\n",
       "      <td>5</td>\n",
       "      <td>220002</td>\n",
       "    </tr>\n",
       "    <tr>\n",
       "      <th>6</th>\n",
       "      <td>827</td>\n",
       "      <td>NaN</td>\n",
       "      <td>5</td>\n",
       "      <td>7</td>\n",
       "      <td>107503</td>\n",
       "    </tr>\n",
       "    <tr>\n",
       "      <th>7</th>\n",
       "      <td>866</td>\n",
       "      <td>686.0</td>\n",
       "      <td>5</td>\n",
       "      <td>9</td>\n",
       "      <td>110504</td>\n",
       "    </tr>\n",
       "    <tr>\n",
       "      <th>8</th>\n",
       "      <td>1314</td>\n",
       "      <td>1300.0</td>\n",
       "      <td>8</td>\n",
       "      <td>5</td>\n",
       "      <td>229461</td>\n",
       "    </tr>\n",
       "    <tr>\n",
       "      <th>9</th>\n",
       "      <td>1431</td>\n",
       "      <td>1099.0</td>\n",
       "      <td>6</td>\n",
       "      <td>5</td>\n",
       "      <td>165004</td>\n",
       "    </tr>\n",
       "  </tbody>\n",
       "</table>\n",
       "</div>"
      ],
      "text/plain": [
       "    点赞数     转发数  热度指数  文章评级     浏览量\n",
       "0  2646  1347.0     7     5  260004\n",
       "1   816   816.0     4     6  100004\n",
       "2  1224   612.0     6     5  164502\n",
       "3  1261  1261.0     6     6  163001\n",
       "4  1720  1720.0     7     5  260401\n",
       "5  1541  1541.0     7     5  220002\n",
       "6   827     NaN     5     7  107503\n",
       "7   866   686.0     5     9  110504\n",
       "8  1314  1300.0     8     5  229461\n",
       "9  1431  1099.0     6     5  165004"
      ]
     },
     "execution_count": 2,
     "metadata": {},
     "output_type": "execute_result"
    }
   ],
   "source": [
    "df_ads = pd.read_csv('易速鲜花微信软文.csv') # 读入数据\n",
    "# df_ads.astype(int)\n",
    "df_ads.head(10) # 显示前几行数据"
   ]
  },
  {
   "cell_type": "markdown",
   "id": "3bb0e3fc",
   "metadata": {},
   "source": [
    "这两行代码是使用 Pandas 库加载并查看 CSV 文件中的数据。这里使用的是易速鲜花微信软文的数据文件。\n",
    "\n",
    "1. `df_ads = pd.read_csv('易速鲜花微信软文.csv')`：这行代码使用 Pandas 中的 `read_csv()` 函数读取 CSV 文件（易速鲜花微信软文.csv），并将数据存储在名为 df_ads 的 DataFrame 对象中。DataFrame 是 Pandas 库中最重要的数据结构，用于表示表格形式的数据。`pd.read_csv()` 函数会自动将 CSV 文件中的数据转换为 DataFrame 格式。\n",
    "\n",
    "2. `df_ads.head()`：这行代码用于查看 DataFrame 数据的前几行。默认情况下，`.head()` 方法会返回前 5 行数据。如果你希望查看前 n 行数据，可以向该方法中传递一个整数参数，比如 `df_ads.head(n)`。这对于在数据处理和分析过程中快速了解数据集的结构和内容非常有帮助。\n",
    "\n",
    "---\n",
    "\n",
    "显然，在这个数据集中，点赞数和转发数与浏览量之间存在明显的相关性。然而，我们尚不清楚具体的函数形式来描述这种关系。因此，本项目的目标是找到能够准确描绘这一关系的函数。"
   ]
  },
  {
   "cell_type": "markdown",
   "id": "2477c8e7",
   "metadata": {},
   "source": [
    "## 数据清洗"
   ]
  },
  {
   "cell_type": "code",
   "execution_count": 3,
   "id": "f3f93106",
   "metadata": {},
   "outputs": [
    {
     "data": {
      "text/plain": [
       "点赞数      0\n",
       "转发数     37\n",
       "热度指数     0\n",
       "文章评级     0\n",
       "浏览量      0\n",
       "dtype: int64"
      ]
     },
     "execution_count": 3,
     "metadata": {},
     "output_type": "execute_result"
    }
   ],
   "source": [
    "df_ads.isna().sum() # NaN出现的次数"
   ]
  },
  {
   "cell_type": "markdown",
   "id": "fccf6392",
   "metadata": {},
   "source": [
    "这段代码使用 Pandas 数据帧（DataFrame）的 `isna()` 和 `sum()` 方法来计算数据帧 `df_ads` 中每一列缺失值（NaN，Not a Number）的数量。\n",
    "\n",
    "`df_ads.isna()` 返回一个布尔值数据帧，其形状与原数据帧相同。对于原数据帧中的每个元素，如果该元素为 NaN，则在新数据帧（布尔值数据帧）中对应位置的元素值为 True，否则为 False。\n",
    "\n",
    "然后， `sum()` 方法沿着数据帧的纵轴（默认为 0，即列方向）对布尔值进行累加。True 被认为是 1，而 False 被认为是 0。因此，当我们在布尔值数据帧上使用 `sum()` 方法时，实际上计算的是每列中 True（即 NaN）的数量。\n",
    "\n",
    "这对于在数据预处理阶段识别和处理缺失值很有帮助。了解缺失值的分布可以帮助你在接下来的数据清洗和填充缺失值时选取更合适的策略，比如删除包含缺失值的行列、使用特定值填充缺失值或使用统计方法（例如平均值、中位数等）填充缺失值等。"
   ]
  },
  {
   "cell_type": "code",
   "execution_count": 4,
   "id": "3c7141b8",
   "metadata": {},
   "outputs": [],
   "source": [
    "# df_ads['转发数'].fillna(df_ads['转发数'].mean(), inplace=True) # 用均值补值"
   ]
  },
  {
   "cell_type": "code",
   "execution_count": 5,
   "id": "8497f867",
   "metadata": {},
   "outputs": [],
   "source": [
    "df_ads = df_ads.dropna() # 删除NaN值"
   ]
  },
  {
   "cell_type": "markdown",
   "id": "ea6e6cc4",
   "metadata": {},
   "source": [
    "## 数据可视化\n",
    "\n",
    "数据可视化是一项非常有用的技能，可以帮助我们更好地理解数据。它可以帮助我们发现特征和标签之间的关系，并检测出可能存在的脏数据和离群点等问题。"
   ]
  },
  {
   "cell_type": "code",
   "execution_count": 6,
   "id": "d64275f2",
   "metadata": {},
   "outputs": [],
   "source": [
    "# 导入数据可视化所需要的库\n",
    "import matplotlib.pyplot as plt #Matplotlib – Python画图工具库\n",
    "import seaborn as sns #Seaborn – 统计学数据可视化工具库"
   ]
  },
  {
   "cell_type": "markdown",
   "id": "ad7ded5a",
   "metadata": {},
   "source": [
    "这两行代码分别导入了两个用于数据可视化的 Python 库：Matplotlib 和 Seaborn。数据可视化在机器学习任务中非常重要，可以帮助我们更好地理解数据集、发现潜在问题和特征之间的关系。\n",
    "\n",
    "1. `import matplotlib.pyplot as plt`：这行代码导入名为 Matplotlib 的 Python 绘图库，并为它设置了一个别名 plt。Matplotlib 是一个用于创建图形和数据可视化的库，可以实现条形图、散点图、箱线图等多种类型的图形。使用别名 plt 可以方便地调用 Matplotlib 库中的函数和方法来创建和自定义图形。\n",
    "\n",
    "2. `import seaborn as sns`：这行代码导入名为 Seaborn 的 Python 数据可视化库，并为它设置了一个别名 sns。Seaborn 基于 Matplotlib 库构建，提供了更高级的统计学数据可视化功能，并拥有更美观的默认主题和颜色。 使用别名 sns 可以方便地调用 Seaborn 库中的函数和方法来创建和自定义图形。与 Matplotlib 相比，Seaborn 更专注于统计学图形，如热力图、联合分布图等。"
   ]
  },
  {
   "cell_type": "code",
   "execution_count": 7,
   "id": "32ea5a52",
   "metadata": {},
   "outputs": [],
   "source": [
    "plt.rcParams['font.family'] = ['SimHei'] #或者 ['Microsoft YaHei']\n",
    "plt.rcParams['axes.unicode_minus'] = False"
   ]
  },
  {
   "cell_type": "markdown",
   "id": "6c5f4e3a",
   "metadata": {},
   "source": [
    "这些命令将字体设置为 SimHei（基本黑体）或者 Microsoft YaHei（雅黑），这两种字体都支持中文字形。请注意，这些字体可能仅在Windows系统上有效。对于其他操作系统，需要使用对应的支持中文的字体。"
   ]
  },
  {
   "cell_type": "code",
   "execution_count": 8,
   "id": "4a2ee7fa",
   "metadata": {},
   "outputs": [
    {
     "data": {
      "image/png": "[encoded data removed]",
      "text/plain": [
       "<Figure size 640x480 with 1 Axes>"
      ]
     },
     "metadata": {},
     "output_type": "display_data"
    }
   ],
   "source": [
    "plt.plot(df_ads['点赞数'],df_ads['浏览量'],'r.', label='Training data') # 用matplotlib.pyplot的plot方法显示散点图\n",
    "plt.xlabel('点赞数') # x轴Label\n",
    "plt.ylabel('浏览量') # y轴Label\n",
    "plt.legend() # 显示图例\n",
    "plt.show() # 显示绘图结果！"
   ]
  },
  {
   "cell_type": "markdown",
   "id": "f25dcbb9",
   "metadata": {},
   "source": [
    "这段代码使用 Matplotlib 库中的 pyplot（以 plt 别名导入）绘制了一个散点图，用于展示易速鲜花微信软文数据中点赞数与浏览量之间的关系。以下是各行代码的解释：\n",
    "\n",
    "1. `plt.plot(df_ads['点赞数'],df_ads['浏览量'],'r.', label='Training data')`：这行代码使用 plt 的 `plot()` 方法创建一个散点图，横轴为点赞数，纵轴为浏览量。`'r.'` 参数表示使用红色（red）的点来表示数据，`label='Training data'` 设置了图例的名称。\n",
    "\n",
    "2. `plt.xlabel('点赞数')`：这行代码为横轴设置了标签，即“点赞数”。\n",
    "\n",
    "3. `plt.ylabel('浏览量')`：这行代码为纵轴设置了标签，即“浏览量”。\n",
    "\n",
    "4. `plt.legend()`：这行代码添加了图例，图例上会显示代表不同数据点的图形和各自的标签，在这个例子中，我们的数据点只有一种类型：“Training data”。\n",
    "\n",
    "5. `plt.show()`：这行代码用于显示已绘制的图形。在一些编程环境中（如 Jupyter Notebook 和 Google Colab），不需要此行代码，图形会自动显示。但在其他环境中（如普通的 Python 脚本或 IDE），需要使用 `plt.show()` 来展示图形。\n",
    "\n",
    "---\n",
    "从这张图中，我们可以清楚地看到数据基本上集中在一条线附近。因此，标签和特征之间似乎存在着线性关系，这为我们选择模型提供了参考信息。\n",
    "\n",
    "\n",
    "\n",
    "接下来，我将使用Seaborn的boxplot工具绘制箱线图，以查看数据集中是否存在离群点。在这里，我随机选择了热度指数作为示例特征，请你也尝试使用其他特征进行箱线图绘制。"
   ]
  },
  {
   "cell_type": "code",
   "execution_count": 9,
   "id": "7bbd1b3e",
   "metadata": {},
   "outputs": [
    {
     "data": {
      "image/png": "[encoded data removed]",
      "text/plain": [
       "<Figure size 640x480 with 1 Axes>"
      ]
     },
     "metadata": {},
     "output_type": "display_data"
    }
   ],
   "source": [
    "data = pd.concat([df_ads['浏览量'], df_ads['热度指数']], axis=1) # 浏览量和热度指数\n",
    "fig = sns.boxplot(x='热度指数', y=\"浏览量\", data=data) # 用seaborn的箱线图画图\n",
    "fig.axis(ymin=0, ymax=800000); #设定y轴坐标"
   ]
  },
  {
   "cell_type": "markdown",
   "id": "2f483a17",
   "metadata": {},
   "source": [
    "这段代码使用 Seaborn 库（以 `sns` 别名导入）绘制了一个箱线图，展示了易速鲜花微信软文数据中浏览量与热度指数之间的关系。以下是各行代码的解释：\n",
    "\n",
    "1. `data = pd.concat([df_ads['浏览量'], df_ads['热度指数']], axis=1)`：这行代码将 `df_ads` 数据帧中的浏览量和热度指数两列拼接在一起，创建一个新的数据帧 `data`。\n",
    "\n",
    "2. `fig = sns.boxplot(x='热度指数', y=\"浏览量\", data=data)`：这行代码使用 Seaborn 的 `boxplot()` 函数创建一个箱线图，横轴为热度指数，纵轴为浏览量。函数的 `data` 参数传入我们之前拼接好的 `data` 数据帧。此时，`fig` 是一个 Matplotlib 的 `Axes` 对象，可以用于对图形进行进一步定制。\n",
    "\n",
    "3. `fig.axis(ymin=0, ymax=800000)`：这行代码设置了纵轴的范围，最小值为 0，最大值为 800000。通过设定 `y` 轴坐标范围，我们可以更好地观察两个变量之间的关系。\n",
    "\n",
    "箱线图可以帮助我们了解数据的分布情况、中位数、四分位数等统计特征，还可以观察到异常值。\n",
    "\n",
    "\n",
    "---\n",
    "\n",
    "在上述箱线图中，我们可以清晰地观察到热度指数与浏览量的中位数之间存在正相关关系。此外，我们还能够注意到一些明显偏离主体的数据点，这些数据点代表了那些异常高的文章浏览量，也就是所谓的“爆款文章”。\n",
    "\n",
    "\n",
    "\n",
    "你可能会问，我们刚才通过箱线图找到的那些离群点（也就是爆款文章），它们算不算脏数据呢？这是一个很好的问题，但并没有固定的答案。\n",
    "\n",
    "如果我们删除了这些离群点，模型在处理普通数据时会拟合得更好看。然而，在现实生活中，确实存在一些离群点，它们让模型变得不那么完美。如果我们将这些离群点删除掉，模型的性能就无法达到最佳状态。因此，在平衡和取舍之间需要做出选择。\n",
    "\n",
    "我们可以训练两种模型：一种包含这些离群点，另一种则不包含。然后进行比较分析。在这里我建议保留这些“离群点”。"
   ]
  },
  {
   "cell_type": "markdown",
   "id": "d432528a",
   "metadata": {},
   "source": [
    "## 特征工程\n",
    "\n",
    "特征是要输入机器学习模型的变量，它们是所收集的各个数据点。而标签则是要预测、判断或分类的内容。对于所有监督学习算法，我们都需要提供“特征集”和“标签集”这两组数据作为模型的输入。因此，在构建机器学习模型之前，我们需要先创建一个特征数据集和一个标签数据集。\n",
    "\n",
    "具体构建过程非常简单，只需从原始数据集中删除不需要的信息即可。在本项目中，特征包括点赞数、转发数、热度指数和文章评级，因此只需将“浏览量”从原始数据集中删除即可。"
   ]
  },
  {
   "cell_type": "code",
   "execution_count": 10,
   "id": "e181c475",
   "metadata": {},
   "outputs": [],
   "source": [
    "X = df_ads.drop(['浏览量'],axis=1) # 特征集，Drop掉便签相关字段\n",
    "y = df_ads.浏览量 # 标签集"
   ]
  },
  {
   "cell_type": "markdown",
   "id": "4ab27450",
   "metadata": {},
   "source": [
    "上述两行代码通过从原始数据集 `df_ads` 中分离和提取特征集和标签集，为接下来构建和训练监督学习模型做了准备。具体来说：\n",
    "\n",
    "1. 第一行代码从 `df_ads` 中删除了 '浏览量' 这一列，并将剩余的所有列作为特征集（输入）赋值给了变量 `X`。\n",
    "2. 第二行代码从 `df_ads` 中提取了 '浏览量' 这一列，并将其作为标签集（目标变量/输出）赋值给了变量 `y`。\n",
    "\n",
    "通过这两个步骤，你已经成功地将原始数据集划分为特征集（X）和标签集（y），使得你可以用这些数据训练和评估机器学习模型。这是监督学习任务中构建模型的一个基本步骤。"
   ]
  },
  {
   "cell_type": "code",
   "execution_count": 11,
   "id": "26669a34",
   "metadata": {},
   "outputs": [
    {
     "data": {
      "text/html": [
       "<div>\n",
       "<style scoped>\n",
       "    .dataframe tbody tr th:only-of-type {\n",
       "        vertical-align: middle;\n",
       "    }\n",
       "\n",
       "    .dataframe tbody tr th {\n",
       "        vertical-align: top;\n",
       "    }\n",
       "\n",
       "    .dataframe thead th {\n",
       "        text-align: right;\n",
       "    }\n",
       "</style>\n",
       "<table border=\"1\" class=\"dataframe\">\n",
       "  <thead>\n",
       "    <tr style=\"text-align: right;\">\n",
       "      <th></th>\n",
       "      <th>点赞数</th>\n",
       "      <th>转发数</th>\n",
       "      <th>热度指数</th>\n",
       "      <th>文章评级</th>\n",
       "    </tr>\n",
       "  </thead>\n",
       "  <tbody>\n",
       "    <tr>\n",
       "      <th>0</th>\n",
       "      <td>2646</td>\n",
       "      <td>1347.0</td>\n",
       "      <td>7</td>\n",
       "      <td>5</td>\n",
       "    </tr>\n",
       "    <tr>\n",
       "      <th>1</th>\n",
       "      <td>816</td>\n",
       "      <td>816.0</td>\n",
       "      <td>4</td>\n",
       "      <td>6</td>\n",
       "    </tr>\n",
       "    <tr>\n",
       "      <th>2</th>\n",
       "      <td>1224</td>\n",
       "      <td>612.0</td>\n",
       "      <td>6</td>\n",
       "      <td>5</td>\n",
       "    </tr>\n",
       "    <tr>\n",
       "      <th>3</th>\n",
       "      <td>1261</td>\n",
       "      <td>1261.0</td>\n",
       "      <td>6</td>\n",
       "      <td>6</td>\n",
       "    </tr>\n",
       "    <tr>\n",
       "      <th>4</th>\n",
       "      <td>1720</td>\n",
       "      <td>1720.0</td>\n",
       "      <td>7</td>\n",
       "      <td>5</td>\n",
       "    </tr>\n",
       "  </tbody>\n",
       "</table>\n",
       "</div>"
      ],
      "text/plain": [
       "    点赞数     转发数  热度指数  文章评级\n",
       "0  2646  1347.0     7     5\n",
       "1   816   816.0     4     6\n",
       "2  1224   612.0     6     5\n",
       "3  1261  1261.0     6     6\n",
       "4  1720  1720.0     7     5"
      ]
     },
     "execution_count": 11,
     "metadata": {},
     "output_type": "execute_result"
    }
   ],
   "source": [
    "X.head() # 显示前几行数据"
   ]
  },
  {
   "cell_type": "code",
   "execution_count": 12,
   "id": "d3e87cef",
   "metadata": {},
   "outputs": [
    {
     "data": {
      "text/plain": [
       "0    260004\n",
       "1    100004\n",
       "2    164502\n",
       "3    163001\n",
       "4    260401\n",
       "Name: 浏览量, dtype: int64"
      ]
     },
     "execution_count": 12,
     "metadata": {},
     "output_type": "execute_result"
    }
   ],
   "source": [
    "y.head() # 显示前几行数据"
   ]
  },
  {
   "cell_type": "markdown",
   "id": "90868535",
   "metadata": {},
   "source": [
    "## 拆分训练集和验证集\n",
    "\n",
    "在学习型项目中，为了简化流程，通常会省略验证环节。由于今天的项目相对简单，我们也省略了验证步骤，只将数据集分成训练集和测试集。因此，测试集现在承担着验证和测试的双重功能。"
   ]
  },
  {
   "cell_type": "code",
   "execution_count": 13,
   "id": "c263356f",
   "metadata": {},
   "outputs": [],
   "source": [
    "# 将数据集进行80%（训练集）和20%（验证集）的分割\n",
    "from sklearn.model_selection import train_test_split\n",
    "X_train, X_test, y_train, y_test = train_test_split(X, y, \n",
    "                                   test_size=0.2, random_state=10)"
   ]
  },
  {
   "cell_type": "markdown",
   "id": "5402b18e",
   "metadata": {},
   "source": [
    "这段代码实现了将特征集 `X` 和标签集 `y` 分割成训练集和验证集的操作。典型的监督学习任务需要将原始数据集分割成训练集和验证集，以便在训练集上训练模型并在验证集上进行评估。这个过程有以下几个步骤：\n",
    "\n",
    "1. 从 `sklearn.model_selection` 模块导入 `train_test_split` 函数。\n",
    "2. 使用 `train_test_split` 函数把 `X` 和 `y` 分割成训练集和验证集。这里选择了 80% 的数据作为训练集，剩下的 20% 作为验证集（通过设定 `test_size=0.2`）。`random_state` 参数设置为 0，以确保每次运行代码时都能获得相同的数据分割，从而保证实验结果的一致性。\n",
    "3. 将分割后的数据分配给相应的变量：`X_train`、`y_train` 作为训练集（输入和输出，用于训练模型）；`X_test` 和 `y_test` 作为验证集（输入和输出，用于评估模型性能）。\n",
    "\n",
    "通过这段代码，你已经实现了对原始数据集的分割。这将有助于评估你的模型在独立数据集（未知样本）上的泛化性能和预测能力。"
   ]
  },
  {
   "cell_type": "markdown",
   "id": "e5272c6f",
   "metadata": {},
   "source": [
    "# 选择算法和建模\n",
    "\n",
    "这个数据集中的某些特征和标签之间存在近似线性关系。由于标签是连续变量，因此适合使用回归分析来找到从特征到标签的预测函数。\n",
    "\n",
    "回归分析是一种统计分析方法，用于确定两个或多个变量之间相互依赖的定量关系。简单来说，当自变量发生变化时，研究因变量如何随之变化。它可以用于预测客流量、降雨量、销售额等。\n",
    "\n",
    "然而，回归分析有许多不同的算法可供选择，例如线性回归、多项式回归和贝叶斯回归等。具体选择哪种算法取决于特征和标签之间的关系。\n",
    "\n",
    "我们在之前的可视化过程中，推测特征和标签可能存在线性关系，并且用散点图进行了简单验证。因此，在这里我们选择使用线性回归算法进行建模。\n",
    "线性回归算法是最简单、最基础的机器学习算法，它的主要目标是为每个特征变量找到合适的参数。\n",
    "\n",
    "确定好算法后，我们需要考虑使用哪个算法包来建立模型。对于机器学习而言，最常用的工具包是scikit-learn（简称sklearn），它是Python中最广泛使用的开源机器学习库，被誉为机器学习神器。sklearn提供了大量用于数据挖掘的机器学习工具，包括数据预处理、可视化、交叉验证和多种机器学习算法。\n",
    "\n",
    "尽管我们已经决定使用线性回归算法，在sklearn中仍然有许多线性回归算法包可供选择，例如基本的LinearRegression以及其衍生出来的Lasso回归和Ridge回归等。\n",
    "\n",
    "那么哪个算法包适合我们这个项目呢？实际上，通常情况下我们会从能够解决问题的最简单算法开始尝试，并持续尝试直到获得满意结果为止。对于这个项目而言，我们选择了LinearRegression作为最常见且基础的回归算法包。"
   ]
  },
  {
   "cell_type": "code",
   "execution_count": 14,
   "id": "e8d4874f",
   "metadata": {},
   "outputs": [],
   "source": [
    "from sklearn.linear_model import LinearRegression # 导入线性回归算法模型\n",
    "model = LinearRegression() # 使用线性回归算法创建模型"
   ]
  },
  {
   "cell_type": "markdown",
   "id": "98b404d4",
   "metadata": {},
   "source": [
    "这段代码展示了如何使用 Python 的 scikit-learn 库来实现线性回归，下面是代码的解释：\n",
    "\n",
    "1. `from sklearn.linear_model import LinearRegression`：这行代码导入了 `sklearn.linear_model` 模块中的 `LinearRegression` 类。`LinearRegression` 类是 scikit-learn 中用于实现线性回归的代表。\n",
    "\n",
    "2. `linereg_model = LinearRegression()`：这行代码使用默认参数创建了一个 `LinearRegression` 对象，即创建了一个线性回归模型。这个模型将用于拟合数据（训练）和预测新数据点（测试）。\n",
    "\n",
    "---\n",
    "在建立模型时，需要了解模型的外部参数，并指定它们的值。模型有两种参数：内部参数和外部参数。内部参数是算法本身的一部分，不需要人工确定，例如线性回归模型中的权重 w 和截距 b。而外部参数也称为超参数，在创建模型时由我们自己设定其值。\n",
    "\n",
    "对于 LinearRegression 模型来说，主要包括两个布尔类型的外部参数：\n",
    "- fit_intercept，默认值为 True，表示是否计算截距。\n",
    "- normalize，默认值为 False，表示是否在回归之前对特征 X 进行规范化。\n",
    "\n",
    "然而，在简单模型中，默认的外部参数设置通常是不错的选择。因此，我们可以直接调用模型而不显式指定外部参数。在上述代码中，我就是使用了默认值来创建模型。"
   ]
  },
  {
   "cell_type": "markdown",
   "id": "4997747f",
   "metadata": {},
   "source": [
    "# 训练模型\n",
    "\n",
    "训练模型的过程是通过使用训练集中的特征变量和已知标签，根据当前样本的损失大小逐渐拟合函数，并确定最优的内部参数，从而完成模型。尽管这些步骤看起来复杂，但我们可以通过调用 fit 方法来简化操作。\n",
    "\n",
    "fit 方法是机器学习的核心环节，其中包含了多个具体的机器学习核心算法。我们只需要将特征训练数据集和标签训练数据集作为参数传递给 fit 方法即可。"
   ]
  },
  {
   "cell_type": "code",
   "execution_count": 15,
   "id": "58e915e2",
   "metadata": {},
   "outputs": [
    {
     "data": {
      "text/html": [
       "<style>#sk-container-id-1 {color: black;background-color: white;}#sk-container-id-1 pre{padding: 0;}#sk-container-id-1 div.sk-toggleable {background-color: white;}#sk-container-id-1 label.sk-toggleable__label {cursor: pointer;display: block;width: 100%;margin-bottom: 0;padding: 0.3em;box-sizing: border-box;text-align: center;}#sk-container-id-1 label.sk-toggleable__label-arrow:before {content: \"▸\";float: left;margin-right: 0.25em;color: #696969;}#sk-container-id-1 label.sk-toggleable__label-arrow:hover:before {color: black;}#sk-container-id-1 div.sk-estimator:hover label.sk-toggleable__label-arrow:before {color: black;}#sk-container-id-1 div.sk-toggleable__content {max-height: 0;max-width: 0;overflow: hidden;text-align: left;background-color: #f0f8ff;}#sk-container-id-1 div.sk-toggleable__content pre {margin: 0.2em;color: black;border-radius: 0.25em;background-color: #f0f8ff;}#sk-container-id-1 input.sk-toggleable__control:checked~div.sk-toggleable__content {max-height: 200px;max-width: 100%;overflow: auto;}#sk-container-id-1 input.sk-toggleable__control:checked~label.sk-toggleable__label-arrow:before {content: \"▾\";}#sk-container-id-1 div.sk-estimator input.sk-toggleable__control:checked~label.sk-toggleable__label {background-color: #d4ebff;}#sk-container-id-1 div.sk-label input.sk-toggleable__control:checked~label.sk-toggleable__label {background-color: #d4ebff;}#sk-container-id-1 input.sk-hidden--visually {border: 0;clip: rect(1px 1px 1px 1px);clip: rect(1px, 1px, 1px, 1px);height: 1px;margin: -1px;overflow: hidden;padding: 0;position: absolute;width: 1px;}#sk-container-id-1 div.sk-estimator {font-family: monospace;background-color: #f0f8ff;border: 1px dotted black;border-radius: 0.25em;box-sizing: border-box;margin-bottom: 0.5em;}#sk-container-id-1 div.sk-estimator:hover {background-color: #d4ebff;}#sk-container-id-1 div.sk-parallel-item::after {content: \"\";width: 100%;border-bottom: 1px solid gray;flex-grow: 1;}#sk-container-id-1 div.sk-label:hover label.sk-toggleable__label {background-color: #d4ebff;}#sk-container-id-1 div.sk-serial::before {content: \"\";position: absolute;border-left: 1px solid gray;box-sizing: border-box;top: 0;bottom: 0;left: 50%;z-index: 0;}#sk-container-id-1 div.sk-serial {display: flex;flex-direction: column;align-items: center;background-color: white;padding-right: 0.2em;padding-left: 0.2em;position: relative;}#sk-container-id-1 div.sk-item {position: relative;z-index: 1;}#sk-container-id-1 div.sk-parallel {display: flex;align-items: stretch;justify-content: center;background-color: white;position: relative;}#sk-container-id-1 div.sk-item::before, #sk-container-id-1 div.sk-parallel-item::before {content: \"\";position: absolute;border-left: 1px solid gray;box-sizing: border-box;top: 0;bottom: 0;left: 50%;z-index: -1;}#sk-container-id-1 div.sk-parallel-item {display: flex;flex-direction: column;z-index: 1;position: relative;background-color: white;}#sk-container-id-1 div.sk-parallel-item:first-child::after {align-self: flex-end;width: 50%;}#sk-container-id-1 div.sk-parallel-item:last-child::after {align-self: flex-start;width: 50%;}#sk-container-id-1 div.sk-parallel-item:only-child::after {width: 0;}#sk-container-id-1 div.sk-dashed-wrapped {border: 1px dashed gray;margin: 0 0.4em 0.5em 0.4em;box-sizing: border-box;padding-bottom: 0.4em;background-color: white;}#sk-container-id-1 div.sk-label label {font-family: monospace;font-weight: bold;display: inline-block;line-height: 1.2em;}#sk-container-id-1 div.sk-label-container {text-align: center;}#sk-container-id-1 div.sk-container {/* jupyter's `normalize.less` sets `[hidden] { display: none; }` but bootstrap.min.css set `[hidden] { display: none !important; }` so we also need the `!important` here to be able to override the default hidden behavior on the sphinx rendered scikit-learn.org. See: https://github.com/scikit-learn/scikit-learn/issues/21755 */display: inline-block !important;position: relative;}#sk-container-id-1 div.sk-text-repr-fallback {display: none;}</style><div id=\"sk-container-id-1\" class=\"sk-top-container\"><div class=\"sk-text-repr-fallback\"><pre>LinearRegression()</pre><b>In a Jupyter environment, please rerun this cell to show the HTML representation or trust the notebook. <br />On GitHub, the HTML representation is unable to render, please try loading this page with nbviewer.org.</b></div><div class=\"sk-container\" hidden><div class=\"sk-item\"><div class=\"sk-estimator sk-toggleable\"><input class=\"sk-toggleable__control sk-hidden--visually\" id=\"sk-estimator-id-1\" type=\"checkbox\" checked><label for=\"sk-estimator-id-1\" class=\"sk-toggleable__label sk-toggleable__label-arrow\">LinearRegression</label><div class=\"sk-toggleable__content\"><pre>LinearRegression()</pre></div></div></div></div></div>"
      ],
      "text/plain": [
       "LinearRegression()"
      ]
     },
     "execution_count": 15,
     "metadata": {},
     "output_type": "execute_result"
    }
   ],
   "source": [
    "model.fit(X_train, y_train) # 用训练集数据，训练机器，拟合函数，确定内部参数"
   ]
  },
  {
   "cell_type": "markdown",
   "id": "99c979d0",
   "metadata": {},
   "source": [
    "这行代码使用训练集数据（`X_train` 和 `y_train`）来训练线性回归模型 `linereg_model`。这里的 `fit()` 方法根据输入的特征矩阵 `X_train` 和对应的目标向量 `y_train` 去学习（拟合）模型的参数。\n",
    "\n",
    "在线性回归的情况下，模型的参数包括权重系数（也称为斜率）和偏置项（也称为截距）。简单线性回归的数学表达式是 `y = wx + b`，其中 `y` 是目标值，`x` 是特征，`w` 是权重系数，`b` 是偏置项。多元线性回归的数学表达式为 `y = w1*x1 + w2*x2 + ... + wn*xn + b`，其中 `w1, w2, ..., wn` 是权重系数，`x1, x2, ..., xn` 是特征。\n",
    "\n",
    "`fit()` 方法试图找到一组最优的权重系数和偏置项，使得模型预测值与真实值之间的误差最小。误差一般采用平方和（sum of squared error, SSE）来表示。线性回归使用最小二乘法（least squares method）来达到这个目的。\n",
    "\n",
    "训练完成后，可以使用 `predict()` 方法进行预测，以及使用模型的属性 `coef_` 和 `intercept_` 分别查看学习到的权重系数和偏置项。\n",
    "\n",
    "---\n",
    "经过上述步骤，我们已经完成了模型的训练。也许你会感到奇怪，因为在机器学习中，训练模型是核心环节，但为什么只有一句代码呢？实际上，正如我之前强调的那样，由于优秀的机器学习库存在，我们可以用很少的代码实现强大的功能。因此，请不要小看上面这个简单的 `fit` 语句，它是模型进行自我学习的关键过程。\n",
    "\n",
    "在这个过程中，“`fit`” 的主要目标就是减少损失函数，并使得模型对特征与标签之间关系越来越贴切。"
   ]
  },
  {
   "cell_type": "markdown",
   "id": "74fc8ff2",
   "metadata": {},
   "source": [
    "# 模型的评估和优化\n",
    "\n",
    "梯度下降是用于在训练集上拟合模型并最小化误差的算法，通过调整模型的内部参数来实现。而在验证集或测试集上评估模型效果时，我们则通过最小化误差来优化超参数（即模型的外部参数）。\n",
    "\n",
    "\n",
    "为此，机器学习工具包（如`scikit-learn`）提供了常用的工具和指标，用于对验证集和测试集进行评估，并计算当前的误差。例如R2或MSE均方误差指标可用于评估回归分析模型的优劣。\n",
    "\n",
    "在“模型的评估和优化”这一步中，我们需要将预测的测试集浏览量与实际值进行比较，以求得模型的性能。\n",
    "\n",
    "对于当前的项目，要预测测试集的浏览量，只需使用已训练好的模型 `linereg_model` 中的 `predict` 方法，在特征测试集 `X_test`上进行预测。该方法将返回对测试集的预测结果。"
   ]
  },
  {
   "cell_type": "code",
   "execution_count": 16,
   "id": "f4cf9191",
   "metadata": {},
   "outputs": [],
   "source": [
    "y_pred = model.predict(X_test) #预测测试集的Y值"
   ]
  },
  {
   "cell_type": "markdown",
   "id": "90216061",
   "metadata": {},
   "source": [
    "这行代码使用之前训练好的线性回归模型 `linereg_model` 对测试集数据 `X_test` 进行预测。`predict()` 方法根据输入的特征矩阵 `X_test` 得出预测的目标值。它将使用模型内部学到的权重系数和偏置项来计算这些预测值。\n",
    "\n",
    "在线性回归的例子中，对每个测试数据点，模型会计算 `y = w1*x1 + w2*x2 + ... + wn*xn + b`，其中 `w1, w2, ..., wn` 是权重系数，`x1, x2, ..., xn` 是单个数据点的特征，`b` 是偏置项。对于多个数据点，计算将以矩阵形式同时进行。\n",
    "\n",
    "`y_pred` 是一个包含模型预测结果的数组，它与测试集数据 `X_test` 中的数据点一一对应。接下来，可以通过将这些预测结果与实际目标值（通常表示为 `y_test`）进行比较来评估模型的性能。通常会使用诸如均方误差（MSE）、平均绝对误差（MAE）或 R-squared 等指标。"
   ]
  },
  {
   "cell_type": "code",
   "execution_count": 17,
   "id": "bc6e1444",
   "metadata": {},
   "outputs": [
    {
     "data": {
      "text/html": [
       "<div>\n",
       "<style scoped>\n",
       "    .dataframe tbody tr th:only-of-type {\n",
       "        vertical-align: middle;\n",
       "    }\n",
       "\n",
       "    .dataframe tbody tr th {\n",
       "        vertical-align: top;\n",
       "    }\n",
       "\n",
       "    .dataframe thead th {\n",
       "        text-align: right;\n",
       "    }\n",
       "</style>\n",
       "<table border=\"1\" class=\"dataframe\">\n",
       "  <thead>\n",
       "    <tr style=\"text-align: right;\">\n",
       "      <th></th>\n",
       "      <th>点赞数</th>\n",
       "      <th>转发数</th>\n",
       "      <th>热度指数</th>\n",
       "      <th>文章评级</th>\n",
       "      <th>浏览量真值</th>\n",
       "      <th>浏览量预测值</th>\n",
       "    </tr>\n",
       "  </thead>\n",
       "  <tbody>\n",
       "    <tr>\n",
       "      <th>150</th>\n",
       "      <td>1768</td>\n",
       "      <td>884.0</td>\n",
       "      <td>7</td>\n",
       "      <td>5</td>\n",
       "      <td>224904</td>\n",
       "      <td>204326.495272</td>\n",
       "    </tr>\n",
       "    <tr>\n",
       "      <th>36</th>\n",
       "      <td>988</td>\n",
       "      <td>988.0</td>\n",
       "      <td>5</td>\n",
       "      <td>5</td>\n",
       "      <td>113001</td>\n",
       "      <td>117182.827329</td>\n",
       "    </tr>\n",
       "    <tr>\n",
       "      <th>1049</th>\n",
       "      <td>2062</td>\n",
       "      <td>1157.0</td>\n",
       "      <td>7</td>\n",
       "      <td>5</td>\n",
       "      <td>277002</td>\n",
       "      <td>236266.050505</td>\n",
       "    </tr>\n",
       "    <tr>\n",
       "      <th>393</th>\n",
       "      <td>1392</td>\n",
       "      <td>1392.0</td>\n",
       "      <td>5</td>\n",
       "      <td>6</td>\n",
       "      <td>121502</td>\n",
       "      <td>166316.290479</td>\n",
       "    </tr>\n",
       "    <tr>\n",
       "      <th>1255</th>\n",
       "      <td>1537</td>\n",
       "      <td>1319.0</td>\n",
       "      <td>6</td>\n",
       "      <td>9</td>\n",
       "      <td>174002</td>\n",
       "      <td>206254.835807</td>\n",
       "    </tr>\n",
       "    <tr>\n",
       "      <th>...</th>\n",
       "      <td>...</td>\n",
       "      <td>...</td>\n",
       "      <td>...</td>\n",
       "      <td>...</td>\n",
       "      <td>...</td>\n",
       "      <td>...</td>\n",
       "    </tr>\n",
       "    <tr>\n",
       "      <th>497</th>\n",
       "      <td>1913</td>\n",
       "      <td>896.0</td>\n",
       "      <td>6</td>\n",
       "      <td>6</td>\n",
       "      <td>177004</td>\n",
       "      <td>189916.572692</td>\n",
       "    </tr>\n",
       "    <tr>\n",
       "      <th>644</th>\n",
       "      <td>1500</td>\n",
       "      <td>1356.0</td>\n",
       "      <td>7</td>\n",
       "      <td>5</td>\n",
       "      <td>246582</td>\n",
       "      <td>218800.099624</td>\n",
       "    </tr>\n",
       "    <tr>\n",
       "      <th>38</th>\n",
       "      <td>1258</td>\n",
       "      <td>1258.0</td>\n",
       "      <td>7</td>\n",
       "      <td>5</td>\n",
       "      <td>172504</td>\n",
       "      <td>200171.838771</td>\n",
       "    </tr>\n",
       "    <tr>\n",
       "      <th>943</th>\n",
       "      <td>438</td>\n",
       "      <td>290.0</td>\n",
       "      <td>2</td>\n",
       "      <td>5</td>\n",
       "      <td>60004</td>\n",
       "      <td>-32628.683687</td>\n",
       "    </tr>\n",
       "    <tr>\n",
       "      <th>1170</th>\n",
       "      <td>1350</td>\n",
       "      <td>1248.0</td>\n",
       "      <td>6</td>\n",
       "      <td>5</td>\n",
       "      <td>168505</td>\n",
       "      <td>178150.881315</td>\n",
       "    </tr>\n",
       "  </tbody>\n",
       "</table>\n",
       "<p>285 rows × 6 columns</p>\n",
       "</div>"
      ],
      "text/plain": [
       "       点赞数     转发数  热度指数  文章评级   浏览量真值         浏览量预测值\n",
       "150   1768   884.0     7     5  224904  204326.495272\n",
       "36     988   988.0     5     5  113001  117182.827329\n",
       "1049  2062  1157.0     7     5  277002  236266.050505\n",
       "393   1392  1392.0     5     6  121502  166316.290479\n",
       "1255  1537  1319.0     6     9  174002  206254.835807\n",
       "...    ...     ...   ...   ...     ...            ...\n",
       "497   1913   896.0     6     6  177004  189916.572692\n",
       "644   1500  1356.0     7     5  246582  218800.099624\n",
       "38    1258  1258.0     7     5  172504  200171.838771\n",
       "943    438   290.0     2     5   60004  -32628.683687\n",
       "1170  1350  1248.0     6     5  168505  178150.881315\n",
       "\n",
       "[285 rows x 6 columns]"
      ]
     },
     "execution_count": 17,
     "metadata": {},
     "output_type": "execute_result"
    }
   ],
   "source": [
    "df_ads_pred = X_test.copy() #测试集特征数据\n",
    "df_ads_pred['浏览量真值'] = y_test #测试集标签真值\n",
    "df_ads_pred['浏览量预测值'] = y_pred #测试集标签预测值\n",
    "df_ads_pred #显示数据"
   ]
  },
  {
   "cell_type": "markdown",
   "id": "b747dabd",
   "metadata": {},
   "source": [
    "这几行代码首先创建一个名为 `df_ads_pred` 的新 DataFrame，它是测试集特征数据 `X_test` 的副本。接下来，向该 DataFrame 添加两列：\n",
    "\n",
    "1. '浏览量真值' 列：包含测试集的实际目标值，即 `y_test`\n",
    "2. '浏览量预测值' 列：包含模型对测试集数据预测的目标值，即 `y_pred`\n",
    "\n",
    "最后一行代码将显示 `df_ads_pred` DataFrame 的内容。这个 DataFrame 囊括了测试集的特征、实际目标值以及模型预测的目标值。你可以直观地从这个表格观察预测结果与实际值之间的差异。除此之外，你还可以利用评估指标（如均方误差、平均绝对误差或 R-squared 等）对模型性能进行量化分析"
   ]
  },
  {
   "cell_type": "code",
   "execution_count": 18,
   "id": "017a5690",
   "metadata": {},
   "outputs": [
    {
     "name": "stdout",
     "output_type": "stream",
     "text": [
      "当前模型的4个特征的权重分别是:  [   52.4893649     60.46769946 26245.3020327   3498.80914868]\n",
      "当前模型的截距（偏置）是:  -143139.30816556976\n"
     ]
    }
   ],
   "source": [
    "print('当前模型的4个特征的权重分别是: ', model.coef_)\n",
    "print('当前模型的截距（偏置）是: ', model.intercept_)"
   ]
  },
  {
   "cell_type": "markdown",
   "id": "eb5a8a16",
   "metadata": {},
   "source": [
    "这段代码的目的是展示一个线性回归模型的权重（即系数）和截距（即偏置）参数。\n",
    "\n",
    "`model.coef_` 是一个包含模型各个特征权重（系数）的数组。在这里，有4个特征，对应的权重分别为：52.49、60.47、26245.30和3498.81。这些权重表示每个特征对预测结果的贡献。例如，第一个特征的权重为52.49，这意味着当第一个特征值增加1单位时，预测结果将增加约52.49个单位。\n",
    "\n",
    "`model.intercept_` 是模型的截距（偏置），它表示在所有特征值都为0时模型的预测值。在这个例子中，截距（偏置）为-143139.31。这个值在实际应用中可能没有直观的意义，但从数学角度来说，它为线性回归方程提供了一个基准。\n",
    "\n",
    "这里评估结果是否合理需要具体观察数据和问题背景。权重（系数）和截距（偏置）可以帮助我们理解特征与目标之间的关系，但是这些数值本身并不能告诉我们模型的表现。\n",
    "\n",
    "要评估模型的好坏，还需要使用评估指标（如R²分数）来查看模型的预测表现。可以通过交叉验证、与其他模型的对比、查看残差图等方式来判断模型是否需要调整。此外，可以尝试通过特征选择、正则化方法或其他优化方式来提高模型的性能。"
   ]
  },
  {
   "cell_type": "code",
   "execution_count": 19,
   "id": "6004e794",
   "metadata": {},
   "outputs": [
    {
     "name": "stdout",
     "output_type": "stream",
     "text": [
      "线性回归预测评分： 0.4189365095307419\n"
     ]
    }
   ],
   "source": [
    "print(\"线性回归预测评分：\", model.score(X_test, y_test)) # 评估模型"
   ]
  },
  {
   "cell_type": "markdown",
   "id": "c86f0e12",
   "metadata": {},
   "source": [
    "这个命令用于评估线性回归模型的预测性能。`model.score(X_test, y_test)` 通过计算测试集（`X_test` 和 `y_test`）上的 R² 分数（关系系数判定系数，或称为可决系数）来衡量模型的预测准确性。R² 分数的取值范围为0到1，其中1表示模型预测完美，而0表示模型在预测时表现得非常差。\n",
    "\n",
    "在这里，线性回归预测评分（R² 分数）为 0.4189。这意味着模型中大约 41.89% 的目标变量可由特征变量预测。此结果在一般情况下表现是较低的，这表明模型在预测目标变量方面具有很大的改进空间。可能的原因是特征不够代表性，模型过于简单或存在一些噪声数据。\n",
    "\n",
    "建议尝试以下方法来提高模型性能：\n",
    "\n",
    "1. 特征选择：对输入特征进行相关性分析，选择与目标变量相关性更高的特征。也可以尝试使用更复杂的特征选择方法，如 LASSO 回归和递归特征消除（Recursive Feature Elimination, RFE）。\n",
    "\n",
    "2. 添加多项式特征：如果模型过于简单，可以尝试通过添加多项式特征（例如特征的平方和立方）来增加模型的复杂性。但注意不要过拟合。\n",
    "\n",
    "3. 参数调整：调整模型的参数，例如通过正则化来改善模型的鲁棒性。可以尝试使用岭回归（Ridge Regression）和 LASSO 回归等正则化方法。\n",
    "\n",
    "4. 数据预处理：对数据进行规范化、缩放或者清除异常值等操作，以降低噪声数据对模型预测性能的影响。\n",
    "\n",
    "5. 尝试其他模型：如果线性回归模型根本无法捕捉到数据中的关系，可以尝试使用其他更复杂的模型，如支持向量机、随机森林和神经网络等。"
   ]
  },
  {
   "cell_type": "code",
   "execution_count": null,
   "id": "c0d13b7f",
   "metadata": {},
   "outputs": [],
   "source": []
  }
 ],
 "metadata": {
  "kernelspec": {
   "display_name": "Python 3 (ipykernel)",
   "language": "python",
   "name": "python3"
  },
  "language_info": {
   "codemirror_mode": {
    "name": "ipython",
    "version": 3
   },
   "file_extension": ".py",
   "mimetype": "text/x-python",
   "name": "python",
   "nbconvert_exporter": "python",
   "pygments_lexer": "ipython3",
   "version": "3.10.9"
  }
 },
 "nbformat": 4,
 "nbformat_minor": 5
}
