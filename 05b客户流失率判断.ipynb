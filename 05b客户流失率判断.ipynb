{
 "cells": [
  {
   "cell_type": "markdown",
   "metadata": {},
   "source": [
    "# 问题定义\n",
    "\n",
    "基于05a，判断易速鲜花会员的是否会流失，这是一个典型的的二元分类问题，因此本练习通过逻辑回归和神经网络等机器学习模型，以判断出客户是否会流失。\n"
   ]
  },
  {
   "cell_type": "markdown",
   "metadata": {},
   "source": [
    "# 数据预处理"
   ]
  },
  {
   "cell_type": "code",
   "execution_count": 1,
   "metadata": {},
   "outputs": [],
   "source": [
    "import numpy as np # 导入NumPy\n",
    "import pandas as pd # 导入Pandas\n",
    "import matplotlib.pyplot as plt # 导入matplotlib.pyplot"
   ]
  },
  {
   "cell_type": "code",
   "execution_count": 2,
   "metadata": {
    "scrolled": false
   },
   "outputs": [
    {
     "data": {
      "text/html": [
       "<div>\n",
       "<style scoped>\n",
       "    .dataframe tbody tr th:only-of-type {\n",
       "        vertical-align: middle;\n",
       "    }\n",
       "\n",
       "    .dataframe tbody tr th {\n",
       "        vertical-align: top;\n",
       "    }\n",
       "\n",
       "    .dataframe thead th {\n",
       "        text-align: right;\n",
       "    }\n",
       "</style>\n",
       "<table border=\"1\" class=\"dataframe\">\n",
       "  <thead>\n",
       "    <tr style=\"text-align: right;\">\n",
       "      <th></th>\n",
       "      <th>用户码</th>\n",
       "      <th>性别</th>\n",
       "      <th>玫瑰套餐</th>\n",
       "      <th>紫罗兰套餐</th>\n",
       "      <th>郁金香套餐</th>\n",
       "      <th>百合套餐</th>\n",
       "      <th>康乃馨套餐</th>\n",
       "      <th>胡姬花套餐</th>\n",
       "      <th>生日套餐</th>\n",
       "      <th>情人节套餐</th>\n",
       "      <th>会员卡类型</th>\n",
       "      <th>入会月数</th>\n",
       "      <th>会费支付方式</th>\n",
       "      <th>平均月消费</th>\n",
       "      <th>总消费</th>\n",
       "      <th>已停付会费</th>\n",
       "    </tr>\n",
       "  </thead>\n",
       "  <tbody>\n",
       "    <tr>\n",
       "      <th>0</th>\n",
       "      <td>1</td>\n",
       "      <td>女</td>\n",
       "      <td>是</td>\n",
       "      <td>是</td>\n",
       "      <td>否</td>\n",
       "      <td>是</td>\n",
       "      <td>否</td>\n",
       "      <td>是</td>\n",
       "      <td>是</td>\n",
       "      <td>否</td>\n",
       "      <td>年卡</td>\n",
       "      <td>9</td>\n",
       "      <td>手工转账</td>\n",
       "      <td>65.60</td>\n",
       "      <td>593.3</td>\n",
       "      <td>否</td>\n",
       "    </tr>\n",
       "    <tr>\n",
       "      <th>1</th>\n",
       "      <td>2</td>\n",
       "      <td>男</td>\n",
       "      <td>否</td>\n",
       "      <td>否</td>\n",
       "      <td>否</td>\n",
       "      <td>否</td>\n",
       "      <td>否</td>\n",
       "      <td>否</td>\n",
       "      <td>否</td>\n",
       "      <td>是</td>\n",
       "      <td>月卡</td>\n",
       "      <td>9</td>\n",
       "      <td>手工转账</td>\n",
       "      <td>59.90</td>\n",
       "      <td>542.4</td>\n",
       "      <td>否</td>\n",
       "    </tr>\n",
       "    <tr>\n",
       "      <th>2</th>\n",
       "      <td>3</td>\n",
       "      <td>男</td>\n",
       "      <td>否</td>\n",
       "      <td>否</td>\n",
       "      <td>否</td>\n",
       "      <td>否</td>\n",
       "      <td>是</td>\n",
       "      <td>否</td>\n",
       "      <td>否</td>\n",
       "      <td>否</td>\n",
       "      <td>月卡</td>\n",
       "      <td>4</td>\n",
       "      <td>就餐时付费</td>\n",
       "      <td>73.90</td>\n",
       "      <td>280.85</td>\n",
       "      <td>是</td>\n",
       "    </tr>\n",
       "    <tr>\n",
       "      <th>3</th>\n",
       "      <td>4</td>\n",
       "      <td>男</td>\n",
       "      <td>是</td>\n",
       "      <td>否</td>\n",
       "      <td>否</td>\n",
       "      <td>是</td>\n",
       "      <td>是</td>\n",
       "      <td>否</td>\n",
       "      <td>是</td>\n",
       "      <td>是</td>\n",
       "      <td>月卡</td>\n",
       "      <td>13</td>\n",
       "      <td>就餐时付费</td>\n",
       "      <td>98.00</td>\n",
       "      <td>1237.85</td>\n",
       "      <td>是</td>\n",
       "    </tr>\n",
       "    <tr>\n",
       "      <th>4</th>\n",
       "      <td>5</td>\n",
       "      <td>女</td>\n",
       "      <td>否</td>\n",
       "      <td>是</td>\n",
       "      <td>否</td>\n",
       "      <td>否</td>\n",
       "      <td>否</td>\n",
       "      <td>是</td>\n",
       "      <td>是</td>\n",
       "      <td>是</td>\n",
       "      <td>月卡</td>\n",
       "      <td>9</td>\n",
       "      <td>花呗付款</td>\n",
       "      <td>69.40</td>\n",
       "      <td>571.45</td>\n",
       "      <td>否</td>\n",
       "    </tr>\n",
       "    <tr>\n",
       "      <th>...</th>\n",
       "      <td>...</td>\n",
       "      <td>...</td>\n",
       "      <td>...</td>\n",
       "      <td>...</td>\n",
       "      <td>...</td>\n",
       "      <td>...</td>\n",
       "      <td>...</td>\n",
       "      <td>...</td>\n",
       "      <td>...</td>\n",
       "      <td>...</td>\n",
       "      <td>...</td>\n",
       "      <td>...</td>\n",
       "      <td>...</td>\n",
       "      <td>...</td>\n",
       "      <td>...</td>\n",
       "      <td>...</td>\n",
       "    </tr>\n",
       "    <tr>\n",
       "      <th>7038</th>\n",
       "      <td>7039</td>\n",
       "      <td>女</td>\n",
       "      <td>否</td>\n",
       "      <td>否</td>\n",
       "      <td>是</td>\n",
       "      <td>否</td>\n",
       "      <td>否</td>\n",
       "      <td>是</td>\n",
       "      <td>否</td>\n",
       "      <td>否</td>\n",
       "      <td>年卡</td>\n",
       "      <td>13</td>\n",
       "      <td>手工转账</td>\n",
       "      <td>55.15</td>\n",
       "      <td>742.9</td>\n",
       "      <td>否</td>\n",
       "    </tr>\n",
       "    <tr>\n",
       "      <th>7039</th>\n",
       "      <td>7040</td>\n",
       "      <td>男</td>\n",
       "      <td>否</td>\n",
       "      <td>否</td>\n",
       "      <td>否</td>\n",
       "      <td>是</td>\n",
       "      <td>否</td>\n",
       "      <td>否</td>\n",
       "      <td>否</td>\n",
       "      <td>否</td>\n",
       "      <td>月卡</td>\n",
       "      <td>2</td>\n",
       "      <td>手工转账</td>\n",
       "      <td>50.30</td>\n",
       "      <td>92.75</td>\n",
       "      <td>否</td>\n",
       "    </tr>\n",
       "    <tr>\n",
       "      <th>7040</th>\n",
       "      <td>7041</td>\n",
       "      <td>男</td>\n",
       "      <td>是</td>\n",
       "      <td>否</td>\n",
       "      <td>否</td>\n",
       "      <td>否</td>\n",
       "      <td>否</td>\n",
       "      <td>否</td>\n",
       "      <td>否</td>\n",
       "      <td>是</td>\n",
       "      <td>月卡</td>\n",
       "      <td>22</td>\n",
       "      <td>就餐时付费</td>\n",
       "      <td>85.10</td>\n",
       "      <td>1873.7</td>\n",
       "      <td>是</td>\n",
       "    </tr>\n",
       "    <tr>\n",
       "      <th>7041</th>\n",
       "      <td>7042</td>\n",
       "      <td>男</td>\n",
       "      <td>是</td>\n",
       "      <td>是</td>\n",
       "      <td>是</td>\n",
       "      <td>否</td>\n",
       "      <td>是</td>\n",
       "      <td>是</td>\n",
       "      <td>否</td>\n",
       "      <td>是</td>\n",
       "      <td>双年卡</td>\n",
       "      <td>67</td>\n",
       "      <td>手工转账</td>\n",
       "      <td>67.85</td>\n",
       "      <td>4627.65</td>\n",
       "      <td>否</td>\n",
       "    </tr>\n",
       "    <tr>\n",
       "      <th>7042</th>\n",
       "      <td>7043</td>\n",
       "      <td>男</td>\n",
       "      <td>是</td>\n",
       "      <td>是</td>\n",
       "      <td>是</td>\n",
       "      <td>是</td>\n",
       "      <td>是</td>\n",
       "      <td>否</td>\n",
       "      <td>是</td>\n",
       "      <td>是</td>\n",
       "      <td>双年卡</td>\n",
       "      <td>63</td>\n",
       "      <td>就餐时付费</td>\n",
       "      <td>59.00</td>\n",
       "      <td>3707.6</td>\n",
       "      <td>否</td>\n",
       "    </tr>\n",
       "  </tbody>\n",
       "</table>\n",
       "<p>7043 rows × 16 columns</p>\n",
       "</div>"
      ],
      "text/plain": [
       "       用户码 性别 玫瑰套餐 紫罗兰套餐 郁金香套餐 百合套餐 康乃馨套餐 胡姬花套餐 生日套餐 情人节套餐 会员卡类型  入会月数 会费支付方式  \\\n",
       "0        1  女    是     是     否    是     否     是    是     否    年卡     9   手工转账   \n",
       "1        2  男    否     否     否    否     否     否    否     是    月卡     9   手工转账   \n",
       "2        3  男    否     否     否    否     是     否    否     否    月卡     4  就餐时付费   \n",
       "3        4  男    是     否     否    是     是     否    是     是    月卡    13  就餐时付费   \n",
       "4        5  女    否     是     否    否     否     是    是     是    月卡     9   花呗付款   \n",
       "...    ... ..  ...   ...   ...  ...   ...   ...  ...   ...   ...   ...    ...   \n",
       "7038  7039  女    否     否     是    否     否     是    否     否    年卡    13   手工转账   \n",
       "7039  7040  男    否     否     否    是     否     否    否     否    月卡     2   手工转账   \n",
       "7040  7041  男    是     否     否    否     否     否    否     是    月卡    22  就餐时付费   \n",
       "7041  7042  男    是     是     是    否     是     是    否     是   双年卡    67   手工转账   \n",
       "7042  7043  男    是     是     是    是     是     否    是     是   双年卡    63  就餐时付费   \n",
       "\n",
       "      平均月消费      总消费 已停付会费  \n",
       "0     65.60    593.3     否  \n",
       "1     59.90    542.4     否  \n",
       "2     73.90   280.85     是  \n",
       "3     98.00  1237.85     是  \n",
       "4     69.40   571.45     否  \n",
       "...     ...      ...   ...  \n",
       "7038  55.15    742.9     否  \n",
       "7039  50.30    92.75     否  \n",
       "7040  85.10   1873.7     是  \n",
       "7041  67.85  4627.65     否  \n",
       "7042  59.00   3707.6     否  \n",
       "\n",
       "[7043 rows x 16 columns]"
      ]
     },
     "execution_count": 2,
     "metadata": {},
     "output_type": "execute_result"
    }
   ],
   "source": [
    "df_member = pd.read_csv('易速鲜花会员留存.csv') # 导入数据包\n",
    "df_member #显示数据"
   ]
  },
  {
   "cell_type": "markdown",
   "metadata": {},
   "source": [
    "## 数据清洗"
   ]
  },
  {
   "cell_type": "code",
   "execution_count": 3,
   "metadata": {},
   "outputs": [],
   "source": [
    "#把总消费字段转换成数值字段\n",
    "df_member['总消费'] = pd.to_numeric(df_member['总消费'], errors='coerce')\n",
    "df_member['总消费'].fillna(0, inplace=True)"
   ]
  },
  {
   "cell_type": "markdown",
   "metadata": {},
   "source": [
    "## 数据可视化"
   ]
  },
  {
   "cell_type": "code",
   "execution_count": 4,
   "metadata": {
    "scrolled": false
   },
   "outputs": [
    {
     "data": {
      "image/png": "[encoded data removed]",
      "text/plain": [
       "<Figure size 1000x800 with 4 Axes>"
      ]
     },
     "metadata": {},
     "output_type": "display_data"
    }
   ],
   "source": [
    "import matplotlib.pyplot as plt #导入绘图工具\n",
    "plt.rcParams['font.family'] = ['SimHei'] #或者 ['Microsoft YaHei']\n",
    "plt.rcParams['axes.unicode_minus'] = False\n",
    "plt.figure(figsize=(10,8)) #图片大小\n",
    "plt.subplot(2, 2, 1) #子图1\n",
    "ax = df_member.groupby('性别').count()['用户码'].plot.pie(autopct='%1.0f%%') #饼图1\n",
    "plt.subplot(2, 2, 2) #子图2\n",
    "ax = df_member.groupby('会费支付方式').count()['用户码'].plot.pie(autopct='%1.0f%%') #饼图2\n",
    "plt.subplot(2, 2, 3) #子图3\n",
    "ax = df_member.groupby('会员卡类型').count()['用户码'].plot.pie(autopct='%1.0f%%') #饼图3\n",
    "plt.subplot(2, 2, 4) #子图4\n",
    "ax = df_member.groupby('已停付会费').count()['用户码'].plot.pie(autopct='%1.0f%%') #饼图4\n",
    "plt.show() #显示"
   ]
  },
  {
   "cell_type": "markdown",
   "metadata": {},
   "source": [
    "## 特征工程"
   ]
  },
  {
   "cell_type": "code",
   "execution_count": 5,
   "metadata": {},
   "outputs": [],
   "source": [
    "df_member['已停付会费'].replace(to_replace='是', value=1, inplace=True) #流失-1\n",
    "df_member['已停付会费'].replace(to_replace='否',  value=0, inplace=True) #未流失-0"
   ]
  },
  {
   "cell_type": "code",
   "execution_count": 6,
   "metadata": {},
   "outputs": [],
   "source": [
    "df_member['性别'].replace(to_replace='女', value=0, inplace=True) #女生-0\n",
    "df_member['性别'].replace(to_replace='男', value=1, inplace=True) #男生-1"
   ]
  },
  {
   "cell_type": "code",
   "execution_count": 7,
   "metadata": {},
   "outputs": [],
   "source": [
    "# 字段中'Yes' or 'No'转换成为模型可以读取的数值,（布尔型数据，也是数值数据）\n",
    "binary_features = ['玫瑰套餐', '紫罗兰套餐', '郁金香套餐', '百合套餐', '康乃馨套餐', '胡姬花套餐', \n",
    "                   '生日套餐','情人节套餐']\n",
    "for field in binary_features:\n",
    "    df_member[field] = df_member[field] == '是'"
   ]
  },
  {
   "cell_type": "code",
   "execution_count": 8,
   "metadata": {},
   "outputs": [
    {
     "data": {
      "text/html": [
       "<div>\n",
       "<style scoped>\n",
       "    .dataframe tbody tr th:only-of-type {\n",
       "        vertical-align: middle;\n",
       "    }\n",
       "\n",
       "    .dataframe tbody tr th {\n",
       "        vertical-align: top;\n",
       "    }\n",
       "\n",
       "    .dataframe thead th {\n",
       "        text-align: right;\n",
       "    }\n",
       "</style>\n",
       "<table border=\"1\" class=\"dataframe\">\n",
       "  <thead>\n",
       "    <tr style=\"text-align: right;\">\n",
       "      <th></th>\n",
       "      <th>用户码</th>\n",
       "      <th>性别</th>\n",
       "      <th>玫瑰套餐</th>\n",
       "      <th>紫罗兰套餐</th>\n",
       "      <th>郁金香套餐</th>\n",
       "      <th>百合套餐</th>\n",
       "      <th>康乃馨套餐</th>\n",
       "      <th>胡姬花套餐</th>\n",
       "      <th>生日套餐</th>\n",
       "      <th>情人节套餐</th>\n",
       "      <th>会员卡类型</th>\n",
       "      <th>入会月数</th>\n",
       "      <th>会费支付方式</th>\n",
       "      <th>平均月消费</th>\n",
       "      <th>总消费</th>\n",
       "      <th>已停付会费</th>\n",
       "    </tr>\n",
       "  </thead>\n",
       "  <tbody>\n",
       "    <tr>\n",
       "      <th>0</th>\n",
       "      <td>1</td>\n",
       "      <td>0</td>\n",
       "      <td>True</td>\n",
       "      <td>True</td>\n",
       "      <td>False</td>\n",
       "      <td>True</td>\n",
       "      <td>False</td>\n",
       "      <td>True</td>\n",
       "      <td>True</td>\n",
       "      <td>False</td>\n",
       "      <td>年卡</td>\n",
       "      <td>9</td>\n",
       "      <td>手工转账</td>\n",
       "      <td>65.60</td>\n",
       "      <td>593.30</td>\n",
       "      <td>0</td>\n",
       "    </tr>\n",
       "    <tr>\n",
       "      <th>1</th>\n",
       "      <td>2</td>\n",
       "      <td>1</td>\n",
       "      <td>False</td>\n",
       "      <td>False</td>\n",
       "      <td>False</td>\n",
       "      <td>False</td>\n",
       "      <td>False</td>\n",
       "      <td>False</td>\n",
       "      <td>False</td>\n",
       "      <td>True</td>\n",
       "      <td>月卡</td>\n",
       "      <td>9</td>\n",
       "      <td>手工转账</td>\n",
       "      <td>59.90</td>\n",
       "      <td>542.40</td>\n",
       "      <td>0</td>\n",
       "    </tr>\n",
       "    <tr>\n",
       "      <th>2</th>\n",
       "      <td>3</td>\n",
       "      <td>1</td>\n",
       "      <td>False</td>\n",
       "      <td>False</td>\n",
       "      <td>False</td>\n",
       "      <td>False</td>\n",
       "      <td>True</td>\n",
       "      <td>False</td>\n",
       "      <td>False</td>\n",
       "      <td>False</td>\n",
       "      <td>月卡</td>\n",
       "      <td>4</td>\n",
       "      <td>就餐时付费</td>\n",
       "      <td>73.90</td>\n",
       "      <td>280.85</td>\n",
       "      <td>1</td>\n",
       "    </tr>\n",
       "    <tr>\n",
       "      <th>3</th>\n",
       "      <td>4</td>\n",
       "      <td>1</td>\n",
       "      <td>True</td>\n",
       "      <td>False</td>\n",
       "      <td>False</td>\n",
       "      <td>True</td>\n",
       "      <td>True</td>\n",
       "      <td>False</td>\n",
       "      <td>True</td>\n",
       "      <td>True</td>\n",
       "      <td>月卡</td>\n",
       "      <td>13</td>\n",
       "      <td>就餐时付费</td>\n",
       "      <td>98.00</td>\n",
       "      <td>1237.85</td>\n",
       "      <td>1</td>\n",
       "    </tr>\n",
       "    <tr>\n",
       "      <th>4</th>\n",
       "      <td>5</td>\n",
       "      <td>0</td>\n",
       "      <td>False</td>\n",
       "      <td>True</td>\n",
       "      <td>False</td>\n",
       "      <td>False</td>\n",
       "      <td>False</td>\n",
       "      <td>True</td>\n",
       "      <td>True</td>\n",
       "      <td>True</td>\n",
       "      <td>月卡</td>\n",
       "      <td>9</td>\n",
       "      <td>花呗付款</td>\n",
       "      <td>69.40</td>\n",
       "      <td>571.45</td>\n",
       "      <td>0</td>\n",
       "    </tr>\n",
       "    <tr>\n",
       "      <th>...</th>\n",
       "      <td>...</td>\n",
       "      <td>...</td>\n",
       "      <td>...</td>\n",
       "      <td>...</td>\n",
       "      <td>...</td>\n",
       "      <td>...</td>\n",
       "      <td>...</td>\n",
       "      <td>...</td>\n",
       "      <td>...</td>\n",
       "      <td>...</td>\n",
       "      <td>...</td>\n",
       "      <td>...</td>\n",
       "      <td>...</td>\n",
       "      <td>...</td>\n",
       "      <td>...</td>\n",
       "      <td>...</td>\n",
       "    </tr>\n",
       "    <tr>\n",
       "      <th>7038</th>\n",
       "      <td>7039</td>\n",
       "      <td>0</td>\n",
       "      <td>False</td>\n",
       "      <td>False</td>\n",
       "      <td>True</td>\n",
       "      <td>False</td>\n",
       "      <td>False</td>\n",
       "      <td>True</td>\n",
       "      <td>False</td>\n",
       "      <td>False</td>\n",
       "      <td>年卡</td>\n",
       "      <td>13</td>\n",
       "      <td>手工转账</td>\n",
       "      <td>55.15</td>\n",
       "      <td>742.90</td>\n",
       "      <td>0</td>\n",
       "    </tr>\n",
       "    <tr>\n",
       "      <th>7039</th>\n",
       "      <td>7040</td>\n",
       "      <td>1</td>\n",
       "      <td>False</td>\n",
       "      <td>False</td>\n",
       "      <td>False</td>\n",
       "      <td>True</td>\n",
       "      <td>False</td>\n",
       "      <td>False</td>\n",
       "      <td>False</td>\n",
       "      <td>False</td>\n",
       "      <td>月卡</td>\n",
       "      <td>2</td>\n",
       "      <td>手工转账</td>\n",
       "      <td>50.30</td>\n",
       "      <td>92.75</td>\n",
       "      <td>0</td>\n",
       "    </tr>\n",
       "    <tr>\n",
       "      <th>7040</th>\n",
       "      <td>7041</td>\n",
       "      <td>1</td>\n",
       "      <td>True</td>\n",
       "      <td>False</td>\n",
       "      <td>False</td>\n",
       "      <td>False</td>\n",
       "      <td>False</td>\n",
       "      <td>False</td>\n",
       "      <td>False</td>\n",
       "      <td>True</td>\n",
       "      <td>月卡</td>\n",
       "      <td>22</td>\n",
       "      <td>就餐时付费</td>\n",
       "      <td>85.10</td>\n",
       "      <td>1873.70</td>\n",
       "      <td>1</td>\n",
       "    </tr>\n",
       "    <tr>\n",
       "      <th>7041</th>\n",
       "      <td>7042</td>\n",
       "      <td>1</td>\n",
       "      <td>True</td>\n",
       "      <td>True</td>\n",
       "      <td>True</td>\n",
       "      <td>False</td>\n",
       "      <td>True</td>\n",
       "      <td>True</td>\n",
       "      <td>False</td>\n",
       "      <td>True</td>\n",
       "      <td>双年卡</td>\n",
       "      <td>67</td>\n",
       "      <td>手工转账</td>\n",
       "      <td>67.85</td>\n",
       "      <td>4627.65</td>\n",
       "      <td>0</td>\n",
       "    </tr>\n",
       "    <tr>\n",
       "      <th>7042</th>\n",
       "      <td>7043</td>\n",
       "      <td>1</td>\n",
       "      <td>True</td>\n",
       "      <td>True</td>\n",
       "      <td>True</td>\n",
       "      <td>True</td>\n",
       "      <td>True</td>\n",
       "      <td>False</td>\n",
       "      <td>True</td>\n",
       "      <td>True</td>\n",
       "      <td>双年卡</td>\n",
       "      <td>63</td>\n",
       "      <td>就餐时付费</td>\n",
       "      <td>59.00</td>\n",
       "      <td>3707.60</td>\n",
       "      <td>0</td>\n",
       "    </tr>\n",
       "  </tbody>\n",
       "</table>\n",
       "<p>7043 rows × 16 columns</p>\n",
       "</div>"
      ],
      "text/plain": [
       "       用户码  性别   玫瑰套餐  紫罗兰套餐  郁金香套餐   百合套餐  康乃馨套餐  胡姬花套餐   生日套餐  情人节套餐 会员卡类型  \\\n",
       "0        1   0   True   True  False   True  False   True   True  False    年卡   \n",
       "1        2   1  False  False  False  False  False  False  False   True    月卡   \n",
       "2        3   1  False  False  False  False   True  False  False  False    月卡   \n",
       "3        4   1   True  False  False   True   True  False   True   True    月卡   \n",
       "4        5   0  False   True  False  False  False   True   True   True    月卡   \n",
       "...    ...  ..    ...    ...    ...    ...    ...    ...    ...    ...   ...   \n",
       "7038  7039   0  False  False   True  False  False   True  False  False    年卡   \n",
       "7039  7040   1  False  False  False   True  False  False  False  False    月卡   \n",
       "7040  7041   1   True  False  False  False  False  False  False   True    月卡   \n",
       "7041  7042   1   True   True   True  False   True   True  False   True   双年卡   \n",
       "7042  7043   1   True   True   True   True   True  False   True   True   双年卡   \n",
       "\n",
       "      入会月数 会费支付方式  平均月消费      总消费  已停付会费  \n",
       "0        9   手工转账  65.60   593.30      0  \n",
       "1        9   手工转账  59.90   542.40      0  \n",
       "2        4  就餐时付费  73.90   280.85      1  \n",
       "3       13  就餐时付费  98.00  1237.85      1  \n",
       "4        9   花呗付款  69.40   571.45      0  \n",
       "...    ...    ...    ...      ...    ...  \n",
       "7038    13   手工转账  55.15   742.90      0  \n",
       "7039     2   手工转账  50.30    92.75      0  \n",
       "7040    22  就餐时付费  85.10  1873.70      1  \n",
       "7041    67   手工转账  67.85  4627.65      0  \n",
       "7042    63  就餐时付费  59.00  3707.60      0  \n",
       "\n",
       "[7043 rows x 16 columns]"
      ]
     },
     "execution_count": 8,
     "metadata": {},
     "output_type": "execute_result"
    }
   ],
   "source": [
    "df_member"
   ]
  },
  {
   "cell_type": "markdown",
   "metadata": {},
   "source": [
    "## 数据整理\n",
    "先做数据整理工作，把每个数据字段都转换为可以处理的字段"
   ]
  },
  {
   "cell_type": "code",
   "execution_count": 9,
   "metadata": {
    "scrolled": true
   },
   "outputs": [
    {
     "data": {
      "text/html": [
       "<div>\n",
       "<style scoped>\n",
       "    .dataframe tbody tr th:only-of-type {\n",
       "        vertical-align: middle;\n",
       "    }\n",
       "\n",
       "    .dataframe tbody tr th {\n",
       "        vertical-align: top;\n",
       "    }\n",
       "\n",
       "    .dataframe thead th {\n",
       "        text-align: right;\n",
       "    }\n",
       "</style>\n",
       "<table border=\"1\" class=\"dataframe\">\n",
       "  <thead>\n",
       "    <tr style=\"text-align: right;\">\n",
       "      <th></th>\n",
       "      <th>用户码</th>\n",
       "      <th>性别</th>\n",
       "      <th>玫瑰套餐</th>\n",
       "      <th>紫罗兰套餐</th>\n",
       "      <th>郁金香套餐</th>\n",
       "      <th>百合套餐</th>\n",
       "      <th>康乃馨套餐</th>\n",
       "      <th>胡姬花套餐</th>\n",
       "      <th>生日套餐</th>\n",
       "      <th>情人节套餐</th>\n",
       "      <th>入会月数</th>\n",
       "      <th>平均月消费</th>\n",
       "      <th>总消费</th>\n",
       "      <th>已停付会费</th>\n",
       "      <th>会员卡类型_年卡</th>\n",
       "      <th>会员卡类型_月卡</th>\n",
       "      <th>会费支付方式_微信自动扣款</th>\n",
       "      <th>会费支付方式_手工转账</th>\n",
       "      <th>会费支付方式_花呗付款</th>\n",
       "    </tr>\n",
       "  </thead>\n",
       "  <tbody>\n",
       "    <tr>\n",
       "      <th>0</th>\n",
       "      <td>1</td>\n",
       "      <td>0</td>\n",
       "      <td>True</td>\n",
       "      <td>True</td>\n",
       "      <td>False</td>\n",
       "      <td>True</td>\n",
       "      <td>False</td>\n",
       "      <td>True</td>\n",
       "      <td>True</td>\n",
       "      <td>False</td>\n",
       "      <td>9</td>\n",
       "      <td>65.60</td>\n",
       "      <td>593.30</td>\n",
       "      <td>0</td>\n",
       "      <td>1</td>\n",
       "      <td>0</td>\n",
       "      <td>0</td>\n",
       "      <td>1</td>\n",
       "      <td>0</td>\n",
       "    </tr>\n",
       "    <tr>\n",
       "      <th>1</th>\n",
       "      <td>2</td>\n",
       "      <td>1</td>\n",
       "      <td>False</td>\n",
       "      <td>False</td>\n",
       "      <td>False</td>\n",
       "      <td>False</td>\n",
       "      <td>False</td>\n",
       "      <td>False</td>\n",
       "      <td>False</td>\n",
       "      <td>True</td>\n",
       "      <td>9</td>\n",
       "      <td>59.90</td>\n",
       "      <td>542.40</td>\n",
       "      <td>0</td>\n",
       "      <td>0</td>\n",
       "      <td>1</td>\n",
       "      <td>0</td>\n",
       "      <td>1</td>\n",
       "      <td>0</td>\n",
       "    </tr>\n",
       "    <tr>\n",
       "      <th>2</th>\n",
       "      <td>3</td>\n",
       "      <td>1</td>\n",
       "      <td>False</td>\n",
       "      <td>False</td>\n",
       "      <td>False</td>\n",
       "      <td>False</td>\n",
       "      <td>True</td>\n",
       "      <td>False</td>\n",
       "      <td>False</td>\n",
       "      <td>False</td>\n",
       "      <td>4</td>\n",
       "      <td>73.90</td>\n",
       "      <td>280.85</td>\n",
       "      <td>1</td>\n",
       "      <td>0</td>\n",
       "      <td>1</td>\n",
       "      <td>0</td>\n",
       "      <td>0</td>\n",
       "      <td>0</td>\n",
       "    </tr>\n",
       "    <tr>\n",
       "      <th>3</th>\n",
       "      <td>4</td>\n",
       "      <td>1</td>\n",
       "      <td>True</td>\n",
       "      <td>False</td>\n",
       "      <td>False</td>\n",
       "      <td>True</td>\n",
       "      <td>True</td>\n",
       "      <td>False</td>\n",
       "      <td>True</td>\n",
       "      <td>True</td>\n",
       "      <td>13</td>\n",
       "      <td>98.00</td>\n",
       "      <td>1237.85</td>\n",
       "      <td>1</td>\n",
       "      <td>0</td>\n",
       "      <td>1</td>\n",
       "      <td>0</td>\n",
       "      <td>0</td>\n",
       "      <td>0</td>\n",
       "    </tr>\n",
       "    <tr>\n",
       "      <th>4</th>\n",
       "      <td>5</td>\n",
       "      <td>0</td>\n",
       "      <td>False</td>\n",
       "      <td>True</td>\n",
       "      <td>False</td>\n",
       "      <td>False</td>\n",
       "      <td>False</td>\n",
       "      <td>True</td>\n",
       "      <td>True</td>\n",
       "      <td>True</td>\n",
       "      <td>9</td>\n",
       "      <td>69.40</td>\n",
       "      <td>571.45</td>\n",
       "      <td>0</td>\n",
       "      <td>0</td>\n",
       "      <td>1</td>\n",
       "      <td>0</td>\n",
       "      <td>0</td>\n",
       "      <td>1</td>\n",
       "    </tr>\n",
       "    <tr>\n",
       "      <th>...</th>\n",
       "      <td>...</td>\n",
       "      <td>...</td>\n",
       "      <td>...</td>\n",
       "      <td>...</td>\n",
       "      <td>...</td>\n",
       "      <td>...</td>\n",
       "      <td>...</td>\n",
       "      <td>...</td>\n",
       "      <td>...</td>\n",
       "      <td>...</td>\n",
       "      <td>...</td>\n",
       "      <td>...</td>\n",
       "      <td>...</td>\n",
       "      <td>...</td>\n",
       "      <td>...</td>\n",
       "      <td>...</td>\n",
       "      <td>...</td>\n",
       "      <td>...</td>\n",
       "      <td>...</td>\n",
       "    </tr>\n",
       "    <tr>\n",
       "      <th>7038</th>\n",
       "      <td>7039</td>\n",
       "      <td>0</td>\n",
       "      <td>False</td>\n",
       "      <td>False</td>\n",
       "      <td>True</td>\n",
       "      <td>False</td>\n",
       "      <td>False</td>\n",
       "      <td>True</td>\n",
       "      <td>False</td>\n",
       "      <td>False</td>\n",
       "      <td>13</td>\n",
       "      <td>55.15</td>\n",
       "      <td>742.90</td>\n",
       "      <td>0</td>\n",
       "      <td>1</td>\n",
       "      <td>0</td>\n",
       "      <td>0</td>\n",
       "      <td>1</td>\n",
       "      <td>0</td>\n",
       "    </tr>\n",
       "    <tr>\n",
       "      <th>7039</th>\n",
       "      <td>7040</td>\n",
       "      <td>1</td>\n",
       "      <td>False</td>\n",
       "      <td>False</td>\n",
       "      <td>False</td>\n",
       "      <td>True</td>\n",
       "      <td>False</td>\n",
       "      <td>False</td>\n",
       "      <td>False</td>\n",
       "      <td>False</td>\n",
       "      <td>2</td>\n",
       "      <td>50.30</td>\n",
       "      <td>92.75</td>\n",
       "      <td>0</td>\n",
       "      <td>0</td>\n",
       "      <td>1</td>\n",
       "      <td>0</td>\n",
       "      <td>1</td>\n",
       "      <td>0</td>\n",
       "    </tr>\n",
       "    <tr>\n",
       "      <th>7040</th>\n",
       "      <td>7041</td>\n",
       "      <td>1</td>\n",
       "      <td>True</td>\n",
       "      <td>False</td>\n",
       "      <td>False</td>\n",
       "      <td>False</td>\n",
       "      <td>False</td>\n",
       "      <td>False</td>\n",
       "      <td>False</td>\n",
       "      <td>True</td>\n",
       "      <td>22</td>\n",
       "      <td>85.10</td>\n",
       "      <td>1873.70</td>\n",
       "      <td>1</td>\n",
       "      <td>0</td>\n",
       "      <td>1</td>\n",
       "      <td>0</td>\n",
       "      <td>0</td>\n",
       "      <td>0</td>\n",
       "    </tr>\n",
       "    <tr>\n",
       "      <th>7041</th>\n",
       "      <td>7042</td>\n",
       "      <td>1</td>\n",
       "      <td>True</td>\n",
       "      <td>True</td>\n",
       "      <td>True</td>\n",
       "      <td>False</td>\n",
       "      <td>True</td>\n",
       "      <td>True</td>\n",
       "      <td>False</td>\n",
       "      <td>True</td>\n",
       "      <td>67</td>\n",
       "      <td>67.85</td>\n",
       "      <td>4627.65</td>\n",
       "      <td>0</td>\n",
       "      <td>0</td>\n",
       "      <td>0</td>\n",
       "      <td>0</td>\n",
       "      <td>1</td>\n",
       "      <td>0</td>\n",
       "    </tr>\n",
       "    <tr>\n",
       "      <th>7042</th>\n",
       "      <td>7043</td>\n",
       "      <td>1</td>\n",
       "      <td>True</td>\n",
       "      <td>True</td>\n",
       "      <td>True</td>\n",
       "      <td>True</td>\n",
       "      <td>True</td>\n",
       "      <td>False</td>\n",
       "      <td>True</td>\n",
       "      <td>True</td>\n",
       "      <td>63</td>\n",
       "      <td>59.00</td>\n",
       "      <td>3707.60</td>\n",
       "      <td>0</td>\n",
       "      <td>0</td>\n",
       "      <td>0</td>\n",
       "      <td>0</td>\n",
       "      <td>0</td>\n",
       "      <td>0</td>\n",
       "    </tr>\n",
       "  </tbody>\n",
       "</table>\n",
       "<p>7043 rows × 19 columns</p>\n",
       "</div>"
      ],
      "text/plain": [
       "       用户码  性别   玫瑰套餐  紫罗兰套餐  郁金香套餐   百合套餐  康乃馨套餐  胡姬花套餐   生日套餐  情人节套餐  入会月数  \\\n",
       "0        1   0   True   True  False   True  False   True   True  False     9   \n",
       "1        2   1  False  False  False  False  False  False  False   True     9   \n",
       "2        3   1  False  False  False  False   True  False  False  False     4   \n",
       "3        4   1   True  False  False   True   True  False   True   True    13   \n",
       "4        5   0  False   True  False  False  False   True   True   True     9   \n",
       "...    ...  ..    ...    ...    ...    ...    ...    ...    ...    ...   ...   \n",
       "7038  7039   0  False  False   True  False  False   True  False  False    13   \n",
       "7039  7040   1  False  False  False   True  False  False  False  False     2   \n",
       "7040  7041   1   True  False  False  False  False  False  False   True    22   \n",
       "7041  7042   1   True   True   True  False   True   True  False   True    67   \n",
       "7042  7043   1   True   True   True   True   True  False   True   True    63   \n",
       "\n",
       "      平均月消费      总消费  已停付会费  会员卡类型_年卡  会员卡类型_月卡  会费支付方式_微信自动扣款  会费支付方式_手工转账  \\\n",
       "0     65.60   593.30      0         1         0              0            1   \n",
       "1     59.90   542.40      0         0         1              0            1   \n",
       "2     73.90   280.85      1         0         1              0            0   \n",
       "3     98.00  1237.85      1         0         1              0            0   \n",
       "4     69.40   571.45      0         0         1              0            0   \n",
       "...     ...      ...    ...       ...       ...            ...          ...   \n",
       "7038  55.15   742.90      0         1         0              0            1   \n",
       "7039  50.30    92.75      0         0         1              0            1   \n",
       "7040  85.10  1873.70      1         0         1              0            0   \n",
       "7041  67.85  4627.65      0         0         0              0            1   \n",
       "7042  59.00  3707.60      0         0         0              0            0   \n",
       "\n",
       "      会费支付方式_花呗付款  \n",
       "0               0  \n",
       "1               0  \n",
       "2               0  \n",
       "3               0  \n",
       "4               1  \n",
       "...           ...  \n",
       "7038            0  \n",
       "7039            0  \n",
       "7040            0  \n",
       "7041            0  \n",
       "7042            0  \n",
       "\n",
       "[7043 rows x 19 columns]"
      ]
     },
     "execution_count": 9,
     "metadata": {},
     "output_type": "execute_result"
    }
   ],
   "source": [
    "# 分类字段哑变量\n",
    "category_features = ['会员卡类型', '会费支付方式']\n",
    "df_member = pd.get_dummies(df_member, drop_first=True, columns=category_features)\n",
    "df_member"
   ]
  },
  {
   "cell_type": "markdown",
   "metadata": {},
   "source": [
    "<div style=\"text-align:center;\">\n",
    "  <span style=\"color:red;\">从这里开始</span>\n",
    "</div>\n"
   ]
  },
  {
   "cell_type": "markdown",
   "metadata": {},
   "source": [
    "## 构建特征集和标签集\n",
    "\n",
    "\n",
    "根据运营同事的描述，我们要预测的标签是“已停付会费”字段。通过训练现有数据来建立模型，我们可以推断具有类似特征的其他会员是否可能停付会费。\n",
    "\n",
    "由于存在标签，这显然是一个监督学习问题。进一步说，它是回归问题还是分类问题取决于标签值是连续还是离散。“是否已停付会费”字段的值只能为“是”或者“否”，即非1即0，因此属于离散值。所以这就成了一个典型的二元分类问题。\n",
    "\n",
    "因此，在机器学习中使用分类模型可以告诉我们每个用户具体的流失风险。如果风险高，则该用户很可能流失，并需要运营团队关注。请注意，“高风险值”是多个特征相结合产生的结果，并不仅仅取决于某个特定特征。"
   ]
  },
  {
   "cell_type": "code",
   "execution_count": 10,
   "metadata": {},
   "outputs": [],
   "source": [
    "X = df_member.drop(['用户码','已停付会费'], axis = 1) # 构建特征集，用户码字段属于无用特征\n",
    "y = df_member.已停付会费.values # 构建标签集"
   ]
  },
  {
   "cell_type": "markdown",
   "metadata": {},
   "source": [
    "这段代码创建了特征集 `X` 和标签集 `y`。之前，数据存储在名为 `df_member` 的 DataFrame 中。\n",
    "\n",
    "1. 使用 `df_member.drop(['用户码','已停付会费'], axis = 1)` 命令，从 DataFrame 中移除 '用户码' 和 '已停付会费' 这两列。DataFrame 对象的 `drop` 方法接受列名（在本例中为 ['用户码','已停付会费']）和“axis”参数值（1 表示沿列）。由于 '用户码' 列对于模型预测毫无帮助，我们选择删除它。然后将结果赋值给变量 `X`，这就是我们的特征集，包含了用于模型训练的所有特征。\n",
    "\n",
    "2. 从 DataFrame 中提取 '已停付会费' 列。这是目标列，即我们希望预测的输出。通过使用 `df_member.已停付会费.values` 表达式，将 '已停付会费' 列中的值转换成一个 NumPy 数组，并将其赋给变量 `y`。这就是我们的标签集，表示模型需要学习预测的目标值。\n",
    "\n",
    "现在，我们已经从原始数据中创建了特征集 `X` 和标签集 `y`。接下来的步骤通常包括将数据划分为训练集和测试集、进行预处理（如归一化）并训练神经网络等。"
   ]
  },
  {
   "cell_type": "markdown",
   "metadata": {},
   "source": [
    "## 拆分数据集"
   ]
  },
  {
   "cell_type": "code",
   "execution_count": 11,
   "metadata": {},
   "outputs": [],
   "source": [
    "from sklearn.model_selection import train_test_split #导入train_test_split模块\n",
    "X_train, X_test, y_train, y_test = train_test_split(X,y,test_size = 0.2) #拆分数据集"
   ]
  },
  {
   "cell_type": "markdown",
   "metadata": {},
   "source": [
    "# 训练模型\n",
    "\n",
    "这里我们比较逻辑回归和神经网络两种算法"
   ]
  },
  {
   "cell_type": "markdown",
   "metadata": {},
   "source": [
    "## 训练逻辑回归模型"
   ]
  },
  {
   "cell_type": "code",
   "execution_count": 12,
   "metadata": {},
   "outputs": [],
   "source": [
    "from sklearn.linear_model import LogisticRegression #导入逻辑回归模型\n",
    "lr = LogisticRegression(max_iter=1000) # lr,就代表是逻辑回归模型"
   ]
  },
  {
   "cell_type": "code",
   "execution_count": 13,
   "metadata": {},
   "outputs": [
    {
     "data": {
      "text/html": [
       "<style>#sk-container-id-1 {color: black;background-color: white;}#sk-container-id-1 pre{padding: 0;}#sk-container-id-1 div.sk-toggleable {background-color: white;}#sk-container-id-1 label.sk-toggleable__label {cursor: pointer;display: block;width: 100%;margin-bottom: 0;padding: 0.3em;box-sizing: border-box;text-align: center;}#sk-container-id-1 label.sk-toggleable__label-arrow:before {content: \"▸\";float: left;margin-right: 0.25em;color: #696969;}#sk-container-id-1 label.sk-toggleable__label-arrow:hover:before {color: black;}#sk-container-id-1 div.sk-estimator:hover label.sk-toggleable__label-arrow:before {color: black;}#sk-container-id-1 div.sk-toggleable__content {max-height: 0;max-width: 0;overflow: hidden;text-align: left;background-color: #f0f8ff;}#sk-container-id-1 div.sk-toggleable__content pre {margin: 0.2em;color: black;border-radius: 0.25em;background-color: #f0f8ff;}#sk-container-id-1 input.sk-toggleable__control:checked~div.sk-toggleable__content {max-height: 200px;max-width: 100%;overflow: auto;}#sk-container-id-1 input.sk-toggleable__control:checked~label.sk-toggleable__label-arrow:before {content: \"▾\";}#sk-container-id-1 div.sk-estimator input.sk-toggleable__control:checked~label.sk-toggleable__label {background-color: #d4ebff;}#sk-container-id-1 div.sk-label input.sk-toggleable__control:checked~label.sk-toggleable__label {background-color: #d4ebff;}#sk-container-id-1 input.sk-hidden--visually {border: 0;clip: rect(1px 1px 1px 1px);clip: rect(1px, 1px, 1px, 1px);height: 1px;margin: -1px;overflow: hidden;padding: 0;position: absolute;width: 1px;}#sk-container-id-1 div.sk-estimator {font-family: monospace;background-color: #f0f8ff;border: 1px dotted black;border-radius: 0.25em;box-sizing: border-box;margin-bottom: 0.5em;}#sk-container-id-1 div.sk-estimator:hover {background-color: #d4ebff;}#sk-container-id-1 div.sk-parallel-item::after {content: \"\";width: 100%;border-bottom: 1px solid gray;flex-grow: 1;}#sk-container-id-1 div.sk-label:hover label.sk-toggleable__label {background-color: #d4ebff;}#sk-container-id-1 div.sk-serial::before {content: \"\";position: absolute;border-left: 1px solid gray;box-sizing: border-box;top: 0;bottom: 0;left: 50%;z-index: 0;}#sk-container-id-1 div.sk-serial {display: flex;flex-direction: column;align-items: center;background-color: white;padding-right: 0.2em;padding-left: 0.2em;position: relative;}#sk-container-id-1 div.sk-item {position: relative;z-index: 1;}#sk-container-id-1 div.sk-parallel {display: flex;align-items: stretch;justify-content: center;background-color: white;position: relative;}#sk-container-id-1 div.sk-item::before, #sk-container-id-1 div.sk-parallel-item::before {content: \"\";position: absolute;border-left: 1px solid gray;box-sizing: border-box;top: 0;bottom: 0;left: 50%;z-index: -1;}#sk-container-id-1 div.sk-parallel-item {display: flex;flex-direction: column;z-index: 1;position: relative;background-color: white;}#sk-container-id-1 div.sk-parallel-item:first-child::after {align-self: flex-end;width: 50%;}#sk-container-id-1 div.sk-parallel-item:last-child::after {align-self: flex-start;width: 50%;}#sk-container-id-1 div.sk-parallel-item:only-child::after {width: 0;}#sk-container-id-1 div.sk-dashed-wrapped {border: 1px dashed gray;margin: 0 0.4em 0.5em 0.4em;box-sizing: border-box;padding-bottom: 0.4em;background-color: white;}#sk-container-id-1 div.sk-label label {font-family: monospace;font-weight: bold;display: inline-block;line-height: 1.2em;}#sk-container-id-1 div.sk-label-container {text-align: center;}#sk-container-id-1 div.sk-container {/* jupyter's `normalize.less` sets `[hidden] { display: none; }` but bootstrap.min.css set `[hidden] { display: none !important; }` so we also need the `!important` here to be able to override the default hidden behavior on the sphinx rendered scikit-learn.org. See: https://github.com/scikit-learn/scikit-learn/issues/21755 */display: inline-block !important;position: relative;}#sk-container-id-1 div.sk-text-repr-fallback {display: none;}</style><div id=\"sk-container-id-1\" class=\"sk-top-container\"><div class=\"sk-text-repr-fallback\"><pre>LogisticRegression(max_iter=1000)</pre><b>In a Jupyter environment, please rerun this cell to show the HTML representation or trust the notebook. <br />On GitHub, the HTML representation is unable to render, please try loading this page with nbviewer.org.</b></div><div class=\"sk-container\" hidden><div class=\"sk-item\"><div class=\"sk-estimator sk-toggleable\"><input class=\"sk-toggleable__control sk-hidden--visually\" id=\"sk-estimator-id-1\" type=\"checkbox\" checked><label for=\"sk-estimator-id-1\" class=\"sk-toggleable__label sk-toggleable__label-arrow\">LogisticRegression</label><div class=\"sk-toggleable__content\"><pre>LogisticRegression(max_iter=1000)</pre></div></div></div></div></div>"
      ],
      "text/plain": [
       "LogisticRegression(max_iter=1000)"
      ]
     },
     "execution_count": 13,
     "metadata": {},
     "output_type": "execute_result"
    }
   ],
   "source": [
    "lr.fit(X_train,y_train) # fit,就相当于是梯度下降"
   ]
  },
  {
   "cell_type": "markdown",
   "metadata": {},
   "source": [
    "提示信息中的 \"ConvergenceWarning\" 表明逻辑回归模型在训练数据上没有收敛。在训练过程中，模型尝试找到一组参数，使得损失函数值达到最小。但在模型迭代次数达到限制之前，模型没有达到收敛。为了解决这个问题，您可以尝试以下解决方案：\n",
    "\n",
    "1. 增加最大迭代次数（`max_iter`）：给模型更多的时间让参数收敛。在创建逻辑回归模型实例时增加 `max_iter` 参数值，例如：\n",
    "\n",
    "```python\n",
    "lr = LogisticRegression(max_iter=1000)\n",
    "```\n",
    "\n",
    "2. 标准化/归一化数据：如果数据的某些特征有很大的尺度变化，可能会导致收敛速度较慢。因此，在训练模型之前对特征进行缩放是很重要的。尝试使用 Scikit-learn 的 `StandardScaler`（标准化）或 `MinMaxScaler`（归一化）进行特征缩放：\n",
    "\n",
    "```python\n",
    "from sklearn.preprocessing import StandardScaler\n",
    "\n",
    "scaler = StandardScaler()\n",
    "X_train_scaled = scaler.fit_transform(X_train)\n",
    "X_test_scaled = scaler.transform(X_test)\n",
    "\n",
    "lr.fit(X_train_scaled, y_train)\n",
    "```\n",
    "\n",
    "3. 尝试其他求解器：Scikit-learn 的逻辑回归模型支持多种求解器，例如 'newton-cg'、'liblinear' 和 'sag'。尝试使用不同的求解器，看是否能找到一个在您的数据集上表现良好的。\n",
    "\n",
    "```python\n",
    "lr = LogisticRegression(solver='newton-cg')\n",
    "```\n",
    "\n",
    "尝试这些解决方案，看看是否能解决收敛警告问题。如果仍有问题，请随时询问。"
   ]
  },
  {
   "cell_type": "markdown",
   "metadata": {},
   "source": [
    "## 评估逻辑回归模型"
   ]
  },
  {
   "cell_type": "code",
   "execution_count": 14,
   "metadata": {},
   "outputs": [
    {
     "name": "stdout",
     "output_type": "stream",
     "text": [
      "SK-learn逻辑回归预测准确率79.84%\n"
     ]
    }
   ],
   "source": [
    "print(\"SK-learn逻辑回归预测准确率{:.2f}%\".format(lr.score(X_test,y_test)*100))"
   ]
  },
  {
   "cell_type": "code",
   "execution_count": 15,
   "metadata": {},
   "outputs": [
    {
     "name": "stdout",
     "output_type": "stream",
     "text": [
      "逻辑回归对测试集第一个用户的预测结果 0\n"
     ]
    }
   ],
   "source": [
    "y_pred=lr.predict(X_test)\n",
    "print(\"逻辑回归对测试集第一个用户的预测结果\", y_pred[0])"
   ]
  },
  {
   "cell_type": "markdown",
   "metadata": {},
   "source": [
    "## 训练神经网络模型"
   ]
  },
  {
   "cell_type": "code",
   "execution_count": 16,
   "metadata": {},
   "outputs": [
    {
     "data": {
      "text/plain": [
       "CompletedProcess(args=['pip', 'install', 'tensorflow'], returncode=0)"
      ]
     },
     "execution_count": 16,
     "metadata": {},
     "output_type": "execute_result"
    }
   ],
   "source": [
    "import subprocess\n",
    "\n",
    "subprocess.run([\"pip\", \"install\", \"keras\"])\n",
    "subprocess.run([\"pip\", \"install\", \"tensorflow\"])\n"
   ]
  },
  {
   "cell_type": "markdown",
   "metadata": {},
   "source": [
    "这段代码使用了Python的`subprocess`模块来执行命令行操作。具体地，它使用了`subprocess.run()`函数来运行两个命令，分别是安装Keras和TensorFlow的命令。\n",
    "\n",
    "让我们一行一行地解释代码的含义：\n",
    "\n",
    "`import subprocess`：这行代码导入了Python的`subprocess`模块，该模块允许执行操作系统命令。\n",
    "\n",
    "`subprocess.run([\"pip\", \"install\", \"keras\"])`：这行代码使用`subprocess.run()`函数执行一个命令，命令参数是一个包含命令及其参数的列表。这里的命令是`pip install keras`，它用于安装Keras库。\n",
    "\n",
    "`subprocess.run([\"pip\", \"install\", \"tensorflow\"])`：这行代码同样使用`subprocess.run()`函数执行另一个命令，命令参数是`pip install tensorflow`，用于安装TensorFlow库。\n",
    "\n",
    "通过这些代码，你可以在Python脚本或命令行中安装Keras和TensorFlow库，这两个库都是用于深度学习的流行工具。执行这些代码将会调用系统的命令行界面，并自动下载并安装所需的库文件。请确保你的系统已经正确安装了Python和pip，并且具有适当的访问权限。"
   ]
  },
  {
   "cell_type": "code",
   "execution_count": 17,
   "metadata": {},
   "outputs": [
    {
     "name": "stdout",
     "output_type": "stream",
     "text": [
      "Model: \"sequential\"\n",
      "_________________________________________________________________\n",
      " Layer (type)                Output Shape              Param #   \n",
      "=================================================================\n",
      " dense (Dense)               (None, 12)                216       \n",
      "                                                                 \n",
      " dense_1 (Dense)             (None, 24)                312       \n",
      "                                                                 \n",
      " dense_2 (Dense)             (None, 1)                 25        \n",
      "                                                                 \n",
      "=================================================================\n",
      "Total params: 553 (2.16 KB)\n",
      "Trainable params: 553 (2.16 KB)\n",
      "Non-trainable params: 0 (0.00 Byte)\n",
      "_________________________________________________________________\n"
     ]
    }
   ],
   "source": [
    "import keras # 导入Keras库\n",
    "from keras.models import Sequential # 导入Keras序贯模型\n",
    "from keras.layers import Dense # 导入Keras密集连接层\n",
    "dnn = Sequential() # 创建一个序贯DNN模型\n",
    "dnn.add(Dense(units=12, input_dim=17, activation = 'relu')) # 添加输入层\n",
    "dnn.add(Dense(units=24, activation = 'relu')) # 添加隐层\n",
    "dnn.add(Dense(units=1, activation = 'sigmoid')) # 添加输出层\n",
    "dnn.summary() # 显示网络模型（这个语句不是必须的）\n",
    "# 编译神经网络，指定优化器，损失函数，以及评估标准\n",
    "dnn.compile(optimizer = 'RMSProp', #优化器\n",
    "            loss = 'binary_crossentropy', #损失函数\n",
    "            metrics = ['acc']) #评估标准"
   ]
  },
  {
   "cell_type": "markdown",
   "metadata": {},
   "source": [
    "这段代码使用 Keras（一个流行的深度学习库）创建了一个简单的神经网络，可以用于二分类问题。现在解释一下创建的这个深度神经网络（DNN）模型的每一个步骤：\n",
    "\n",
    "1. 首先，我们通过 `import keras` 导入了 Keras 库。Keras 是一个用于构建和训练神经网络的高级界面，它可以在 TensorFlow、CNTK 或 Theano 等后端之上运行。\n",
    "\n",
    "2. 然后，我们导入了序贯模型（`Sequential`）和密集连接层（`Dense`）。序贯模型是神经网络模型的一种类型，它由一个线性堆叠的层组成。密集连接层（也叫全连接层）是神经网络常用的层类型，其中每个神经元都连接到它前一层的所有神经元。\n",
    "\n",
    "3. 接下来，我们创建了一个空的序贯模型 `dnn`。\n",
    "\n",
    "4-6. 然后，我们使用 `dnn.add()` 方法向模型中添加了三层网络：\n",
    "    1. 第一层是输入层，有 12 个神经元，接收 17 个输入（即数据的特征数）。这一层使用了 ReLU（Rectified Linear Unit）激活函数。\n",
    "    2. 第二层是隐藏层，有 24 个神经元，使用 ReLU 激活函数。\n",
    "    3. 第三层是输出层，有 1 个神经元，使用 sigmoid 激活函数。sigmoid 激活函数将输入值映射到 0 和 1 之间，因此在二分类问题中，它可以用于表示预测属于某一类的概率。\n",
    "\n",
    "7. `dnn.summary()` 打印并显示了模型的总体结构。这一行代码并非必需，但可以帮助我们清晰地查看模型结构并进行确认。\n",
    "\n",
    "8. 最后，我们使用 `dnn.compile()` 方法来编译神经网络。在该方法中，我们需要指定损失函数、优化器和评估指标：\n",
    "    1. 优化器是一种更新权重以最小化损失函数的算法。在这里我们选择了 'RMSProp'。优化器有多种选择，比如 'adam'、'sgd' 等。\n",
    "    2. 损失函数是评估预测结果与真实值之间差距的度量。在这里我们选择了 'binary_crossentropy'，适用于二分类问题。\n",
    "    3. 评估指标用于评估训练和测试过程中模型的性能。在这里，我们选择了 'acc' （准确率）作为评估指标。\n",
    "\n",
    " 当模型定义完毕并编译后，接下来可以使用 `dnn.fit()` 方法对训练数据进行训练。同时，可以使用 `dnn.evaluate()` 和 `dnn.predict()` 方法评估模型的性能以及生成预测。"
   ]
  },
  {
   "cell_type": "code",
   "execution_count": 18,
   "metadata": {},
   "outputs": [
    {
     "data": {
      "text/plain": [
       "(5634, 17)"
      ]
     },
     "execution_count": 18,
     "metadata": {},
     "output_type": "execute_result"
    }
   ],
   "source": [
    "X_train.shape #X_train目前的形状"
   ]
  },
  {
   "cell_type": "markdown",
   "metadata": {},
   "source": [
    "`X_train.shape` 是一个 Python 代码语句，用于查看名为 `X_train` 的数组的形状（维度）。这里，`X_train` 代表神经网络训练所需的输入数据。\n",
    "\n",
    "神经网络所需的输入数据通常是一个二维数组，第一个维度表示样本数量，第二个维度表示样本中的特征数量。例如，如果 `X_train` 是一个 `(5634, 17)` 形状的数组，这意味着有 5634 个训练样本，每个样本有 17 个特征。\n",
    "\n",
    "要注意的是，为了使用上述 `dnn` 模型进行训练，您需要确保 `X_train` 的特征数（第二个维度）与模型输入层的 `input_dim` 参数匹配。在您提供的代码中，`input_dim` 被设置为 17，意味着您的训练数据应该有 17 个特征。"
   ]
  },
  {
   "cell_type": "code",
   "execution_count": 19,
   "metadata": {},
   "outputs": [],
   "source": [
    "X_train = np.asarray(X_train).astype(np.float32) # 转换为NumPy张量\n",
    "X_test = np.asarray(X_test).astype(np.float32) # 转换为NumPy张量"
   ]
  },
  {
   "cell_type": "markdown",
   "metadata": {},
   "source": [
    "这段代码将名为 `X_train` 和 `X_test` 的数组转换为 NumPy 张量（即多维数组）。首先，它们使用 `np.asarray()` 函数将输入数据转换为 NumPy 数组，随后使用 `astype(np.float32)` 将数据类型转换为 `float32`。这里，`np` 应为 NumPy 库的别名，你需要首先通过 `import numpy as np` 导入 NumPy 库。\n",
    "\n",
    "将数据转换为 `float32` 类型是一个常见的预处理步骤，因为许多深度学习库在处理浮点数时优先选择 32 位浮点数。此外，一些库（如 TensorFlow 和 Keras）要求用于训练和测试的数据为 NumPy 数组格式。\n",
    "\n",
    "在完成数据转换后，您可以将预处理后的 `X_train` 和 `X_test` 数据用于训练神经网络，并使用 `dnn.fit()` 和 `dnn.evaluate()` 进行训练和评估。同时，确保您还有对应的训练和测试标签（如 `y_train` 和 `y_test`），它们需要与输入数据一起提供。"
   ]
  },
  {
   "cell_type": "code",
   "execution_count": 20,
   "metadata": {},
   "outputs": [
    {
     "data": {
      "text/plain": [
       "dtype('float32')"
      ]
     },
     "execution_count": 20,
     "metadata": {},
     "output_type": "execute_result"
    }
   ],
   "source": [
    "X_train.dtype #X_train转换后的类型"
   ]
  },
  {
   "cell_type": "markdown",
   "metadata": {},
   "source": [
    "`X_train.dtype` 是一个 Python 代码语句，用于查看名为 `X_train` 的数组的数据类型。在您的情况下，由于之前执行了 `.astype(np.float32)`，`X_train` 的数据类型应为 `float32`。\n",
    "\n",
    "`float32` 数据类型表示 32 位浮点数。这意味着在 `X_train` 的数组中，每个数组元素（即特征值）都被存储为 32 位浮点数。将数据转换为 `float32` 可以确保与深度学习库之间的兼容性，并在某些情况下还可提高计算性能。"
   ]
  },
  {
   "cell_type": "code",
   "execution_count": 21,
   "metadata": {},
   "outputs": [
    {
     "name": "stdout",
     "output_type": "stream",
     "text": [
      "Epoch 1/30\n",
      "71/71 [==============================] - 1s 4ms/step - loss: 4.3733 - acc: 0.6392 - val_loss: 7.3057 - val_acc: 0.2937\n",
      "Epoch 2/30\n",
      "71/71 [==============================] - 0s 2ms/step - loss: 3.0123 - acc: 0.6672 - val_loss: 1.5042 - val_acc: 0.7400\n",
      "Epoch 3/30\n",
      "71/71 [==============================] - 0s 2ms/step - loss: 2.8954 - acc: 0.6588 - val_loss: 5.3508 - val_acc: 0.7533\n",
      "Epoch 4/30\n",
      "71/71 [==============================] - 0s 2ms/step - loss: 2.9433 - acc: 0.6727 - val_loss: 0.7894 - val_acc: 0.7028\n",
      "Epoch 5/30\n",
      "71/71 [==============================] - 0s 2ms/step - loss: 2.8898 - acc: 0.6858 - val_loss: 5.1067 - val_acc: 0.2946\n",
      "Epoch 6/30\n",
      "71/71 [==============================] - 0s 2ms/step - loss: 2.8565 - acc: 0.6818 - val_loss: 2.9517 - val_acc: 0.7595\n",
      "Epoch 7/30\n",
      "71/71 [==============================] - 0s 2ms/step - loss: 2.9128 - acc: 0.6814 - val_loss: 1.7093 - val_acc: 0.7791\n",
      "Epoch 8/30\n",
      "71/71 [==============================] - 0s 2ms/step - loss: 2.5671 - acc: 0.6949 - val_loss: 5.9854 - val_acc: 0.7498\n",
      "Epoch 9/30\n",
      "71/71 [==============================] - 0s 2ms/step - loss: 2.8238 - acc: 0.6963 - val_loss: 1.7982 - val_acc: 0.7826\n",
      "Epoch 10/30\n",
      "71/71 [==============================] - 0s 2ms/step - loss: 2.5161 - acc: 0.7078 - val_loss: 3.5323 - val_acc: 0.7595\n",
      "Epoch 11/30\n",
      "71/71 [==============================] - 0s 2ms/step - loss: 2.7283 - acc: 0.7022 - val_loss: 0.6756 - val_acc: 0.7196\n",
      "Epoch 12/30\n",
      "71/71 [==============================] - 0s 2ms/step - loss: 2.5584 - acc: 0.7122 - val_loss: 6.3822 - val_acc: 0.3097\n",
      "Epoch 13/30\n",
      "71/71 [==============================] - 0s 2ms/step - loss: 2.7156 - acc: 0.6994 - val_loss: 7.9768 - val_acc: 0.3132\n",
      "Epoch 14/30\n",
      "71/71 [==============================] - 0s 2ms/step - loss: 2.7193 - acc: 0.7022 - val_loss: 2.4808 - val_acc: 0.7746\n",
      "Epoch 15/30\n",
      "71/71 [==============================] - 0s 2ms/step - loss: 2.5176 - acc: 0.7080 - val_loss: 4.3105 - val_acc: 0.7489\n",
      "Epoch 16/30\n",
      "71/71 [==============================] - 0s 2ms/step - loss: 2.4671 - acc: 0.7162 - val_loss: 1.8881 - val_acc: 0.4942\n",
      "Epoch 17/30\n",
      "71/71 [==============================] - 0s 2ms/step - loss: 2.4205 - acc: 0.7193 - val_loss: 1.6305 - val_acc: 0.7844\n",
      "Epoch 18/30\n",
      "71/71 [==============================] - 0s 2ms/step - loss: 2.6115 - acc: 0.7036 - val_loss: 3.2866 - val_acc: 0.7631\n",
      "Epoch 19/30\n",
      "71/71 [==============================] - 0s 2ms/step - loss: 2.2748 - acc: 0.7178 - val_loss: 5.3806 - val_acc: 0.7480\n",
      "Epoch 20/30\n",
      "71/71 [==============================] - 0s 2ms/step - loss: 2.5113 - acc: 0.7040 - val_loss: 1.9365 - val_acc: 0.7853\n",
      "Epoch 21/30\n",
      "71/71 [==============================] - 0s 2ms/step - loss: 2.2844 - acc: 0.7253 - val_loss: 1.0962 - val_acc: 0.7870\n",
      "Epoch 22/30\n",
      "71/71 [==============================] - 0s 2ms/step - loss: 2.2955 - acc: 0.7105 - val_loss: 1.2048 - val_acc: 0.7906\n",
      "Epoch 23/30\n",
      "71/71 [==============================] - 0s 2ms/step - loss: 2.3536 - acc: 0.7136 - val_loss: 6.1294 - val_acc: 0.7516\n",
      "Epoch 24/30\n",
      "71/71 [==============================] - 0s 2ms/step - loss: 2.3633 - acc: 0.7182 - val_loss: 1.2621 - val_acc: 0.7933\n",
      "Epoch 25/30\n",
      "71/71 [==============================] - 0s 2ms/step - loss: 2.0938 - acc: 0.7235 - val_loss: 2.8673 - val_acc: 0.7720\n",
      "Epoch 26/30\n",
      "71/71 [==============================] - 0s 2ms/step - loss: 2.2157 - acc: 0.7211 - val_loss: 1.3058 - val_acc: 0.7835\n",
      "Epoch 27/30\n",
      "71/71 [==============================] - 0s 2ms/step - loss: 2.0809 - acc: 0.7235 - val_loss: 3.5368 - val_acc: 0.7524\n",
      "Epoch 28/30\n",
      "71/71 [==============================] - 0s 2ms/step - loss: 2.1400 - acc: 0.7222 - val_loss: 1.3482 - val_acc: 0.7879\n",
      "Epoch 29/30\n",
      "71/71 [==============================] - 0s 2ms/step - loss: 2.1100 - acc: 0.7235 - val_loss: 1.0244 - val_acc: 0.5980\n",
      "Epoch 30/30\n",
      "71/71 [==============================] - 0s 2ms/step - loss: 2.1051 - acc: 0.7113 - val_loss: 4.0079 - val_acc: 0.7533\n"
     ]
    }
   ],
   "source": [
    "history = dnn.fit(X_train, y_train, # 指定训练集\n",
    "                  epochs=30,        # 指定训练的轮次\n",
    "                  batch_size=64,    # 指定数据批量\n",
    "                  validation_split=0.2) #这里直接从训练集数据中拆分验证集，更方便"
   ]
  },
  {
   "cell_type": "markdown",
   "metadata": {},
   "source": [
    "在这段代码中，我们使用 `dnn.fit()` 函数训练一个深度神经网络（DNN）模型。我们传递了以下参数：\n",
    "\n",
    "1. `X_train` 和 `y_train`：分别表示训练输入数据和对应的标签（或目标）。\n",
    "2. `epochs=30`：指定训练的轮次。每个轮次都会遍历整个训练数据集一次。在这个例子中，我们将进行 30 轮训练。\n",
    "3. `batch_size=64`：指定数据批量大小。在每轮训练中，模型会将训练数据拆分成大小为 64 的小批量，以便进行批量梯度下降优化。批量并行计算通常可以提高训练效率。\n",
    "4. `validation_split=0.2`：此参数表示我们将从训练集中拆分 20% 的数据作为验证集。验证集数据不用于模型训练，而是在每轮训练后用来评估模型的性能，以检测是否出现过拟合（模型在训练数据上表现良好，但在新数据上表现不佳）。\n",
    "\n",
    "`dnn.fit()` 函数返回一个名为 `history` 的对象，其中包含了训练期间的关键指标，如每轮训练的损失值和准确率以及验证集上的性能。您可以使用 `history.history` 属性访问这些指标，如：`history.history['accuracy']` 和 `history.history['val_accuracy']`。在训练完成后，您可以使用这些数据绘制学习曲线以评估模型的性能。"
   ]
  },
  {
   "cell_type": "markdown",
   "metadata": {},
   "source": [
    "## 评估神经网络模型\n",
    "\n",
    "我们之前介绍了显示损失曲线和准确率曲线的方法。现在，让我们使用这个方法来观察在上述训练过程中，随着梯度下降和模型拟合的进行，损失和准确率在训练集和验证集上的变化情况。"
   ]
  },
  {
   "cell_type": "code",
   "execution_count": 22,
   "metadata": {},
   "outputs": [],
   "source": [
    "def show_history(history): # 显示训练过程中的学习曲线\n",
    "    loss = history.history['loss']\n",
    "    val_loss = history.history['val_loss']\n",
    "    epochs = range(1, len(loss) + 1)\n",
    "    plt.figure(figsize=(12,4))\n",
    "    plt.subplot(1, 2, 1)\n",
    "    plt.plot(epochs, loss, 'bo', label='Training loss')\n",
    "    plt.plot(epochs, val_loss, 'b', label='Validation loss')\n",
    "    plt.title('Training and validation loss')\n",
    "    plt.xlabel('Epochs')\n",
    "    plt.ylabel('Loss')\n",
    "    plt.legend()\n",
    "    acc = history.history['acc']\n",
    "    val_acc = history.history['val_acc']\n",
    "    plt.subplot(1, 2, 2)\n",
    "    plt.plot(epochs, acc, 'bo', label='Training acc')\n",
    "    plt.plot(epochs, val_acc, 'b', label='Validation acc')\n",
    "    plt.title('Training and validation accuracy')\n",
    "    plt.xlabel('Epochs')\n",
    "    plt.ylabel('Accuracy')\n",
    "    plt.legend()\n",
    "    plt.show() "
   ]
  },
  {
   "cell_type": "markdown",
   "metadata": {},
   "source": [
    "这段代码定义了一个名为 `show_history` 的函数，用于显示训练过程中的学习曲线。这个函数接收一个 `history` 对象作为输入，这个对象是之前 `dnn.fit()` 函数的输出。`history` 对象包含了训练和验证集上的损失值（`loss` 和 `val_loss`）和准确率（`accuracy` 和 `val_accuracy`）。\n",
    "\n",
    "该函数首先从 `history` 对象中提取损失值和准确率，然后使用 Matplotlib 库（用 `plt` 表示）绘制这些值随着训练轮次的变化。\n",
    "\n",
    "函数创建了一个图形（`plt.figure()`），并将其分为两个子图（每个子图占据图形的 1/2 面积）：\n",
    "\n",
    "1. 第一个子图显示训练损失和验证损失。它使用蓝色圆点（`bo`）表示训练损失，蓝色实线（`b`）表示验证损失。子图的标题为 \"Training and validation loss\"，横轴表示轮次，纵轴表示损失值。\n",
    "2. 第二个子图显示训练准确率和验证准确率。类似地，它使用蓝色圆点（`bo`）表示训练准确率，蓝色实线（`b`）表示验证准确率。子图的标题为 \"Training and validation accuracy\"，横轴表示轮次，纵轴表示准确率。\n",
    "\n",
    "最后，`plt.show()` 函数调用用于显示生成的图形。\n",
    "\n",
    "通过观察学习曲线，可以了解模型在训练过程中性能的变化。例如，如果验证损失在几轮后开始上升，而训练损失继续下降，则可能表示模型出现过拟合。在这种情况下，可以尝试减少模型复杂性，调整学习速率或使用更多的训练数据。"
   ]
  },
  {
   "cell_type": "code",
   "execution_count": 23,
   "metadata": {
    "scrolled": true
   },
   "outputs": [
    {
     "data": {
      "image/png": "[encoded data removed]",
      "text/plain": [
       "<Figure size 1200x400 with 2 Axes>"
      ]
     },
     "metadata": {},
     "output_type": "display_data"
    }
   ],
   "source": [
    "show_history(history) # 调用这个函数"
   ]
  },
  {
   "cell_type": "markdown",
   "metadata": {},
   "source": [
    "从图中可以看出，训练集的损失逐渐减少，准确率逐渐增加。然而，验证集的曲线并不平滑，存在振荡的情况。这种情况表明网络尚未完全训练好。"
   ]
  },
  {
   "cell_type": "code",
   "execution_count": 24,
   "metadata": {},
   "outputs": [
    {
     "name": "stdout",
     "output_type": "stream",
     "text": [
      "45/45 [==============================] - 0s 969us/step - loss: 3.2242 - acc: 0.7786\n",
      "DNN的测试准确率为 77.86%\n"
     ]
    }
   ],
   "source": [
    "result = dnn.evaluate(X_test, y_test) #评估测试集上的准确率\n",
    "print('DNN的测试准确率为',\"{0:.2f}%\".format(result[1]*100))"
   ]
  },
  {
   "cell_type": "code",
   "execution_count": 25,
   "metadata": {},
   "outputs": [
    {
     "name": "stdout",
     "output_type": "stream",
     "text": [
      "45/45 [==============================] - 0s 841us/step\n",
      "第一个用户分类结果为: 0\n"
     ]
    }
   ],
   "source": [
    "prediction = dnn.predict(X_test) #预测测试集的图片分类\n",
    "print('第一个用户分类结果为:', np.argmax(prediction[0]))"
   ]
  },
  {
   "cell_type": "markdown",
   "metadata": {},
   "source": [
    "## 训练神经网络模型-归一化之后\n",
    "\n",
    "这种振荡现象的出现是由于数据没有进行归一化所造成的。如之前所述，神经网络在处理数据时通常需要进行归一化操作，这是因为神经网络对于具有不同数值范围的特征可能表现出不稳定的行为。\n",
    "\n",
    "在预处理数据集时，我们可能忽略了一个重要的步骤，即对数据进行归一化。"
   ]
  },
  {
   "cell_type": "code",
   "execution_count": 26,
   "metadata": {},
   "outputs": [],
   "source": [
    "# from sklearn.model_selection import train_test_split\n",
    "# X_train, X_test, y_train, y_test = train_test_split(X,y,test_size = 0.2)"
   ]
  },
  {
   "cell_type": "code",
   "execution_count": 27,
   "metadata": {},
   "outputs": [],
   "source": [
    "# X_train = np.asarray(X_train).astype(np.float32)\n",
    "# X_test = np.asarray(X_test).astype(np.float32)"
   ]
  },
  {
   "cell_type": "code",
   "execution_count": 28,
   "metadata": {},
   "outputs": [],
   "source": [
    "from sklearn.preprocessing import MinMaxScaler #导入归一化缩放器\n",
    "scaler = MinMaxScaler() #创建归一化缩放器\n",
    "X_train = scaler.fit_transform(X_train) #拟合并转换训练集数据\n",
    "X_test = scaler.transform(X_test) #转换测试集数据"
   ]
  },
  {
   "cell_type": "markdown",
   "metadata": {},
   "source": [
    "这段代码导入了 `MinMaxScaler` 类，它是 sklearn 库中用于数据预处理的一个功能模块。MinMaxScaler 将数据缩放到给定的最小值和最大值范围（默认区间为 [0, 1]）内，这样可以使数据更适合应用于神经网络训练。\n",
    "\n",
    "创建 `MinMaxScaler` 的实例后，我们使用该实例对训练集数据 `X_train` 进行拟合（`fit`）和转换（`transform`）。拟合过程会计算训练集中特征的最小值和最大值，并在转换中应用它们以进行缩放。这样，原始训练集中的所有特征值都会在 0 到 1 之间。\n",
    "\n",
    "完成训练集数据转换后，我们使用相同的缩放器实例对测试集数据 `X_test` 进行转换（但不拟合）。这样可以确保测试集数据的缩放方式与训练集数据相同。这一步非常重要，因为在训练过程中，模型学习了训练数据的分布特征。为了正确评估模型在新数据上的性能，我们需要以相同的方式预处理测试数据。\n",
    "\n",
    "总之，在这段代码中，我们通过使特征值在 0 到 1 之间缩放，对训练集和测试集数据进行了预处理。这是一个常见的数据预处理步骤，有助于提高模型的训练效果。"
   ]
  },
  {
   "cell_type": "code",
   "execution_count": 29,
   "metadata": {
    "scrolled": false
   },
   "outputs": [
    {
     "name": "stdout",
     "output_type": "stream",
     "text": [
      "Epoch 1/30\n",
      "71/71 [==============================] - 0s 3ms/step - loss: 0.5121 - acc: 0.7355 - val_loss: 0.5273 - val_acc: 0.7134\n",
      "Epoch 2/30\n",
      "71/71 [==============================] - 0s 2ms/step - loss: 0.4891 - acc: 0.7464 - val_loss: 0.5002 - val_acc: 0.7516\n",
      "Epoch 3/30\n",
      "71/71 [==============================] - 0s 2ms/step - loss: 0.4695 - acc: 0.7744 - val_loss: 0.4867 - val_acc: 0.7711\n",
      "Epoch 4/30\n",
      "71/71 [==============================] - 0s 2ms/step - loss: 0.4604 - acc: 0.7775 - val_loss: 0.4812 - val_acc: 0.7755\n",
      "Epoch 5/30\n",
      "71/71 [==============================] - 0s 2ms/step - loss: 0.4544 - acc: 0.7797 - val_loss: 0.4774 - val_acc: 0.7746\n",
      "Epoch 6/30\n",
      "71/71 [==============================] - 0s 2ms/step - loss: 0.4495 - acc: 0.7830 - val_loss: 0.4730 - val_acc: 0.7746\n",
      "Epoch 7/30\n",
      "71/71 [==============================] - 0s 2ms/step - loss: 0.4456 - acc: 0.7861 - val_loss: 0.4699 - val_acc: 0.7728\n",
      "Epoch 8/30\n",
      "71/71 [==============================] - 0s 2ms/step - loss: 0.4418 - acc: 0.7886 - val_loss: 0.4653 - val_acc: 0.7782\n",
      "Epoch 9/30\n",
      "71/71 [==============================] - 0s 2ms/step - loss: 0.4385 - acc: 0.7874 - val_loss: 0.4622 - val_acc: 0.7817\n",
      "Epoch 10/30\n",
      "71/71 [==============================] - 0s 2ms/step - loss: 0.4358 - acc: 0.7852 - val_loss: 0.4628 - val_acc: 0.7817\n",
      "Epoch 11/30\n",
      "71/71 [==============================] - 0s 2ms/step - loss: 0.4330 - acc: 0.7901 - val_loss: 0.4597 - val_acc: 0.7853\n",
      "Epoch 12/30\n",
      "71/71 [==============================] - 0s 2ms/step - loss: 0.4310 - acc: 0.7917 - val_loss: 0.4617 - val_acc: 0.7835\n",
      "Epoch 13/30\n",
      "71/71 [==============================] - 0s 2ms/step - loss: 0.4287 - acc: 0.7939 - val_loss: 0.4576 - val_acc: 0.7906\n",
      "Epoch 14/30\n",
      "71/71 [==============================] - 0s 2ms/step - loss: 0.4272 - acc: 0.7923 - val_loss: 0.4595 - val_acc: 0.7915\n",
      "Epoch 15/30\n",
      "71/71 [==============================] - 0s 2ms/step - loss: 0.4249 - acc: 0.7892 - val_loss: 0.4529 - val_acc: 0.7888\n",
      "Epoch 16/30\n",
      "71/71 [==============================] - 0s 2ms/step - loss: 0.4245 - acc: 0.7925 - val_loss: 0.4557 - val_acc: 0.7933\n",
      "Epoch 17/30\n",
      "71/71 [==============================] - 0s 2ms/step - loss: 0.4234 - acc: 0.7937 - val_loss: 0.4518 - val_acc: 0.7941\n",
      "Epoch 18/30\n",
      "71/71 [==============================] - 0s 2ms/step - loss: 0.4223 - acc: 0.7932 - val_loss: 0.4536 - val_acc: 0.7924\n",
      "Epoch 19/30\n",
      "71/71 [==============================] - 0s 2ms/step - loss: 0.4210 - acc: 0.7930 - val_loss: 0.4508 - val_acc: 0.7933\n",
      "Epoch 20/30\n",
      "71/71 [==============================] - 0s 2ms/step - loss: 0.4204 - acc: 0.7948 - val_loss: 0.4567 - val_acc: 0.7862\n",
      "Epoch 21/30\n",
      "71/71 [==============================] - 0s 2ms/step - loss: 0.4195 - acc: 0.7948 - val_loss: 0.4546 - val_acc: 0.7950\n",
      "Epoch 22/30\n",
      "71/71 [==============================] - 0s 2ms/step - loss: 0.4189 - acc: 0.7943 - val_loss: 0.4514 - val_acc: 0.7968\n",
      "Epoch 23/30\n",
      "71/71 [==============================] - 0s 2ms/step - loss: 0.4182 - acc: 0.7957 - val_loss: 0.4534 - val_acc: 0.7915\n",
      "Epoch 24/30\n",
      "71/71 [==============================] - 0s 2ms/step - loss: 0.4175 - acc: 0.7921 - val_loss: 0.4533 - val_acc: 0.7897\n",
      "Epoch 25/30\n",
      "71/71 [==============================] - 0s 2ms/step - loss: 0.4169 - acc: 0.7959 - val_loss: 0.4544 - val_acc: 0.7870\n",
      "Epoch 26/30\n",
      "71/71 [==============================] - 0s 2ms/step - loss: 0.4168 - acc: 0.7952 - val_loss: 0.4526 - val_acc: 0.7906\n",
      "Epoch 27/30\n",
      "71/71 [==============================] - 0s 2ms/step - loss: 0.4161 - acc: 0.7961 - val_loss: 0.4522 - val_acc: 0.7906\n",
      "Epoch 28/30\n",
      "71/71 [==============================] - 0s 2ms/step - loss: 0.4157 - acc: 0.7965 - val_loss: 0.4614 - val_acc: 0.7808\n",
      "Epoch 29/30\n",
      "71/71 [==============================] - 0s 2ms/step - loss: 0.4152 - acc: 0.7928 - val_loss: 0.4556 - val_acc: 0.7817\n",
      "Epoch 30/30\n",
      "71/71 [==============================] - 0s 2ms/step - loss: 0.4151 - acc: 0.7968 - val_loss: 0.4527 - val_acc: 0.7879\n"
     ]
    },
    {
     "data": {
      "image/png": "[encoded data removed]",
      "text/plain": [
       "<Figure size 1200x400 with 2 Axes>"
      ]
     },
     "metadata": {},
     "output_type": "display_data"
    }
   ],
   "source": [
    "history = dnn.fit(X_train, y_train, # 指定训练集\n",
    "                  epochs=30,        # 指定训练的轮次\n",
    "                  batch_size=64,    # 指定数据批量\n",
    "                  validation_split=0.2) #指定验证集,这里为了简化模型，直接用训练集数据\n",
    "show_history(history) # 调用这个函数"
   ]
  },
  {
   "cell_type": "markdown",
   "metadata": {},
   "source": [
    "结果显示，振荡现象已消失，曲线变得更平滑。这表明神经网络能够正常训练。"
   ]
  },
  {
   "cell_type": "code",
   "execution_count": 30,
   "metadata": {},
   "outputs": [
    {
     "name": "stdout",
     "output_type": "stream",
     "text": [
      "45/45 [==============================] - 0s 955us/step - loss: 0.4276 - acc: 0.7913\n",
      "DNN（归一化之后）的测试准确率为 79.13%\n"
     ]
    }
   ],
   "source": [
    "result = dnn.evaluate(X_test, y_test) #评估测试集上的准确率\n",
    "print('DNN（归一化之后）的测试准确率为',\"{0:.2f}%\".format(result[1]*100))"
   ]
  },
  {
   "cell_type": "code",
   "execution_count": null,
   "metadata": {},
   "outputs": [],
   "source": []
  }
 ],
 "metadata": {
  "kernelspec": {
   "display_name": "Python 3 (ipykernel)",
   "language": "python",
   "name": "python3"
  },
  "language_info": {
   "codemirror_mode": {
    "name": "ipython",
    "version": 3
   },
   "file_extension": ".py",
   "mimetype": "text/x-python",
   "name": "python",
   "nbconvert_exporter": "python",
   "pygments_lexer": "ipython3",
   "version": "3.10.9"
  }
 },
 "nbformat": 4,
 "nbformat_minor": 2
}
