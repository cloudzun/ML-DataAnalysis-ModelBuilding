{
 "cells": [
  {
   "cell_type": "markdown",
   "metadata": {},
   "source": [
    "# 定义问题\n",
    "\n",
    "基于05b，了解分类问题的评估指标：\n",
    "- 混淆矩阵\n",
    "- 精确率\n",
    "- 召回率\n",
    "- F1分数\n",
    "- ROC曲线和AUC\n"
   ]
  },
  {
   "cell_type": "markdown",
   "metadata": {},
   "source": [
    "# 数据预处理"
   ]
  },
  {
   "cell_type": "code",
   "execution_count": 1,
   "metadata": {},
   "outputs": [],
   "source": [
    "# 导入数据包\n",
    "import numpy as np # \n",
    "import pandas as pd #\n",
    "import matplotlib.pyplot as plt #"
   ]
  },
  {
   "cell_type": "code",
   "execution_count": 2,
   "metadata": {
    "scrolled": false
   },
   "outputs": [
    {
     "data": {
      "text/html": [
       "<div>\n",
       "<style scoped>\n",
       "    .dataframe tbody tr th:only-of-type {\n",
       "        vertical-align: middle;\n",
       "    }\n",
       "\n",
       "    .dataframe tbody tr th {\n",
       "        vertical-align: top;\n",
       "    }\n",
       "\n",
       "    .dataframe thead th {\n",
       "        text-align: right;\n",
       "    }\n",
       "</style>\n",
       "<table border=\"1\" class=\"dataframe\">\n",
       "  <thead>\n",
       "    <tr style=\"text-align: right;\">\n",
       "      <th></th>\n",
       "      <th>用户码</th>\n",
       "      <th>性别</th>\n",
       "      <th>玫瑰套餐</th>\n",
       "      <th>紫罗兰套餐</th>\n",
       "      <th>郁金香套餐</th>\n",
       "      <th>百合套餐</th>\n",
       "      <th>康乃馨套餐</th>\n",
       "      <th>胡姬花套餐</th>\n",
       "      <th>生日套餐</th>\n",
       "      <th>情人节套餐</th>\n",
       "      <th>会员卡类型</th>\n",
       "      <th>入会月数</th>\n",
       "      <th>会费支付方式</th>\n",
       "      <th>平均月消费</th>\n",
       "      <th>总消费</th>\n",
       "      <th>已停付会费</th>\n",
       "    </tr>\n",
       "  </thead>\n",
       "  <tbody>\n",
       "    <tr>\n",
       "      <th>0</th>\n",
       "      <td>1</td>\n",
       "      <td>女</td>\n",
       "      <td>是</td>\n",
       "      <td>是</td>\n",
       "      <td>否</td>\n",
       "      <td>是</td>\n",
       "      <td>否</td>\n",
       "      <td>是</td>\n",
       "      <td>是</td>\n",
       "      <td>否</td>\n",
       "      <td>年卡</td>\n",
       "      <td>9</td>\n",
       "      <td>手工转账</td>\n",
       "      <td>65.60</td>\n",
       "      <td>593.3</td>\n",
       "      <td>否</td>\n",
       "    </tr>\n",
       "    <tr>\n",
       "      <th>1</th>\n",
       "      <td>2</td>\n",
       "      <td>男</td>\n",
       "      <td>否</td>\n",
       "      <td>否</td>\n",
       "      <td>否</td>\n",
       "      <td>否</td>\n",
       "      <td>否</td>\n",
       "      <td>否</td>\n",
       "      <td>否</td>\n",
       "      <td>是</td>\n",
       "      <td>月卡</td>\n",
       "      <td>9</td>\n",
       "      <td>手工转账</td>\n",
       "      <td>59.90</td>\n",
       "      <td>542.4</td>\n",
       "      <td>否</td>\n",
       "    </tr>\n",
       "    <tr>\n",
       "      <th>2</th>\n",
       "      <td>3</td>\n",
       "      <td>男</td>\n",
       "      <td>否</td>\n",
       "      <td>否</td>\n",
       "      <td>否</td>\n",
       "      <td>否</td>\n",
       "      <td>是</td>\n",
       "      <td>否</td>\n",
       "      <td>否</td>\n",
       "      <td>否</td>\n",
       "      <td>月卡</td>\n",
       "      <td>4</td>\n",
       "      <td>就餐时付费</td>\n",
       "      <td>73.90</td>\n",
       "      <td>280.85</td>\n",
       "      <td>是</td>\n",
       "    </tr>\n",
       "    <tr>\n",
       "      <th>3</th>\n",
       "      <td>4</td>\n",
       "      <td>男</td>\n",
       "      <td>是</td>\n",
       "      <td>否</td>\n",
       "      <td>否</td>\n",
       "      <td>是</td>\n",
       "      <td>是</td>\n",
       "      <td>否</td>\n",
       "      <td>是</td>\n",
       "      <td>是</td>\n",
       "      <td>月卡</td>\n",
       "      <td>13</td>\n",
       "      <td>就餐时付费</td>\n",
       "      <td>98.00</td>\n",
       "      <td>1237.85</td>\n",
       "      <td>是</td>\n",
       "    </tr>\n",
       "    <tr>\n",
       "      <th>4</th>\n",
       "      <td>5</td>\n",
       "      <td>女</td>\n",
       "      <td>否</td>\n",
       "      <td>是</td>\n",
       "      <td>否</td>\n",
       "      <td>否</td>\n",
       "      <td>否</td>\n",
       "      <td>是</td>\n",
       "      <td>是</td>\n",
       "      <td>是</td>\n",
       "      <td>月卡</td>\n",
       "      <td>9</td>\n",
       "      <td>花呗付款</td>\n",
       "      <td>69.40</td>\n",
       "      <td>571.45</td>\n",
       "      <td>否</td>\n",
       "    </tr>\n",
       "    <tr>\n",
       "      <th>...</th>\n",
       "      <td>...</td>\n",
       "      <td>...</td>\n",
       "      <td>...</td>\n",
       "      <td>...</td>\n",
       "      <td>...</td>\n",
       "      <td>...</td>\n",
       "      <td>...</td>\n",
       "      <td>...</td>\n",
       "      <td>...</td>\n",
       "      <td>...</td>\n",
       "      <td>...</td>\n",
       "      <td>...</td>\n",
       "      <td>...</td>\n",
       "      <td>...</td>\n",
       "      <td>...</td>\n",
       "      <td>...</td>\n",
       "    </tr>\n",
       "    <tr>\n",
       "      <th>7038</th>\n",
       "      <td>7039</td>\n",
       "      <td>女</td>\n",
       "      <td>否</td>\n",
       "      <td>否</td>\n",
       "      <td>是</td>\n",
       "      <td>否</td>\n",
       "      <td>否</td>\n",
       "      <td>是</td>\n",
       "      <td>否</td>\n",
       "      <td>否</td>\n",
       "      <td>年卡</td>\n",
       "      <td>13</td>\n",
       "      <td>手工转账</td>\n",
       "      <td>55.15</td>\n",
       "      <td>742.9</td>\n",
       "      <td>否</td>\n",
       "    </tr>\n",
       "    <tr>\n",
       "      <th>7039</th>\n",
       "      <td>7040</td>\n",
       "      <td>男</td>\n",
       "      <td>否</td>\n",
       "      <td>否</td>\n",
       "      <td>否</td>\n",
       "      <td>是</td>\n",
       "      <td>否</td>\n",
       "      <td>否</td>\n",
       "      <td>否</td>\n",
       "      <td>否</td>\n",
       "      <td>月卡</td>\n",
       "      <td>2</td>\n",
       "      <td>手工转账</td>\n",
       "      <td>50.30</td>\n",
       "      <td>92.75</td>\n",
       "      <td>否</td>\n",
       "    </tr>\n",
       "    <tr>\n",
       "      <th>7040</th>\n",
       "      <td>7041</td>\n",
       "      <td>男</td>\n",
       "      <td>是</td>\n",
       "      <td>否</td>\n",
       "      <td>否</td>\n",
       "      <td>否</td>\n",
       "      <td>否</td>\n",
       "      <td>否</td>\n",
       "      <td>否</td>\n",
       "      <td>是</td>\n",
       "      <td>月卡</td>\n",
       "      <td>22</td>\n",
       "      <td>就餐时付费</td>\n",
       "      <td>85.10</td>\n",
       "      <td>1873.7</td>\n",
       "      <td>是</td>\n",
       "    </tr>\n",
       "    <tr>\n",
       "      <th>7041</th>\n",
       "      <td>7042</td>\n",
       "      <td>男</td>\n",
       "      <td>是</td>\n",
       "      <td>是</td>\n",
       "      <td>是</td>\n",
       "      <td>否</td>\n",
       "      <td>是</td>\n",
       "      <td>是</td>\n",
       "      <td>否</td>\n",
       "      <td>是</td>\n",
       "      <td>双年卡</td>\n",
       "      <td>67</td>\n",
       "      <td>手工转账</td>\n",
       "      <td>67.85</td>\n",
       "      <td>4627.65</td>\n",
       "      <td>否</td>\n",
       "    </tr>\n",
       "    <tr>\n",
       "      <th>7042</th>\n",
       "      <td>7043</td>\n",
       "      <td>男</td>\n",
       "      <td>是</td>\n",
       "      <td>是</td>\n",
       "      <td>是</td>\n",
       "      <td>是</td>\n",
       "      <td>是</td>\n",
       "      <td>否</td>\n",
       "      <td>是</td>\n",
       "      <td>是</td>\n",
       "      <td>双年卡</td>\n",
       "      <td>63</td>\n",
       "      <td>就餐时付费</td>\n",
       "      <td>59.00</td>\n",
       "      <td>3707.6</td>\n",
       "      <td>否</td>\n",
       "    </tr>\n",
       "  </tbody>\n",
       "</table>\n",
       "<p>7043 rows × 16 columns</p>\n",
       "</div>"
      ],
      "text/plain": [
       "       用户码 性别 玫瑰套餐 紫罗兰套餐 郁金香套餐 百合套餐 康乃馨套餐 胡姬花套餐 生日套餐 情人节套餐 会员卡类型  入会月数 会费支付方式  \\\n",
       "0        1  女    是     是     否    是     否     是    是     否    年卡     9   手工转账   \n",
       "1        2  男    否     否     否    否     否     否    否     是    月卡     9   手工转账   \n",
       "2        3  男    否     否     否    否     是     否    否     否    月卡     4  就餐时付费   \n",
       "3        4  男    是     否     否    是     是     否    是     是    月卡    13  就餐时付费   \n",
       "4        5  女    否     是     否    否     否     是    是     是    月卡     9   花呗付款   \n",
       "...    ... ..  ...   ...   ...  ...   ...   ...  ...   ...   ...   ...    ...   \n",
       "7038  7039  女    否     否     是    否     否     是    否     否    年卡    13   手工转账   \n",
       "7039  7040  男    否     否     否    是     否     否    否     否    月卡     2   手工转账   \n",
       "7040  7041  男    是     否     否    否     否     否    否     是    月卡    22  就餐时付费   \n",
       "7041  7042  男    是     是     是    否     是     是    否     是   双年卡    67   手工转账   \n",
       "7042  7043  男    是     是     是    是     是     否    是     是   双年卡    63  就餐时付费   \n",
       "\n",
       "      平均月消费      总消费 已停付会费  \n",
       "0     65.60    593.3     否  \n",
       "1     59.90    542.4     否  \n",
       "2     73.90   280.85     是  \n",
       "3     98.00  1237.85     是  \n",
       "4     69.40   571.45     否  \n",
       "...     ...      ...   ...  \n",
       "7038  55.15    742.9     否  \n",
       "7039  50.30    92.75     否  \n",
       "7040  85.10   1873.7     是  \n",
       "7041  67.85  4627.65     否  \n",
       "7042  59.00   3707.6     否  \n",
       "\n",
       "[7043 rows x 16 columns]"
      ]
     },
     "execution_count": 2,
     "metadata": {},
     "output_type": "execute_result"
    }
   ],
   "source": [
    "df_member = pd.read_csv('易速鲜花会员留存.csv')\n",
    "df_member"
   ]
  },
  {
   "cell_type": "markdown",
   "metadata": {},
   "source": [
    "## 数据清洗"
   ]
  },
  {
   "cell_type": "code",
   "execution_count": 3,
   "metadata": {},
   "outputs": [],
   "source": [
    "#把总消费字段转换成数值字段\n",
    "df_member['总消费'] = pd.to_numeric(df_member['总消费'], errors='coerce')\n",
    "df_member['总消费'].fillna(0, inplace=True)"
   ]
  },
  {
   "cell_type": "markdown",
   "metadata": {},
   "source": [
    "## 数据可视化"
   ]
  },
  {
   "cell_type": "code",
   "execution_count": 4,
   "metadata": {
    "scrolled": false
   },
   "outputs": [
    {
     "data": {
      "image/png": "[encoded data removed]",
      "text/plain": [
       "<Figure size 600x400 with 1 Axes>"
      ]
     },
     "metadata": {},
     "output_type": "display_data"
    }
   ],
   "source": [
    "plt.figure(figsize=(6,4))\n",
    "plt.rcParams['font.family'] = ['SimHei'] #或者 ['Microsoft YaHei']\n",
    "plt.rcParams['axes.unicode_minus'] = False\n",
    "ax = df_member.groupby('已停付会费').count()['用户码'].plot.pie(autopct='%1.0f%%') #饼图\n",
    "plt.xlabel('是否流失')\n",
    "plt.show() #显示"
   ]
  },
  {
   "cell_type": "markdown",
   "metadata": {},
   "source": [
    "## 特征工程"
   ]
  },
  {
   "cell_type": "code",
   "execution_count": 5,
   "metadata": {},
   "outputs": [],
   "source": [
    "df_member['已停付会费'].replace(to_replace='是', value=1, inplace=True) #流失-1\n",
    "df_member['已停付会费'].replace(to_replace='否',  value=0, inplace=True) #未流失-0"
   ]
  },
  {
   "cell_type": "code",
   "execution_count": 6,
   "metadata": {},
   "outputs": [],
   "source": [
    "df_member['性别'].replace(to_replace='女', value=0, inplace=True) #女生-0\n",
    "df_member['性别'].replace(to_replace='男', value=1, inplace=True) #男生-1"
   ]
  },
  {
   "cell_type": "code",
   "execution_count": 7,
   "metadata": {},
   "outputs": [],
   "source": [
    "# 字段中'Yes' or 'No'转换成为模型可以读取的数值,（布尔型数据，也是数值数据）\n",
    "binary_features = ['玫瑰套餐', '紫罗兰套餐', '郁金香套餐', '百合套餐', '康乃馨套餐', '胡姬花套餐', \n",
    "                   '生日套餐','情人节套餐']\n",
    "for field in binary_features:\n",
    "    df_member[field] = df_member[field] == '是'"
   ]
  },
  {
   "cell_type": "code",
   "execution_count": 8,
   "metadata": {},
   "outputs": [
    {
     "data": {
      "text/html": [
       "<div>\n",
       "<style scoped>\n",
       "    .dataframe tbody tr th:only-of-type {\n",
       "        vertical-align: middle;\n",
       "    }\n",
       "\n",
       "    .dataframe tbody tr th {\n",
       "        vertical-align: top;\n",
       "    }\n",
       "\n",
       "    .dataframe thead th {\n",
       "        text-align: right;\n",
       "    }\n",
       "</style>\n",
       "<table border=\"1\" class=\"dataframe\">\n",
       "  <thead>\n",
       "    <tr style=\"text-align: right;\">\n",
       "      <th></th>\n",
       "      <th>用户码</th>\n",
       "      <th>性别</th>\n",
       "      <th>玫瑰套餐</th>\n",
       "      <th>紫罗兰套餐</th>\n",
       "      <th>郁金香套餐</th>\n",
       "      <th>百合套餐</th>\n",
       "      <th>康乃馨套餐</th>\n",
       "      <th>胡姬花套餐</th>\n",
       "      <th>生日套餐</th>\n",
       "      <th>情人节套餐</th>\n",
       "      <th>会员卡类型</th>\n",
       "      <th>入会月数</th>\n",
       "      <th>会费支付方式</th>\n",
       "      <th>平均月消费</th>\n",
       "      <th>总消费</th>\n",
       "      <th>已停付会费</th>\n",
       "    </tr>\n",
       "  </thead>\n",
       "  <tbody>\n",
       "    <tr>\n",
       "      <th>0</th>\n",
       "      <td>1</td>\n",
       "      <td>0</td>\n",
       "      <td>True</td>\n",
       "      <td>True</td>\n",
       "      <td>False</td>\n",
       "      <td>True</td>\n",
       "      <td>False</td>\n",
       "      <td>True</td>\n",
       "      <td>True</td>\n",
       "      <td>False</td>\n",
       "      <td>年卡</td>\n",
       "      <td>9</td>\n",
       "      <td>手工转账</td>\n",
       "      <td>65.60</td>\n",
       "      <td>593.30</td>\n",
       "      <td>0</td>\n",
       "    </tr>\n",
       "    <tr>\n",
       "      <th>1</th>\n",
       "      <td>2</td>\n",
       "      <td>1</td>\n",
       "      <td>False</td>\n",
       "      <td>False</td>\n",
       "      <td>False</td>\n",
       "      <td>False</td>\n",
       "      <td>False</td>\n",
       "      <td>False</td>\n",
       "      <td>False</td>\n",
       "      <td>True</td>\n",
       "      <td>月卡</td>\n",
       "      <td>9</td>\n",
       "      <td>手工转账</td>\n",
       "      <td>59.90</td>\n",
       "      <td>542.40</td>\n",
       "      <td>0</td>\n",
       "    </tr>\n",
       "    <tr>\n",
       "      <th>2</th>\n",
       "      <td>3</td>\n",
       "      <td>1</td>\n",
       "      <td>False</td>\n",
       "      <td>False</td>\n",
       "      <td>False</td>\n",
       "      <td>False</td>\n",
       "      <td>True</td>\n",
       "      <td>False</td>\n",
       "      <td>False</td>\n",
       "      <td>False</td>\n",
       "      <td>月卡</td>\n",
       "      <td>4</td>\n",
       "      <td>就餐时付费</td>\n",
       "      <td>73.90</td>\n",
       "      <td>280.85</td>\n",
       "      <td>1</td>\n",
       "    </tr>\n",
       "    <tr>\n",
       "      <th>3</th>\n",
       "      <td>4</td>\n",
       "      <td>1</td>\n",
       "      <td>True</td>\n",
       "      <td>False</td>\n",
       "      <td>False</td>\n",
       "      <td>True</td>\n",
       "      <td>True</td>\n",
       "      <td>False</td>\n",
       "      <td>True</td>\n",
       "      <td>True</td>\n",
       "      <td>月卡</td>\n",
       "      <td>13</td>\n",
       "      <td>就餐时付费</td>\n",
       "      <td>98.00</td>\n",
       "      <td>1237.85</td>\n",
       "      <td>1</td>\n",
       "    </tr>\n",
       "    <tr>\n",
       "      <th>4</th>\n",
       "      <td>5</td>\n",
       "      <td>0</td>\n",
       "      <td>False</td>\n",
       "      <td>True</td>\n",
       "      <td>False</td>\n",
       "      <td>False</td>\n",
       "      <td>False</td>\n",
       "      <td>True</td>\n",
       "      <td>True</td>\n",
       "      <td>True</td>\n",
       "      <td>月卡</td>\n",
       "      <td>9</td>\n",
       "      <td>花呗付款</td>\n",
       "      <td>69.40</td>\n",
       "      <td>571.45</td>\n",
       "      <td>0</td>\n",
       "    </tr>\n",
       "    <tr>\n",
       "      <th>...</th>\n",
       "      <td>...</td>\n",
       "      <td>...</td>\n",
       "      <td>...</td>\n",
       "      <td>...</td>\n",
       "      <td>...</td>\n",
       "      <td>...</td>\n",
       "      <td>...</td>\n",
       "      <td>...</td>\n",
       "      <td>...</td>\n",
       "      <td>...</td>\n",
       "      <td>...</td>\n",
       "      <td>...</td>\n",
       "      <td>...</td>\n",
       "      <td>...</td>\n",
       "      <td>...</td>\n",
       "      <td>...</td>\n",
       "    </tr>\n",
       "    <tr>\n",
       "      <th>7038</th>\n",
       "      <td>7039</td>\n",
       "      <td>0</td>\n",
       "      <td>False</td>\n",
       "      <td>False</td>\n",
       "      <td>True</td>\n",
       "      <td>False</td>\n",
       "      <td>False</td>\n",
       "      <td>True</td>\n",
       "      <td>False</td>\n",
       "      <td>False</td>\n",
       "      <td>年卡</td>\n",
       "      <td>13</td>\n",
       "      <td>手工转账</td>\n",
       "      <td>55.15</td>\n",
       "      <td>742.90</td>\n",
       "      <td>0</td>\n",
       "    </tr>\n",
       "    <tr>\n",
       "      <th>7039</th>\n",
       "      <td>7040</td>\n",
       "      <td>1</td>\n",
       "      <td>False</td>\n",
       "      <td>False</td>\n",
       "      <td>False</td>\n",
       "      <td>True</td>\n",
       "      <td>False</td>\n",
       "      <td>False</td>\n",
       "      <td>False</td>\n",
       "      <td>False</td>\n",
       "      <td>月卡</td>\n",
       "      <td>2</td>\n",
       "      <td>手工转账</td>\n",
       "      <td>50.30</td>\n",
       "      <td>92.75</td>\n",
       "      <td>0</td>\n",
       "    </tr>\n",
       "    <tr>\n",
       "      <th>7040</th>\n",
       "      <td>7041</td>\n",
       "      <td>1</td>\n",
       "      <td>True</td>\n",
       "      <td>False</td>\n",
       "      <td>False</td>\n",
       "      <td>False</td>\n",
       "      <td>False</td>\n",
       "      <td>False</td>\n",
       "      <td>False</td>\n",
       "      <td>True</td>\n",
       "      <td>月卡</td>\n",
       "      <td>22</td>\n",
       "      <td>就餐时付费</td>\n",
       "      <td>85.10</td>\n",
       "      <td>1873.70</td>\n",
       "      <td>1</td>\n",
       "    </tr>\n",
       "    <tr>\n",
       "      <th>7041</th>\n",
       "      <td>7042</td>\n",
       "      <td>1</td>\n",
       "      <td>True</td>\n",
       "      <td>True</td>\n",
       "      <td>True</td>\n",
       "      <td>False</td>\n",
       "      <td>True</td>\n",
       "      <td>True</td>\n",
       "      <td>False</td>\n",
       "      <td>True</td>\n",
       "      <td>双年卡</td>\n",
       "      <td>67</td>\n",
       "      <td>手工转账</td>\n",
       "      <td>67.85</td>\n",
       "      <td>4627.65</td>\n",
       "      <td>0</td>\n",
       "    </tr>\n",
       "    <tr>\n",
       "      <th>7042</th>\n",
       "      <td>7043</td>\n",
       "      <td>1</td>\n",
       "      <td>True</td>\n",
       "      <td>True</td>\n",
       "      <td>True</td>\n",
       "      <td>True</td>\n",
       "      <td>True</td>\n",
       "      <td>False</td>\n",
       "      <td>True</td>\n",
       "      <td>True</td>\n",
       "      <td>双年卡</td>\n",
       "      <td>63</td>\n",
       "      <td>就餐时付费</td>\n",
       "      <td>59.00</td>\n",
       "      <td>3707.60</td>\n",
       "      <td>0</td>\n",
       "    </tr>\n",
       "  </tbody>\n",
       "</table>\n",
       "<p>7043 rows × 16 columns</p>\n",
       "</div>"
      ],
      "text/plain": [
       "       用户码  性别   玫瑰套餐  紫罗兰套餐  郁金香套餐   百合套餐  康乃馨套餐  胡姬花套餐   生日套餐  情人节套餐 会员卡类型  \\\n",
       "0        1   0   True   True  False   True  False   True   True  False    年卡   \n",
       "1        2   1  False  False  False  False  False  False  False   True    月卡   \n",
       "2        3   1  False  False  False  False   True  False  False  False    月卡   \n",
       "3        4   1   True  False  False   True   True  False   True   True    月卡   \n",
       "4        5   0  False   True  False  False  False   True   True   True    月卡   \n",
       "...    ...  ..    ...    ...    ...    ...    ...    ...    ...    ...   ...   \n",
       "7038  7039   0  False  False   True  False  False   True  False  False    年卡   \n",
       "7039  7040   1  False  False  False   True  False  False  False  False    月卡   \n",
       "7040  7041   1   True  False  False  False  False  False  False   True    月卡   \n",
       "7041  7042   1   True   True   True  False   True   True  False   True   双年卡   \n",
       "7042  7043   1   True   True   True   True   True  False   True   True   双年卡   \n",
       "\n",
       "      入会月数 会费支付方式  平均月消费      总消费  已停付会费  \n",
       "0        9   手工转账  65.60   593.30      0  \n",
       "1        9   手工转账  59.90   542.40      0  \n",
       "2        4  就餐时付费  73.90   280.85      1  \n",
       "3       13  就餐时付费  98.00  1237.85      1  \n",
       "4        9   花呗付款  69.40   571.45      0  \n",
       "...    ...    ...    ...      ...    ...  \n",
       "7038    13   手工转账  55.15   742.90      0  \n",
       "7039     2   手工转账  50.30    92.75      0  \n",
       "7040    22  就餐时付费  85.10  1873.70      1  \n",
       "7041    67   手工转账  67.85  4627.65      0  \n",
       "7042    63  就餐时付费  59.00  3707.60      0  \n",
       "\n",
       "[7043 rows x 16 columns]"
      ]
     },
     "execution_count": 8,
     "metadata": {},
     "output_type": "execute_result"
    }
   ],
   "source": [
    "df_member"
   ]
  },
  {
   "cell_type": "markdown",
   "metadata": {},
   "source": [
    "## 数据整理\n",
    "先做数据整理工作，把每个数据字段都转换为可以处理的字段"
   ]
  },
  {
   "cell_type": "code",
   "execution_count": 9,
   "metadata": {
    "scrolled": true
   },
   "outputs": [
    {
     "data": {
      "text/html": [
       "<div>\n",
       "<style scoped>\n",
       "    .dataframe tbody tr th:only-of-type {\n",
       "        vertical-align: middle;\n",
       "    }\n",
       "\n",
       "    .dataframe tbody tr th {\n",
       "        vertical-align: top;\n",
       "    }\n",
       "\n",
       "    .dataframe thead th {\n",
       "        text-align: right;\n",
       "    }\n",
       "</style>\n",
       "<table border=\"1\" class=\"dataframe\">\n",
       "  <thead>\n",
       "    <tr style=\"text-align: right;\">\n",
       "      <th></th>\n",
       "      <th>用户码</th>\n",
       "      <th>性别</th>\n",
       "      <th>玫瑰套餐</th>\n",
       "      <th>紫罗兰套餐</th>\n",
       "      <th>郁金香套餐</th>\n",
       "      <th>百合套餐</th>\n",
       "      <th>康乃馨套餐</th>\n",
       "      <th>胡姬花套餐</th>\n",
       "      <th>生日套餐</th>\n",
       "      <th>情人节套餐</th>\n",
       "      <th>入会月数</th>\n",
       "      <th>平均月消费</th>\n",
       "      <th>总消费</th>\n",
       "      <th>已停付会费</th>\n",
       "      <th>会员卡类型_年卡</th>\n",
       "      <th>会员卡类型_月卡</th>\n",
       "      <th>会费支付方式_微信自动扣款</th>\n",
       "      <th>会费支付方式_手工转账</th>\n",
       "      <th>会费支付方式_花呗付款</th>\n",
       "    </tr>\n",
       "  </thead>\n",
       "  <tbody>\n",
       "    <tr>\n",
       "      <th>0</th>\n",
       "      <td>1</td>\n",
       "      <td>0</td>\n",
       "      <td>True</td>\n",
       "      <td>True</td>\n",
       "      <td>False</td>\n",
       "      <td>True</td>\n",
       "      <td>False</td>\n",
       "      <td>True</td>\n",
       "      <td>True</td>\n",
       "      <td>False</td>\n",
       "      <td>9</td>\n",
       "      <td>65.60</td>\n",
       "      <td>593.30</td>\n",
       "      <td>0</td>\n",
       "      <td>1</td>\n",
       "      <td>0</td>\n",
       "      <td>0</td>\n",
       "      <td>1</td>\n",
       "      <td>0</td>\n",
       "    </tr>\n",
       "    <tr>\n",
       "      <th>1</th>\n",
       "      <td>2</td>\n",
       "      <td>1</td>\n",
       "      <td>False</td>\n",
       "      <td>False</td>\n",
       "      <td>False</td>\n",
       "      <td>False</td>\n",
       "      <td>False</td>\n",
       "      <td>False</td>\n",
       "      <td>False</td>\n",
       "      <td>True</td>\n",
       "      <td>9</td>\n",
       "      <td>59.90</td>\n",
       "      <td>542.40</td>\n",
       "      <td>0</td>\n",
       "      <td>0</td>\n",
       "      <td>1</td>\n",
       "      <td>0</td>\n",
       "      <td>1</td>\n",
       "      <td>0</td>\n",
       "    </tr>\n",
       "    <tr>\n",
       "      <th>2</th>\n",
       "      <td>3</td>\n",
       "      <td>1</td>\n",
       "      <td>False</td>\n",
       "      <td>False</td>\n",
       "      <td>False</td>\n",
       "      <td>False</td>\n",
       "      <td>True</td>\n",
       "      <td>False</td>\n",
       "      <td>False</td>\n",
       "      <td>False</td>\n",
       "      <td>4</td>\n",
       "      <td>73.90</td>\n",
       "      <td>280.85</td>\n",
       "      <td>1</td>\n",
       "      <td>0</td>\n",
       "      <td>1</td>\n",
       "      <td>0</td>\n",
       "      <td>0</td>\n",
       "      <td>0</td>\n",
       "    </tr>\n",
       "    <tr>\n",
       "      <th>3</th>\n",
       "      <td>4</td>\n",
       "      <td>1</td>\n",
       "      <td>True</td>\n",
       "      <td>False</td>\n",
       "      <td>False</td>\n",
       "      <td>True</td>\n",
       "      <td>True</td>\n",
       "      <td>False</td>\n",
       "      <td>True</td>\n",
       "      <td>True</td>\n",
       "      <td>13</td>\n",
       "      <td>98.00</td>\n",
       "      <td>1237.85</td>\n",
       "      <td>1</td>\n",
       "      <td>0</td>\n",
       "      <td>1</td>\n",
       "      <td>0</td>\n",
       "      <td>0</td>\n",
       "      <td>0</td>\n",
       "    </tr>\n",
       "    <tr>\n",
       "      <th>4</th>\n",
       "      <td>5</td>\n",
       "      <td>0</td>\n",
       "      <td>False</td>\n",
       "      <td>True</td>\n",
       "      <td>False</td>\n",
       "      <td>False</td>\n",
       "      <td>False</td>\n",
       "      <td>True</td>\n",
       "      <td>True</td>\n",
       "      <td>True</td>\n",
       "      <td>9</td>\n",
       "      <td>69.40</td>\n",
       "      <td>571.45</td>\n",
       "      <td>0</td>\n",
       "      <td>0</td>\n",
       "      <td>1</td>\n",
       "      <td>0</td>\n",
       "      <td>0</td>\n",
       "      <td>1</td>\n",
       "    </tr>\n",
       "    <tr>\n",
       "      <th>...</th>\n",
       "      <td>...</td>\n",
       "      <td>...</td>\n",
       "      <td>...</td>\n",
       "      <td>...</td>\n",
       "      <td>...</td>\n",
       "      <td>...</td>\n",
       "      <td>...</td>\n",
       "      <td>...</td>\n",
       "      <td>...</td>\n",
       "      <td>...</td>\n",
       "      <td>...</td>\n",
       "      <td>...</td>\n",
       "      <td>...</td>\n",
       "      <td>...</td>\n",
       "      <td>...</td>\n",
       "      <td>...</td>\n",
       "      <td>...</td>\n",
       "      <td>...</td>\n",
       "      <td>...</td>\n",
       "    </tr>\n",
       "    <tr>\n",
       "      <th>7038</th>\n",
       "      <td>7039</td>\n",
       "      <td>0</td>\n",
       "      <td>False</td>\n",
       "      <td>False</td>\n",
       "      <td>True</td>\n",
       "      <td>False</td>\n",
       "      <td>False</td>\n",
       "      <td>True</td>\n",
       "      <td>False</td>\n",
       "      <td>False</td>\n",
       "      <td>13</td>\n",
       "      <td>55.15</td>\n",
       "      <td>742.90</td>\n",
       "      <td>0</td>\n",
       "      <td>1</td>\n",
       "      <td>0</td>\n",
       "      <td>0</td>\n",
       "      <td>1</td>\n",
       "      <td>0</td>\n",
       "    </tr>\n",
       "    <tr>\n",
       "      <th>7039</th>\n",
       "      <td>7040</td>\n",
       "      <td>1</td>\n",
       "      <td>False</td>\n",
       "      <td>False</td>\n",
       "      <td>False</td>\n",
       "      <td>True</td>\n",
       "      <td>False</td>\n",
       "      <td>False</td>\n",
       "      <td>False</td>\n",
       "      <td>False</td>\n",
       "      <td>2</td>\n",
       "      <td>50.30</td>\n",
       "      <td>92.75</td>\n",
       "      <td>0</td>\n",
       "      <td>0</td>\n",
       "      <td>1</td>\n",
       "      <td>0</td>\n",
       "      <td>1</td>\n",
       "      <td>0</td>\n",
       "    </tr>\n",
       "    <tr>\n",
       "      <th>7040</th>\n",
       "      <td>7041</td>\n",
       "      <td>1</td>\n",
       "      <td>True</td>\n",
       "      <td>False</td>\n",
       "      <td>False</td>\n",
       "      <td>False</td>\n",
       "      <td>False</td>\n",
       "      <td>False</td>\n",
       "      <td>False</td>\n",
       "      <td>True</td>\n",
       "      <td>22</td>\n",
       "      <td>85.10</td>\n",
       "      <td>1873.70</td>\n",
       "      <td>1</td>\n",
       "      <td>0</td>\n",
       "      <td>1</td>\n",
       "      <td>0</td>\n",
       "      <td>0</td>\n",
       "      <td>0</td>\n",
       "    </tr>\n",
       "    <tr>\n",
       "      <th>7041</th>\n",
       "      <td>7042</td>\n",
       "      <td>1</td>\n",
       "      <td>True</td>\n",
       "      <td>True</td>\n",
       "      <td>True</td>\n",
       "      <td>False</td>\n",
       "      <td>True</td>\n",
       "      <td>True</td>\n",
       "      <td>False</td>\n",
       "      <td>True</td>\n",
       "      <td>67</td>\n",
       "      <td>67.85</td>\n",
       "      <td>4627.65</td>\n",
       "      <td>0</td>\n",
       "      <td>0</td>\n",
       "      <td>0</td>\n",
       "      <td>0</td>\n",
       "      <td>1</td>\n",
       "      <td>0</td>\n",
       "    </tr>\n",
       "    <tr>\n",
       "      <th>7042</th>\n",
       "      <td>7043</td>\n",
       "      <td>1</td>\n",
       "      <td>True</td>\n",
       "      <td>True</td>\n",
       "      <td>True</td>\n",
       "      <td>True</td>\n",
       "      <td>True</td>\n",
       "      <td>False</td>\n",
       "      <td>True</td>\n",
       "      <td>True</td>\n",
       "      <td>63</td>\n",
       "      <td>59.00</td>\n",
       "      <td>3707.60</td>\n",
       "      <td>0</td>\n",
       "      <td>0</td>\n",
       "      <td>0</td>\n",
       "      <td>0</td>\n",
       "      <td>0</td>\n",
       "      <td>0</td>\n",
       "    </tr>\n",
       "  </tbody>\n",
       "</table>\n",
       "<p>7043 rows × 19 columns</p>\n",
       "</div>"
      ],
      "text/plain": [
       "       用户码  性别   玫瑰套餐  紫罗兰套餐  郁金香套餐   百合套餐  康乃馨套餐  胡姬花套餐   生日套餐  情人节套餐  入会月数  \\\n",
       "0        1   0   True   True  False   True  False   True   True  False     9   \n",
       "1        2   1  False  False  False  False  False  False  False   True     9   \n",
       "2        3   1  False  False  False  False   True  False  False  False     4   \n",
       "3        4   1   True  False  False   True   True  False   True   True    13   \n",
       "4        5   0  False   True  False  False  False   True   True   True     9   \n",
       "...    ...  ..    ...    ...    ...    ...    ...    ...    ...    ...   ...   \n",
       "7038  7039   0  False  False   True  False  False   True  False  False    13   \n",
       "7039  7040   1  False  False  False   True  False  False  False  False     2   \n",
       "7040  7041   1   True  False  False  False  False  False  False   True    22   \n",
       "7041  7042   1   True   True   True  False   True   True  False   True    67   \n",
       "7042  7043   1   True   True   True   True   True  False   True   True    63   \n",
       "\n",
       "      平均月消费      总消费  已停付会费  会员卡类型_年卡  会员卡类型_月卡  会费支付方式_微信自动扣款  会费支付方式_手工转账  \\\n",
       "0     65.60   593.30      0         1         0              0            1   \n",
       "1     59.90   542.40      0         0         1              0            1   \n",
       "2     73.90   280.85      1         0         1              0            0   \n",
       "3     98.00  1237.85      1         0         1              0            0   \n",
       "4     69.40   571.45      0         0         1              0            0   \n",
       "...     ...      ...    ...       ...       ...            ...          ...   \n",
       "7038  55.15   742.90      0         1         0              0            1   \n",
       "7039  50.30    92.75      0         0         1              0            1   \n",
       "7040  85.10  1873.70      1         0         1              0            0   \n",
       "7041  67.85  4627.65      0         0         0              0            1   \n",
       "7042  59.00  3707.60      0         0         0              0            0   \n",
       "\n",
       "      会费支付方式_花呗付款  \n",
       "0               0  \n",
       "1               0  \n",
       "2               0  \n",
       "3               0  \n",
       "4               1  \n",
       "...           ...  \n",
       "7038            0  \n",
       "7039            0  \n",
       "7040            0  \n",
       "7041            0  \n",
       "7042            0  \n",
       "\n",
       "[7043 rows x 19 columns]"
      ]
     },
     "execution_count": 9,
     "metadata": {},
     "output_type": "execute_result"
    }
   ],
   "source": [
    "# One hot encode 分类字段\n",
    "category_features = ['会员卡类型', '会费支付方式']\n",
    "df_member = pd.get_dummies(df_member, drop_first=True, columns=category_features)\n",
    "df_member"
   ]
  },
  {
   "cell_type": "markdown",
   "metadata": {},
   "source": [
    "## 构建特征集和标签集"
   ]
  },
  {
   "cell_type": "code",
   "execution_count": 10,
   "metadata": {},
   "outputs": [],
   "source": [
    "X = df_member.drop(['用户码','已停付会费'], axis = 1) # 构建特征集，用户吗字段属于无用特征\n",
    "y = df_member.已停付会费.values # 构建标签集"
   ]
  },
  {
   "cell_type": "markdown",
   "metadata": {},
   "source": [
    "## 拆分数据集"
   ]
  },
  {
   "cell_type": "code",
   "execution_count": 11,
   "metadata": {},
   "outputs": [],
   "source": [
    "from sklearn.model_selection import train_test_split\n",
    "X_train, X_test, y_train, y_test = train_test_split(X,y,test_size = 0.2, random_state = 4)"
   ]
  },
  {
   "cell_type": "markdown",
   "metadata": {},
   "source": [
    "# 训练模型\n",
    "\n",
    "这里我们比较逻辑回归和神经网络两种算法"
   ]
  },
  {
   "cell_type": "markdown",
   "metadata": {},
   "source": [
    "## 训练逻辑回归模型"
   ]
  },
  {
   "cell_type": "code",
   "execution_count": 12,
   "metadata": {},
   "outputs": [],
   "source": [
    "from sklearn.linear_model import LogisticRegression #导入逻辑回归模型\n",
    "logreg = LogisticRegression(max_iter=1000) # logreg,就代表是逻辑回归模型"
   ]
  },
  {
   "cell_type": "code",
   "execution_count": 13,
   "metadata": {},
   "outputs": [
    {
     "data": {
      "text/html": [
       "<style>#sk-container-id-1 {color: black;background-color: white;}#sk-container-id-1 pre{padding: 0;}#sk-container-id-1 div.sk-toggleable {background-color: white;}#sk-container-id-1 label.sk-toggleable__label {cursor: pointer;display: block;width: 100%;margin-bottom: 0;padding: 0.3em;box-sizing: border-box;text-align: center;}#sk-container-id-1 label.sk-toggleable__label-arrow:before {content: \"▸\";float: left;margin-right: 0.25em;color: #696969;}#sk-container-id-1 label.sk-toggleable__label-arrow:hover:before {color: black;}#sk-container-id-1 div.sk-estimator:hover label.sk-toggleable__label-arrow:before {color: black;}#sk-container-id-1 div.sk-toggleable__content {max-height: 0;max-width: 0;overflow: hidden;text-align: left;background-color: #f0f8ff;}#sk-container-id-1 div.sk-toggleable__content pre {margin: 0.2em;color: black;border-radius: 0.25em;background-color: #f0f8ff;}#sk-container-id-1 input.sk-toggleable__control:checked~div.sk-toggleable__content {max-height: 200px;max-width: 100%;overflow: auto;}#sk-container-id-1 input.sk-toggleable__control:checked~label.sk-toggleable__label-arrow:before {content: \"▾\";}#sk-container-id-1 div.sk-estimator input.sk-toggleable__control:checked~label.sk-toggleable__label {background-color: #d4ebff;}#sk-container-id-1 div.sk-label input.sk-toggleable__control:checked~label.sk-toggleable__label {background-color: #d4ebff;}#sk-container-id-1 input.sk-hidden--visually {border: 0;clip: rect(1px 1px 1px 1px);clip: rect(1px, 1px, 1px, 1px);height: 1px;margin: -1px;overflow: hidden;padding: 0;position: absolute;width: 1px;}#sk-container-id-1 div.sk-estimator {font-family: monospace;background-color: #f0f8ff;border: 1px dotted black;border-radius: 0.25em;box-sizing: border-box;margin-bottom: 0.5em;}#sk-container-id-1 div.sk-estimator:hover {background-color: #d4ebff;}#sk-container-id-1 div.sk-parallel-item::after {content: \"\";width: 100%;border-bottom: 1px solid gray;flex-grow: 1;}#sk-container-id-1 div.sk-label:hover label.sk-toggleable__label {background-color: #d4ebff;}#sk-container-id-1 div.sk-serial::before {content: \"\";position: absolute;border-left: 1px solid gray;box-sizing: border-box;top: 0;bottom: 0;left: 50%;z-index: 0;}#sk-container-id-1 div.sk-serial {display: flex;flex-direction: column;align-items: center;background-color: white;padding-right: 0.2em;padding-left: 0.2em;position: relative;}#sk-container-id-1 div.sk-item {position: relative;z-index: 1;}#sk-container-id-1 div.sk-parallel {display: flex;align-items: stretch;justify-content: center;background-color: white;position: relative;}#sk-container-id-1 div.sk-item::before, #sk-container-id-1 div.sk-parallel-item::before {content: \"\";position: absolute;border-left: 1px solid gray;box-sizing: border-box;top: 0;bottom: 0;left: 50%;z-index: -1;}#sk-container-id-1 div.sk-parallel-item {display: flex;flex-direction: column;z-index: 1;position: relative;background-color: white;}#sk-container-id-1 div.sk-parallel-item:first-child::after {align-self: flex-end;width: 50%;}#sk-container-id-1 div.sk-parallel-item:last-child::after {align-self: flex-start;width: 50%;}#sk-container-id-1 div.sk-parallel-item:only-child::after {width: 0;}#sk-container-id-1 div.sk-dashed-wrapped {border: 1px dashed gray;margin: 0 0.4em 0.5em 0.4em;box-sizing: border-box;padding-bottom: 0.4em;background-color: white;}#sk-container-id-1 div.sk-label label {font-family: monospace;font-weight: bold;display: inline-block;line-height: 1.2em;}#sk-container-id-1 div.sk-label-container {text-align: center;}#sk-container-id-1 div.sk-container {/* jupyter's `normalize.less` sets `[hidden] { display: none; }` but bootstrap.min.css set `[hidden] { display: none !important; }` so we also need the `!important` here to be able to override the default hidden behavior on the sphinx rendered scikit-learn.org. See: https://github.com/scikit-learn/scikit-learn/issues/21755 */display: inline-block !important;position: relative;}#sk-container-id-1 div.sk-text-repr-fallback {display: none;}</style><div id=\"sk-container-id-1\" class=\"sk-top-container\"><div class=\"sk-text-repr-fallback\"><pre>LogisticRegression(max_iter=1000)</pre><b>In a Jupyter environment, please rerun this cell to show the HTML representation or trust the notebook. <br />On GitHub, the HTML representation is unable to render, please try loading this page with nbviewer.org.</b></div><div class=\"sk-container\" hidden><div class=\"sk-item\"><div class=\"sk-estimator sk-toggleable\"><input class=\"sk-toggleable__control sk-hidden--visually\" id=\"sk-estimator-id-1\" type=\"checkbox\" checked><label for=\"sk-estimator-id-1\" class=\"sk-toggleable__label sk-toggleable__label-arrow\">LogisticRegression</label><div class=\"sk-toggleable__content\"><pre>LogisticRegression(max_iter=1000)</pre></div></div></div></div></div>"
      ],
      "text/plain": [
       "LogisticRegression(max_iter=1000)"
      ]
     },
     "execution_count": 13,
     "metadata": {},
     "output_type": "execute_result"
    }
   ],
   "source": [
    "logreg.fit(X_train,y_train) # fit,就相当于是梯度下降"
   ]
  },
  {
   "cell_type": "code",
   "execution_count": 14,
   "metadata": {},
   "outputs": [
    {
     "name": "stdout",
     "output_type": "stream",
     "text": [
      "SK-learn逻辑回归预测准确率78.50%\n"
     ]
    }
   ],
   "source": [
    "print(\"SK-learn逻辑回归预测准确率{:.2f}%\".format(logreg.score(X_test,y_test)*100))"
   ]
  },
  {
   "cell_type": "code",
   "execution_count": 15,
   "metadata": {},
   "outputs": [
    {
     "name": "stdout",
     "output_type": "stream",
     "text": [
      "逻辑回归对测试集第一个用户的预测结果 0\n"
     ]
    }
   ],
   "source": [
    "y_pred_logreg = logreg.predict(X_test)\n",
    "print(\"逻辑回归对测试集第一个用户的预测结果\", y_pred_logreg[0])"
   ]
  },
  {
   "cell_type": "markdown",
   "metadata": {},
   "source": [
    "## 定义混淆矩阵函数"
   ]
  },
  {
   "cell_type": "code",
   "execution_count": 16,
   "metadata": {},
   "outputs": [],
   "source": [
    "from sklearn.metrics import confusion_matrix # 导入混淆矩阵\n",
    "import seaborn as sns #导入seaborn画图工具箱\n",
    "def show_matrix(y_test, y_pred, label): # 定义一个函数显示混淆矩阵\n",
    "    cm = confusion_matrix(y_test,y_pred) # 调用混淆矩阵\n",
    "    plt.title(label) # 标题\n",
    "    sns.heatmap(cm,annot=True,cmap=\"Blues\",fmt=\"d\",cbar=False) # 热力图设定\n",
    "    plt.show() # 显示混淆矩阵"
   ]
  },
  {
   "cell_type": "markdown",
   "metadata": {},
   "source": [
    "您提供的代码是一个用于显示混淆矩阵的函数。在这里，我将解释这段代码的工作原理。\n",
    "\n",
    "1. 导入相关库：\n",
    "   - `from sklearn.metrics import confusion_matrix`：从 sklearn 库导入混淆矩阵函数。\n",
    "   - `import seaborn as sns`：导入 seaborn 库，它是一个基于 matplotlib 的强大数据可视化库，用于绘制统计图形。\n",
    "\n",
    "2. 定义一个名为 `show_matrix` 的函数，接受三个参数：`y_test`（实际类别标签），`y_pred`（模型预测的类别标签）和`label`（混淆矩阵图的标题）。\n",
    "\n",
    "3. 函数内部的操作：\n",
    "   - 使用`confusion_matrix`函数计算两个参数（`y_test` 和 `y_pred`）之间的混淆矩阵，并将结果赋值给变量`cm`。\n",
    "   - 使用`plt.title()`设置混淆矩阵图的标题。\n",
    "   - 使用 seaborn 的 `sns.heatmap()` 函数创建一个热力图以显示混淆矩阵。`annot=True` 表示在每个单元格中显示数值；`cmap=\"Blues\"` 表示使用蓝色调的颜色映射；`fmt=\"d\"` 表示将数值格式化为整数；`cbar=False`表示不显示颜色条。\n",
    "   - 使用`plt.show()`显示生成的混淆矩阵热力图。\n",
    "\n",
    "这个函数可以方便地用来可视化分类器的预测结果，以便您可以更好地理解模型的性能，例如查看存在的假阳性和假阴性。"
   ]
  },
  {
   "cell_type": "markdown",
   "metadata": {},
   "source": [
    "### 绘制逻辑回归的混淆矩阵"
   ]
  },
  {
   "cell_type": "code",
   "execution_count": 17,
   "metadata": {
    "scrolled": true
   },
   "outputs": [
    {
     "data": {
      "image/png": "[encoded data removed]",
      "text/plain": [
       "<Figure size 640x480 with 1 Axes>"
      ]
     },
     "metadata": {},
     "output_type": "display_data"
    }
   ],
   "source": [
    "show_matrix(y_test, y_pred_logreg,label='混淆矩阵（逻辑回归)') # 逻辑回归"
   ]
  },
  {
   "cell_type": "markdown",
   "metadata": {},
   "source": [
    "## 定义分类报告函数"
   ]
  },
  {
   "cell_type": "code",
   "execution_count": 18,
   "metadata": {},
   "outputs": [],
   "source": [
    "from sklearn.metrics import classification_report # 导入分类报告\n",
    "def show_report(X_test, y_test, y_pred): # 定义一个函数显示分类报告\n",
    "    # print (y_pred)\n",
    "    #np.set_printoptions(threshold=np.inf)\n",
    "    # print (np.where(predictions > 0.5, 0, predictions))\n",
    "#     if y_test.shape != (2000,1):\n",
    "#         y_test = y_test.values # 把Panda series转换成Numpy array\n",
    "#         y_test = y_test.reshape((len(y_test),1)) # 转换成与y_pred相同的形状 \n",
    "    #target_names = [str(x) for x in lb.classes_]\n",
    "    print(classification_report(y_test,y_pred,labels=[0, 1])) #打印分类报告  "
   ]
  },
  {
   "cell_type": "markdown",
   "metadata": {},
   "source": [
    "您提供的代码是一个用于显示分类报告的函数。在这里，我将解释这段代码的工作原理。\n",
    "\n",
    "1. 导入相关库：\n",
    "   - `from sklearn.metrics import classification_report`：从 sklearn 库导入分类报告函数。\n",
    "\n",
    "2. 定义一个名为 `show_report` 的函数，接受三个参数：`X_test`（测试集的输入数据，但实际上未在函数中使用），`y_test`（实际类别标签）和`y_pred`（模型预测的类别标签）。\n",
    "\n",
    "3. 函数内部的操作：\n",
    "   - 注释部分的代码用于处理不同类型的标签数据（如 Pandas Series 或不同形状的 NumPy 数组），但在这里已经被禁用，因为我们假设提供的 `y_test` 和 `y_pred` 数据格式正确无误。\n",
    "   - 使用`classification_report`函数生成一个分类报告，其中包含每个类别的精度、召回率和 F1 分数（评估分类模型性能的三个重要指标）。在这种情况下，`labels=[0, 1]`意味着我们关心的是两个类别：0 和 1。\n",
    "   - 使用`print`函数打印生成的分类报告。\n",
    "\n",
    "这个函数可以方便地用来评估分类器的性能，提供每个类别的精度、召回率和 F1 分数，便于更深入地分析模型的优缺点。"
   ]
  },
  {
   "cell_type": "markdown",
   "metadata": {},
   "source": [
    "### 显示逻辑回归模型的分类报告"
   ]
  },
  {
   "cell_type": "code",
   "execution_count": 19,
   "metadata": {},
   "outputs": [
    {
     "name": "stdout",
     "output_type": "stream",
     "text": [
      "              precision    recall  f1-score   support\n",
      "\n",
      "           0       0.83      0.89      0.86      1048\n",
      "           1       0.60      0.47      0.53       361\n",
      "\n",
      "    accuracy                           0.78      1409\n",
      "   macro avg       0.72      0.68      0.70      1409\n",
      "weighted avg       0.77      0.78      0.78      1409\n",
      "\n"
     ]
    }
   ],
   "source": [
    "show_report(X_test, y_test, y_pred_logreg)"
   ]
  },
  {
   "cell_type": "markdown",
   "metadata": {},
   "source": [
    " 以下是对分类报告的结果的解释和评估。\n",
    "\n",
    "1. 对于类别 0 (通常表示负样本)：\n",
    "   - 精确度（Precision）：0.83，这意味着 83% 被模型预测为类别 0 的样本是真正的类别 0。精确度较高，说明模型在预测类别 0 时的效果较好。\n",
    "   - 召回率（Recall）：0.89，这意味着 89% 的真正类别为 0 的样本被正确预测。相对较高的召回率表示模型能确切捕捉到大部分的类别 0 样本。\n",
    "   - F1 分数（F1-score）：0.86，F1 分数综合了精确度和召回率，取值范围为 0 到 1，1 表示最佳性能。0.86 表示模型在类别 0 的预测上表现良好。\n",
    "\n",
    "2. 对于类别 1 (通常表示正样本)：\n",
    "   - 精确度（Precision）：0.60，这意味着 60% 被模型预测为类别 1 的样本是真正的类别 1。精确度较低，说明模型在预测类别 1 时效果一般。\n",
    "   - 召回率（Recall）：0.47，这意味着 47% 的真正类别为 1 的样本被正确预测。召回率较低表示模型并未成功捕捉到大部分的类别 1 样本。\n",
    "   - F1 分数（F1-score）：0.53，表示模型在类别 1 的预测性能一般。\n",
    "\n",
    "3. 总体性能指标：\n",
    "   - 准确率（Accuracy）：0.78，衡量了整体被正确预测的样本占总样本数的比例。准确率为 78%，意味着总体上，模型预测还算准确，但仍然有提升空间。\n",
    "   - 宏平均（Macro avg）：计算精确度、召回率和 F1 分数的平均值。在这里，宏平均分数为 0.72（精确度）、0.68（召回率）和 0.70（F1 分数），表示整个模型的表现一般，但类别 0 的预测相对较好。\n",
    "   - 加权平均（Weighted avg）：以每个类别的样本数为权重计算精确度、召回率和 F1 分数的加权平均值。在这里，加权平均分数为 0.77（精确度）、0.78（准确率）和 0.78（F1 分数），表明整体上模型预测性能一般且偏向类别 0。\n",
    "\n",
    "总结：模型在类别 0 的预测上表现较好，但在类别 1 的预测上表现一般。整体准确率为 78%，可以认为模型的预测性能尚可，但还有改进空间。 若要提高模型性能，可以尝试使用不同的机器学习算法、特征选择或优化超参数等方法。"
   ]
  },
  {
   "cell_type": "markdown",
   "metadata": {},
   "source": [
    "## 训练神经网络模型"
   ]
  },
  {
   "cell_type": "code",
   "execution_count": 20,
   "metadata": {},
   "outputs": [],
   "source": [
    "#!pip install keras\n",
    "#!pip install tensorflow"
   ]
  },
  {
   "cell_type": "code",
   "execution_count": 21,
   "metadata": {},
   "outputs": [
    {
     "name": "stdout",
     "output_type": "stream",
     "text": [
      "Model: \"sequential\"\n",
      "_________________________________________________________________\n",
      " Layer (type)                Output Shape              Param #   \n",
      "=================================================================\n",
      " dense (Dense)               (None, 12)                216       \n",
      "                                                                 \n",
      " dense_1 (Dense)             (None, 24)                312       \n",
      "                                                                 \n",
      " dense_2 (Dense)             (None, 1)                 25        \n",
      "                                                                 \n",
      "=================================================================\n",
      "Total params: 553 (2.16 KB)\n",
      "Trainable params: 553 (2.16 KB)\n",
      "Non-trainable params: 0 (0.00 Byte)\n",
      "_________________________________________________________________\n"
     ]
    }
   ],
   "source": [
    "import keras # 导入Keras库\n",
    "from keras.models import Sequential # 导入Keras序贯模型\n",
    "from keras.layers import Dense # 导入Keras密集连接层\n",
    "dnn = Sequential() # 创建一个序贯DNN模型\n",
    "dnn.add(Dense(units=12, input_dim=17, activation = 'relu')) # 添加输入层\n",
    "dnn.add(Dense(units=24, activation = 'relu')) # 添加隐层\n",
    "dnn.add(Dense(units=1, activation = 'sigmoid')) # 添加输出层\n",
    "dnn.summary() # 显示网络模型（这个语句不是必须的）\n",
    "# 编译神经网络，指定优化器，损失函数，以及评估标准\n",
    "dnn.compile(optimizer = 'RMSProp', #优化器\n",
    "            loss = 'binary_crossentropy', #损失函数\n",
    "            metrics = ['acc']) #评估标准"
   ]
  },
  {
   "cell_type": "code",
   "execution_count": 22,
   "metadata": {},
   "outputs": [
    {
     "data": {
      "text/plain": [
       "(5634, 17)"
      ]
     },
     "execution_count": 22,
     "metadata": {},
     "output_type": "execute_result"
    }
   ],
   "source": [
    "X_train.shape"
   ]
  },
  {
   "cell_type": "code",
   "execution_count": 23,
   "metadata": {},
   "outputs": [],
   "source": [
    "X_train = np.asarray(X_train).astype(np.float32)\n",
    "X_test = np.asarray(X_test).astype(np.float32)"
   ]
  },
  {
   "cell_type": "code",
   "execution_count": 24,
   "metadata": {},
   "outputs": [
    {
     "name": "stdout",
     "output_type": "stream",
     "text": [
      "Epoch 1/30\n",
      "71/71 [==============================] - 1s 4ms/step - loss: 6.9501 - acc: 0.6426 - val_loss: 2.1164 - val_acc: 0.7728\n",
      "Epoch 2/30\n",
      "71/71 [==============================] - 0s 2ms/step - loss: 2.1865 - acc: 0.6883 - val_loss: 1.6577 - val_acc: 0.7808\n",
      "Epoch 3/30\n",
      "71/71 [==============================] - 0s 2ms/step - loss: 2.2122 - acc: 0.6838 - val_loss: 3.7985 - val_acc: 0.3886\n",
      "Epoch 4/30\n",
      "71/71 [==============================] - 0s 2ms/step - loss: 2.1538 - acc: 0.6832 - val_loss: 1.5487 - val_acc: 0.7897\n",
      "Epoch 5/30\n",
      "71/71 [==============================] - 0s 2ms/step - loss: 2.0654 - acc: 0.6929 - val_loss: 1.1845 - val_acc: 0.7906\n",
      "Epoch 6/30\n",
      "71/71 [==============================] - 0s 2ms/step - loss: 2.0895 - acc: 0.7062 - val_loss: 1.1632 - val_acc: 0.7915\n",
      "Epoch 7/30\n",
      "71/71 [==============================] - 0s 2ms/step - loss: 2.2357 - acc: 0.7000 - val_loss: 0.9559 - val_acc: 0.7870\n",
      "Epoch 8/30\n",
      "71/71 [==============================] - 0s 2ms/step - loss: 2.0606 - acc: 0.7124 - val_loss: 3.7839 - val_acc: 0.7693\n",
      "Epoch 9/30\n",
      "71/71 [==============================] - 0s 2ms/step - loss: 2.2012 - acc: 0.7105 - val_loss: 3.5071 - val_acc: 0.7693\n",
      "Epoch 10/30\n",
      "71/71 [==============================] - 0s 2ms/step - loss: 2.1614 - acc: 0.7049 - val_loss: 3.4111 - val_acc: 0.7693\n",
      "Epoch 11/30\n",
      "71/71 [==============================] - 0s 2ms/step - loss: 2.1015 - acc: 0.7120 - val_loss: 0.7081 - val_acc: 0.7986\n",
      "Epoch 12/30\n",
      "71/71 [==============================] - 0s 2ms/step - loss: 1.9661 - acc: 0.7171 - val_loss: 2.2988 - val_acc: 0.7773\n",
      "Epoch 13/30\n",
      "71/71 [==============================] - 0s 2ms/step - loss: 2.0997 - acc: 0.7176 - val_loss: 3.2133 - val_acc: 0.4401\n",
      "Epoch 14/30\n",
      "71/71 [==============================] - 0s 2ms/step - loss: 1.9815 - acc: 0.7136 - val_loss: 3.0425 - val_acc: 0.7622\n",
      "Epoch 15/30\n",
      "71/71 [==============================] - 0s 2ms/step - loss: 2.0685 - acc: 0.7153 - val_loss: 1.7026 - val_acc: 0.7906\n",
      "Epoch 16/30\n",
      "71/71 [==============================] - 0s 2ms/step - loss: 1.9515 - acc: 0.7209 - val_loss: 3.5344 - val_acc: 0.7684\n",
      "Epoch 17/30\n",
      "71/71 [==============================] - 0s 2ms/step - loss: 1.9763 - acc: 0.7227 - val_loss: 0.8878 - val_acc: 0.8004\n",
      "Epoch 18/30\n",
      "71/71 [==============================] - 0s 2ms/step - loss: 2.0091 - acc: 0.7151 - val_loss: 0.8335 - val_acc: 0.7959\n",
      "Epoch 19/30\n",
      "71/71 [==============================] - 0s 2ms/step - loss: 1.7409 - acc: 0.7269 - val_loss: 1.6971 - val_acc: 0.7888\n",
      "Epoch 20/30\n",
      "71/71 [==============================] - 0s 2ms/step - loss: 1.8423 - acc: 0.7262 - val_loss: 0.9300 - val_acc: 0.5572\n",
      "Epoch 21/30\n",
      "71/71 [==============================] - 0s 2ms/step - loss: 1.8018 - acc: 0.7371 - val_loss: 2.1228 - val_acc: 0.7702\n",
      "Epoch 22/30\n",
      "71/71 [==============================] - 0s 2ms/step - loss: 1.9136 - acc: 0.7213 - val_loss: 0.7010 - val_acc: 0.6211\n",
      "Epoch 23/30\n",
      "71/71 [==============================] - 0s 2ms/step - loss: 1.6801 - acc: 0.7282 - val_loss: 1.9797 - val_acc: 0.7693\n",
      "Epoch 24/30\n",
      "71/71 [==============================] - 0s 2ms/step - loss: 1.9101 - acc: 0.7193 - val_loss: 0.5270 - val_acc: 0.7374\n",
      "Epoch 25/30\n",
      "71/71 [==============================] - 0s 2ms/step - loss: 1.7519 - acc: 0.7224 - val_loss: 2.3504 - val_acc: 0.7693\n",
      "Epoch 26/30\n",
      "71/71 [==============================] - 0s 2ms/step - loss: 1.5269 - acc: 0.7224 - val_loss: 2.5822 - val_acc: 0.7657\n",
      "Epoch 27/30\n",
      "71/71 [==============================] - 0s 2ms/step - loss: 1.5254 - acc: 0.7400 - val_loss: 4.0041 - val_acc: 0.4410\n",
      "Epoch 28/30\n",
      "71/71 [==============================] - 0s 2ms/step - loss: 1.7001 - acc: 0.7193 - val_loss: 1.8326 - val_acc: 0.7711\n",
      "Epoch 29/30\n",
      "71/71 [==============================] - 0s 2ms/step - loss: 1.6098 - acc: 0.7233 - val_loss: 2.0331 - val_acc: 0.7702\n",
      "Epoch 30/30\n",
      "71/71 [==============================] - 0s 2ms/step - loss: 1.6101 - acc: 0.7231 - val_loss: 1.0394 - val_acc: 0.7808\n"
     ]
    }
   ],
   "source": [
    "history = dnn.fit(X_train, y_train, # 指定训练集\n",
    "                  epochs=30,        # 指定训练的轮次\n",
    "                  batch_size=64,    # 指定数据批量\n",
    "                  validation_split=0.2) #这里直接从训练集数据中拆分验证集，更方便"
   ]
  },
  {
   "cell_type": "code",
   "execution_count": 25,
   "metadata": {},
   "outputs": [],
   "source": [
    "def show_history(history): # 显示训练过程中的学习曲线\n",
    "    loss = history.history['loss']\n",
    "    val_loss = history.history['val_loss']\n",
    "    epochs = range(1, len(loss) + 1)\n",
    "    plt.figure(figsize=(12,4))\n",
    "    plt.subplot(1, 2, 1)\n",
    "    plt.plot(epochs, loss, 'bo', label='Training loss')\n",
    "    plt.plot(epochs, val_loss, 'b', label='Validation loss')\n",
    "    plt.title('Training and validation loss')\n",
    "    plt.xlabel('Epochs')\n",
    "    plt.ylabel('Loss')\n",
    "    plt.legend()\n",
    "    acc = history.history['acc']\n",
    "    val_acc = history.history['val_acc']\n",
    "    plt.subplot(1, 2, 2)\n",
    "    plt.plot(epochs, acc, 'bo', label='Training acc')\n",
    "    plt.plot(epochs, val_acc, 'b', label='Validation acc')\n",
    "    plt.title('Training and validation accuracy')\n",
    "    plt.xlabel('Epochs')\n",
    "    plt.ylabel('Accuracy')\n",
    "    plt.legend()\n",
    "    plt.show() "
   ]
  },
  {
   "cell_type": "code",
   "execution_count": 26,
   "metadata": {
    "scrolled": true
   },
   "outputs": [
    {
     "data": {
      "image/png": "[encoded data removed]",
      "text/plain": [
       "<Figure size 1200x400 with 2 Axes>"
      ]
     },
     "metadata": {},
     "output_type": "display_data"
    }
   ],
   "source": [
    "show_history(history) # 调用这个函数"
   ]
  },
  {
   "cell_type": "code",
   "execution_count": 27,
   "metadata": {},
   "outputs": [
    {
     "name": "stdout",
     "output_type": "stream",
     "text": [
      "45/45 [==============================] - 0s 1ms/step - loss: 1.3544 - acc: 0.7771\n",
      "DNN的测试准确率为 0.78%\n"
     ]
    }
   ],
   "source": [
    "result = dnn.evaluate(X_test, y_test) #评估测试集上的准确率\n",
    "print('DNN的测试准确率为',\"{0:.2f}%\".format(result[1]))"
   ]
  },
  {
   "cell_type": "code",
   "execution_count": 28,
   "metadata": {},
   "outputs": [
    {
     "name": "stdout",
     "output_type": "stream",
     "text": [
      "45/45 [==============================] - 0s 737us/step\n",
      "第一个用户分类结果为: 0\n"
     ]
    }
   ],
   "source": [
    "prediction = dnn.predict(X_test) #预测测试集的图片分类\n",
    "print('第一个用户分类结果为:', np.argmax(prediction[0]))"
   ]
  },
  {
   "cell_type": "markdown",
   "metadata": {},
   "source": [
    "### 绘制混淆矩阵（神经网络归一化之前）"
   ]
  },
  {
   "cell_type": "code",
   "execution_count": 29,
   "metadata": {},
   "outputs": [
    {
     "name": "stdout",
     "output_type": "stream",
     "text": [
      "141/141 [==============================] - 0s 704us/step\n"
     ]
    },
    {
     "data": {
      "image/png": "[encoded data removed]",
      "text/plain": [
       "<Figure size 640x480 with 1 Axes>"
      ]
     },
     "metadata": {},
     "output_type": "display_data"
    }
   ],
   "source": [
    "y_pred = dnn.predict(X_test,batch_size=10) # 预测测试集的标签\n",
    "y_pred_dnn = np.round(y_pred) # 将分类概率值转换成0/1整数值\n",
    "show_matrix(y_test, y_pred_dnn, label='混淆矩阵（神经网络归一化之前）') # 混淆矩阵（神经网络归一化之前）"
   ]
  },
  {
   "cell_type": "markdown",
   "metadata": {},
   "source": [
    "### 显示神经网络归一化之前的分类报告"
   ]
  },
  {
   "cell_type": "code",
   "execution_count": 30,
   "metadata": {},
   "outputs": [
    {
     "name": "stdout",
     "output_type": "stream",
     "text": [
      "              precision    recall  f1-score   support\n",
      "\n",
      "           0       0.78      0.97      0.87      1048\n",
      "           1       0.70      0.23      0.35       361\n",
      "\n",
      "    accuracy                           0.78      1409\n",
      "   macro avg       0.74      0.60      0.61      1409\n",
      "weighted avg       0.76      0.78      0.73      1409\n",
      "\n"
     ]
    }
   ],
   "source": [
    "show_report(X_test, y_test, y_pred_dnn)"
   ]
  },
  {
   "cell_type": "markdown",
   "metadata": {},
   "source": [
    "以下是对分类报告的第三组结果的解释和评估。\n",
    "\n",
    "1. 对于类别 0 (通常表示负样本)：\n",
    "   - 精确度（Precision）：0.78，这意味着 78% 被模型预测为类别 0 的样本是真正的类别 0。精确度较高，说明模型在预测类别 0 时效果较好。\n",
    "   - 召回率（Recall）：0.96，这意味着 96% 的真正类别为 0 的样本被正确预测。相对较高的召回率表示模型能确切捕捉到大部分的类别 0 样本。\n",
    "   - F1 分数（F1-score）：0.86，F1 分数综合了精确度和召回率，取值范围为 0 到 1，1 表示最佳性能。0.86 表示模型在类别 0 的预测上表现良好。\n",
    "\n",
    "2. 对于类别 1 (通常表示正样本)：\n",
    "   - 精确度（Precision）：0.66，这意味着 66% 被模型预测为类别 1 的样本是真正的类别 1。精确度尚可，说明模型在预测类别 1 时效果一般。\n",
    "   - 召回率（Recall）：0.22，这意味着仅有 22% 的真正类别为 1 的样本被正确预测。召回率较低表示模型并未成功捕捉到大部分的类别 1 样本。\n",
    "   - F1 分数（F1-score）：0.34，表示模型在类别 1 的预测性能一般。\n",
    "\n",
    "总体性能指标：\n",
    "\n",
    "   - 准确率（Accuracy）：0.77，衡量了整体被正确预测的样本占总样本数的比例。准确率为 77%，意味着总体上，模型预测还算准确，但有提升空间。\n",
    "   - 宏平均（Macro avg）：计算精确度、召回率和 F1 分数的平均值。在这里，宏平均分数为 0.72（精确度）、0.59（召回率）和 0.60（F1 分数），表示整个模型的表现一般，但类别 0 的预测相对较好。\n",
    "   - 加权平均（Weighted avg）：以每个类别的样本数为权重计算精确度、召回率和 F1 分数的加权平均值。在这里，加权平均分数为 0.75（精确度）、0.77（准确率）和 0.73（F1 分数），表明整体上模型预测性能尚可。\n",
    "\n",
    "总结：这个模型在类别 0 的预测上表现较好，但在类别 1 的预测上，尤其是召回率方面较差。整体准确率为 77%，模型的预测性能尚可，但仍有改进空间。 若要提高模型性能，可以尝试使用不同的机器学习算法、特征选择或优化超参数等方法。"
   ]
  },
  {
   "cell_type": "markdown",
   "metadata": {},
   "source": [
    "## 训练神经网络模型-归一化之后"
   ]
  },
  {
   "cell_type": "code",
   "execution_count": 31,
   "metadata": {},
   "outputs": [],
   "source": [
    "from sklearn.preprocessing import MinMaxScaler #导入归一化缩放器\n",
    "scaler = MinMaxScaler() #创建归一化缩放器\n",
    "X_train = scaler.fit_transform(X_train) #拟合并转换训练集数据\n",
    "X_test = scaler.transform(X_test) #转换测试集数据"
   ]
  },
  {
   "cell_type": "code",
   "execution_count": 32,
   "metadata": {
    "scrolled": false
   },
   "outputs": [
    {
     "name": "stdout",
     "output_type": "stream",
     "text": [
      "Epoch 1/30\n",
      "71/71 [==============================] - 0s 2ms/step - loss: 0.5582 - acc: 0.7311 - val_loss: 0.5135 - val_acc: 0.7391\n",
      "Epoch 2/30\n",
      "71/71 [==============================] - 0s 2ms/step - loss: 0.5003 - acc: 0.7499 - val_loss: 0.4749 - val_acc: 0.7746\n",
      "Epoch 3/30\n",
      "71/71 [==============================] - 0s 2ms/step - loss: 0.4689 - acc: 0.7786 - val_loss: 0.4596 - val_acc: 0.7835\n",
      "Epoch 4/30\n",
      "71/71 [==============================] - 0s 2ms/step - loss: 0.4575 - acc: 0.7852 - val_loss: 0.4519 - val_acc: 0.7853\n",
      "Epoch 5/30\n",
      "71/71 [==============================] - 0s 2ms/step - loss: 0.4511 - acc: 0.7843 - val_loss: 0.4455 - val_acc: 0.7862\n",
      "Epoch 6/30\n",
      "71/71 [==============================] - 0s 1ms/step - loss: 0.4458 - acc: 0.7872 - val_loss: 0.4458 - val_acc: 0.7764\n",
      "Epoch 7/30\n",
      "71/71 [==============================] - 0s 2ms/step - loss: 0.4418 - acc: 0.7892 - val_loss: 0.4385 - val_acc: 0.7906\n",
      "Epoch 8/30\n",
      "71/71 [==============================] - 0s 2ms/step - loss: 0.4385 - acc: 0.7886 - val_loss: 0.4375 - val_acc: 0.7862\n",
      "Epoch 9/30\n",
      "71/71 [==============================] - 0s 2ms/step - loss: 0.4354 - acc: 0.7912 - val_loss: 0.4354 - val_acc: 0.7870\n",
      "Epoch 10/30\n",
      "71/71 [==============================] - 0s 2ms/step - loss: 0.4327 - acc: 0.7899 - val_loss: 0.4334 - val_acc: 0.7888\n",
      "Epoch 11/30\n",
      "71/71 [==============================] - 0s 2ms/step - loss: 0.4305 - acc: 0.7908 - val_loss: 0.4310 - val_acc: 0.7968\n",
      "Epoch 12/30\n",
      "71/71 [==============================] - 0s 2ms/step - loss: 0.4287 - acc: 0.7897 - val_loss: 0.4308 - val_acc: 0.7933\n",
      "Epoch 13/30\n",
      "71/71 [==============================] - 0s 2ms/step - loss: 0.4270 - acc: 0.7914 - val_loss: 0.4284 - val_acc: 0.7986\n",
      "Epoch 14/30\n",
      "71/71 [==============================] - 0s 2ms/step - loss: 0.4252 - acc: 0.7930 - val_loss: 0.4291 - val_acc: 0.7941\n",
      "Epoch 15/30\n",
      "71/71 [==============================] - 0s 2ms/step - loss: 0.4244 - acc: 0.7932 - val_loss: 0.4248 - val_acc: 0.7977\n",
      "Epoch 16/30\n",
      "71/71 [==============================] - 0s 2ms/step - loss: 0.4229 - acc: 0.7932 - val_loss: 0.4263 - val_acc: 0.7959\n",
      "Epoch 17/30\n",
      "71/71 [==============================] - 0s 2ms/step - loss: 0.4222 - acc: 0.7974 - val_loss: 0.4237 - val_acc: 0.8012\n",
      "Epoch 18/30\n",
      "71/71 [==============================] - 0s 2ms/step - loss: 0.4208 - acc: 0.7954 - val_loss: 0.4283 - val_acc: 0.7933\n",
      "Epoch 19/30\n",
      "71/71 [==============================] - 0s 2ms/step - loss: 0.4202 - acc: 0.7957 - val_loss: 0.4212 - val_acc: 0.8012\n",
      "Epoch 20/30\n",
      "71/71 [==============================] - 0s 2ms/step - loss: 0.4188 - acc: 0.7961 - val_loss: 0.4232 - val_acc: 0.7977\n",
      "Epoch 21/30\n",
      "71/71 [==============================] - 0s 2ms/step - loss: 0.4184 - acc: 0.7981 - val_loss: 0.4199 - val_acc: 0.8030\n",
      "Epoch 22/30\n",
      "71/71 [==============================] - 0s 2ms/step - loss: 0.4179 - acc: 0.7965 - val_loss: 0.4219 - val_acc: 0.7968\n",
      "Epoch 23/30\n",
      "71/71 [==============================] - 0s 2ms/step - loss: 0.4172 - acc: 0.7945 - val_loss: 0.4194 - val_acc: 0.8057\n",
      "Epoch 24/30\n",
      "71/71 [==============================] - 0s 2ms/step - loss: 0.4160 - acc: 0.7970 - val_loss: 0.4208 - val_acc: 0.8021\n",
      "Epoch 25/30\n",
      "71/71 [==============================] - 0s 2ms/step - loss: 0.4156 - acc: 0.7959 - val_loss: 0.4210 - val_acc: 0.7995\n",
      "Epoch 26/30\n",
      "71/71 [==============================] - 0s 2ms/step - loss: 0.4147 - acc: 0.7988 - val_loss: 0.4218 - val_acc: 0.7950\n",
      "Epoch 27/30\n",
      "71/71 [==============================] - 0s 2ms/step - loss: 0.4140 - acc: 0.8008 - val_loss: 0.4215 - val_acc: 0.7986\n",
      "Epoch 28/30\n",
      "71/71 [==============================] - 0s 2ms/step - loss: 0.4140 - acc: 0.7996 - val_loss: 0.4196 - val_acc: 0.8012\n",
      "Epoch 29/30\n",
      "71/71 [==============================] - 0s 2ms/step - loss: 0.4132 - acc: 0.7976 - val_loss: 0.4219 - val_acc: 0.7941\n",
      "Epoch 30/30\n",
      "71/71 [==============================] - 0s 2ms/step - loss: 0.4134 - acc: 0.8012 - val_loss: 0.4192 - val_acc: 0.7986\n"
     ]
    },
    {
     "data": {
      "image/png": "[encoded data removed]",
      "text/plain": [
       "<Figure size 1200x400 with 2 Axes>"
      ]
     },
     "metadata": {},
     "output_type": "display_data"
    }
   ],
   "source": [
    "history = dnn.fit(X_train, y_train, # 指定训练集\n",
    "                  epochs=30,        # 指定训练的轮次\n",
    "                  batch_size=64,    # 指定数据批量\n",
    "                  validation_split=0.2) #指定验证集,这里为了简化模型，直接用训练集数据\n",
    "show_history(history) # 调用这个函数"
   ]
  },
  {
   "cell_type": "code",
   "execution_count": 33,
   "metadata": {},
   "outputs": [
    {
     "name": "stdout",
     "output_type": "stream",
     "text": [
      "45/45 [==============================] - 0s 911us/step - loss: 0.4538 - acc: 0.7828\n",
      "DNN（归一化之后）的测试准确率为 0.78%\n"
     ]
    }
   ],
   "source": [
    "result = dnn.evaluate(X_test, y_test) #评估测试集上的准确率\n",
    "print('DNN（归一化之后）的测试准确率为',\"{0:.2f}%\".format(result[1]))"
   ]
  },
  {
   "cell_type": "markdown",
   "metadata": {},
   "source": [
    "### 绘制混淆矩阵（神经网络归一化之后）"
   ]
  },
  {
   "cell_type": "code",
   "execution_count": 34,
   "metadata": {},
   "outputs": [
    {
     "name": "stdout",
     "output_type": "stream",
     "text": [
      "141/141 [==============================] - 0s 875us/step\n"
     ]
    },
    {
     "data": {
      "image/png": "[encoded data removed]",
      "text/plain": [
       "<Figure size 640x480 with 1 Axes>"
      ]
     },
     "metadata": {},
     "output_type": "display_data"
    }
   ],
   "source": [
    "y_pred = dnn.predict(X_test,batch_size=10) # 预测测试集的标签\n",
    "y_pred_dnn_scale = np.round(y_pred) # 将分类概率值转换成0/1整数值\n",
    "show_matrix(y_test, y_pred_dnn_scale, label='混淆矩阵（神经网络归一化之后）') # 混淆矩阵（神经网络归一化之后）"
   ]
  },
  {
   "cell_type": "markdown",
   "metadata": {},
   "source": [
    "### 显示神经网络归一化之后的分类报告"
   ]
  },
  {
   "cell_type": "code",
   "execution_count": 35,
   "metadata": {},
   "outputs": [
    {
     "name": "stdout",
     "output_type": "stream",
     "text": [
      "              precision    recall  f1-score   support\n",
      "\n",
      "           0       0.83      0.89      0.86      1048\n",
      "           1       0.59      0.48      0.53       361\n",
      "\n",
      "    accuracy                           0.78      1409\n",
      "   macro avg       0.71      0.68      0.70      1409\n",
      "weighted avg       0.77      0.78      0.77      1409\n",
      "\n"
     ]
    }
   ],
   "source": [
    "show_report(X_test, y_test, y_pred_dnn_scale)"
   ]
  },
  {
   "cell_type": "markdown",
   "metadata": {},
   "source": [
    "以下是对分类报告的第四组结果的解释和评估。\n",
    "\n",
    "1. 对于类别 0 (通常表示负样本)：\n",
    "   - 精确度（Precision）：0.83，这意味着 83% 被模型预测为类别 0 的样本是真正的类别 0。精确度较高，说明模型在预测类别 0 时效果较好。\n",
    "   - 召回率（Recall）：0.88，这意味着 88% 的真正类别为 0 的样本被正确预测。相对较高的召回率表示模型能确切捕捉到大部分的类别 0 样本。\n",
    "   - F1 分数（F1-score）：0.86，F1 分数综合了精确度和召回率，取值范围为 0 到 1，1 表示最佳性能。0.86 表示模型在类别 0 的预测上表现良好。\n",
    "\n",
    "2. 对于类别 1 (通常表示正样本)：\n",
    "   - 精确度（Precision）：0.59，这意味着 59% 被模型预测为类别 1 的样本是真正的类别 1。精确度尚可，说明模型在预测类别 1 时效果一般。\n",
    "   - 召回率（Recall）：0.49，这意味着 49% 的真正类别为 1 的样本被正确预测。召回率一般，表示模型在捕捉类别 1 样本方面的表现尚可。\n",
    "   - F1 分数（F1-score）：0.53，表示模型在类别 1 的预测性能一般。\n",
    "\n",
    "总体性能指标：\n",
    "\n",
    "   - 准确率（Accuracy）：0.78，衡量了整体被正确预测的样本占总样本数的比例。准确率为 78%，意味着总体上，模型预测还算准确，但有提升空间。\n",
    "   - 宏平均（Macro avg）：计算精确度、召回率和 F1 分数的平均值。在这里，宏平均分数为 0.71（精确度）、0.69（召回率）和 0.70（F1 分数），表示整个模型的表现一般，但类别 0 的预测相对较好。\n",
    "   - 加权平均（Weighted avg）：以每个类别的样本数为权重计算精确度、召回率和 F1 分数的加权平均值。在这里，加权平均分数为 0.77（精确度）、0.78（准确率）和 0.77（F1 分数），表明整体上模型预测性能尚可。\n",
    "\n",
    "总结：这个模型在类别 0 的预测上表现较好，但在类别 1 的预测上，尤其是精确度方面仍有改进空间。整体准确率为 78%，模型的预测性能尚可，但仍有提高空间。 若要提高模型性能，可以尝试使用不同的机器学习算法、特征选择或优化超参数等方法。"
   ]
  },
  {
   "cell_type": "markdown",
   "metadata": {},
   "source": [
    "## ROC曲线和AUC"
   ]
  },
  {
   "cell_type": "code",
   "execution_count": 36,
   "metadata": {},
   "outputs": [],
   "source": [
    "from sklearn.metrics import roc_curve\n",
    "from sklearn.metrics import auc"
   ]
  },
  {
   "cell_type": "markdown",
   "metadata": {},
   "source": [
    "roc_curve 和 auc 是从 sklearn.metrics 模块导入的两个评估方法，分别用于计算 ROC 曲线和 AUC 值。让我给你解释这两个概念以及它们的用途。\n",
    "\n",
    "ROC 曲线（Receiver Operating Characteristic curve）：\n",
    "ROC 曲线是用于描述二元分类器在分类阈值改变时的表现的图形工具。ROC 曲线有两个主要参数：\n",
    "\n",
    "真阳性率 (True Positive Rate, TPR): 衡量真正的正样本被正确识别的比例，通常称为召回率。\n",
    "假阳性率 (False Positive Rate, FPR): 衡量真正的负样本被错误识别为正样本的比例。\n",
    "ROC 曲线的横轴表示 FPR，纵轴表示 TPR。一般地，模型在不同分类阈值的选择下，可能相对高的 TPR 能容忍更高的 FPR。ROC 曲线上的点可以帮助找到不同阈值下最佳的性能权衡点。\n",
    "\n",
    "AUC（Area Under the ROC Curve）：\n",
    "AUC 值（ROC 曲线下的面积）是一个介于 0 和 1 之间的值，用于衡量分类器的整体性能。越接近 1 的 AUC 值意味着分类器性能越好。一般来说，一个随机预测的分类器的期望 AUC 值为 0.5，而一个完美预测的分类器的 AUC 值为 1。\n",
    "\n",
    "应用：ROC 曲线和 AUC 值可以用于评估模型的性能并进行比较，以便选择最佳的分类器。"
   ]
  },
  {
   "cell_type": "code",
   "execution_count": 37,
   "metadata": {},
   "outputs": [
    {
     "name": "stderr",
     "output_type": "stream",
     "text": [
      "C:\\Users\\Abraham Cheng\\anaconda3\\lib\\site-packages\\sklearn\\base.py:420: UserWarning: X does not have valid feature names, but LogisticRegression was fitted with feature names\n",
      "  warnings.warn(\n"
     ]
    }
   ],
   "source": [
    "y_pred_logreg = logreg.predict_proba(X_test)[:, 1]\n",
    "fpr_logreg, tpr_logreg, thresholds_logreg = roc_curve(y_test, y_pred_logreg)\n",
    "auc_logreg = auc(fpr_logreg, tpr_logreg)"
   ]
  },
  {
   "cell_type": "markdown",
   "metadata": {},
   "source": [
    "这些代码行通过逻辑回归模型对测试数据集进行预测，并计算假阳性率（FPR）、真阳性率（TPR）以及相应的 AUC 值。让我为您逐行解释：\n",
    "\n",
    "1. `y_pred_logreg = logreg.predict_proba(X_test)[:, 1]`: 使用逻辑回归模型（`logreg`）预测测试数据集（X_test），并获取预测结果中每个样本属于正类（类别 1）的概率。这里的 `predict_proba` 函数的返回值为一个二维数组，大小为 (n_samples, 2)，其中 `n_samples` 是测试数据的样本数。每一行表示一个样本，其中第一个元素为负类（类别 0）的概率，第二个元素为正类（类别 1）的概率。通过使用 `[:, 1]`，我们保留正类的概率并将其存储在变量 `y_pred_logreg` 中。\n",
    "\n",
    "2. `fpr_logreg, tpr_logreg, thresholds_logreg = roc_curve(y_test, y_pred_logreg)`: 使用预测的正类概率（`y_pred_logreg`）和真实的类别标签（`y_test`）调用 `roc_curve` 函数，以计算某些特定阈值下假阳性率（FPR）和真阳性率（TPR）。然后将这些值分别存储在变量 `fpr_logreg`、`tpr_logreg` 和 `thresholds_logreg` 中。这些值可以用于展示和分析分类器在不同分类阈值下的表现。\n",
    "\n",
    "3. `auc_logreg = auc(fpr_logreg, tpr_logreg)`: 使用 `auc` 函数计算 FPR 和 TPR 的 AUC 值（Area Under the ROC Curve）。 参数 `fpr_logreg` 和 `tpr_logreg` 是 FPR 和 TPR 的值数组，`auc_logreg` 变量存储计算出的 AUC 值，用于衡量分类器的整体性能。AUC 值越接近 1，分类器性能越好，AUC 值等于 0.5 对应于随机分类器。\n",
    "\n",
    "总结：这些代码行主要用于获取逻辑回归模型在测试数据集上的预测概率，并计算相应的 FPR、TPR 以及 AUC 值。结果可用于生成 ROC 曲线，并分析模型性能。可以通过分析 ROC 曲线寻找最佳分类阈值以优化分类器。"
   ]
  },
  {
   "cell_type": "code",
   "execution_count": 38,
   "metadata": {},
   "outputs": [
    {
     "name": "stdout",
     "output_type": "stream",
     "text": [
      "45/45 [==============================] - 0s 804us/step\n"
     ]
    }
   ],
   "source": [
    "y_pred_dnn_scale = dnn.predict(X_test).ravel()\n",
    "fpr_dnn_scale, tpr_dnn_scale, thresholds_dnn_scale = roc_curve(y_test, y_pred_dnn_scale)\n",
    "auc_dnn_scale = auc(fpr_dnn_scale, tpr_dnn_scale)"
   ]
  },
  {
   "cell_type": "markdown",
   "metadata": {},
   "source": [
    "这些代码行用于对深度神经网络（DNN）模型进行预测，并计算假阳性率（FPR）、真阳性率（TPR）以及相应的 AUC 值。让我逐行解释这些代码：\n",
    "\n",
    "1. `y_pred_dnn_scale = dnn.predict(X_test).ravel()`: 使用 DNN 模型（`dnn`）预测测试数据集（X_test），并将预测结果存储在变量 `y_pred_dnn_scale` 中。`predict()` 函数返回一个二维数组，大小为 (n_samples, 1)，其中 `n_samples` 是测试数据的样本数。每一行表示一个样本，误差的概率。我们将该二维数组摊平为一维数组，使用numpy的 `ravel()` 函数实现。\n",
    "\n",
    "2. `fpr_dnn_scale, tpr_dnn_scale, thresholds_dnn_scale = roc_curve(y_test, y_pred_dnn_scale)`: 使用预测结果（`y_pred_dnn_scale`）和真实的类别标签（`y_test`）调用 `roc_curve` 函数，以计算某些特定阈值显示的假阳性率（FPR）和真阳性率（TPR）。然后将这些值分别存储在变量 `fpr_dnn_scale`、`tpr_dnn_scale` 和 `thresholds_dnn_scale` 中。这些值可以用于展示和分析分类器在不同分类阈值下的表现。\n",
    "\n",
    "3. `auc_dnn_scale = auc(fpr_dnn_scale, tpr_dnn_scale)`: 使用 `auc` 函数计算 FPR 和 TPR 的 AUC 值（Area Under the ROC Curve）。 参数 `fpr_dnn_scale` 和 `tpr_dnn_scale` 是 FPR 和 TPR 的值数组，`auc_dnn_scale` 变量存储计算出的 AUC 值，用于衡量分类器的整体性能。AUC 值越接近 1，分类器性能越好，AUC 值等于 0.5 对应于随机分类器。\n",
    "\n",
    "总结：这些代码行主要用于获取 DNN 模型在测试数据集上的预测概率，并计算相应的 FPR、TPR 以及 AUC 值。结果可用于生成 ROC 曲线，并分析模型性能。可以通过分析 ROC 曲线来寻找最佳分类阈值以优化分类器。"
   ]
  },
  {
   "cell_type": "code",
   "execution_count": 39,
   "metadata": {},
   "outputs": [
    {
     "data": {
      "image/png": "[encoded data removed]",
      "text/plain": [
       "<Figure size 640x480 with 1 Axes>"
      ]
     },
     "metadata": {},
     "output_type": "display_data"
    }
   ],
   "source": [
    "plt.plot([0, 1], [0, 1], 'k--')\n",
    "plt.plot(fpr_logreg, tpr_logreg, label='逻辑回归 (area = {:.3f})'.format(auc_logreg))\n",
    "plt.plot(fpr_dnn_scale, tpr_dnn_scale, label='神经网络 (area = {:.3f})'.format(auc_dnn_scale))\n",
    "plt.xlabel('False Positive Rate')\n",
    "plt.ylabel('True Rositive Rate')\n",
    "plt.title('ROC 曲线')\n",
    "plt.legend(loc='best')\n",
    "plt.show()"
   ]
  },
  {
   "cell_type": "markdown",
   "metadata": {},
   "source": [
    "这些代码行用于绘制逻辑回归模型和深度神经网络（DNN）模型的 ROC 曲线，并将它们显示在一个图形中。让我逐行解释这些代码：\n",
    "\n",
    "1. `plt.plot([0, 1], [0, 1], 'k--')`: 画一条对角虚线（'k--' 表示黑色虚线），这表示一个随机分类器。ROC 曲线的横坐标是假阳性率（FPR），纵坐标是真阳性率（TPR），所以对角线表示了一个随机分类器。\n",
    "\n",
    "2. `plt.plot(fpr_logreg, tpr_logreg, label='逻辑回归 (area = {:.3f})'.format(auc_logreg))`: 画出逻辑回归模型的 ROC 曲线，横坐标为 FPR（`fpr_logreg`），纵坐标为 TPR（`tpr_logreg`）。添加一个标签（label），显示 AUC 值，保留小数点后三位（`{:.3f}`）。\n",
    "\n",
    "3. `plt.plot(fpr_dnn_scale, tpr_dnn_scale, label='神经网络 (area = {:.3f})'.format(auc_dnn_scale))`: 画出 DNN 模型的 ROC 曲线，横坐标为 FPR（`fpr_dnn_scale`），纵坐标为 TPR（`tpr_dnn_scale`）。添加一个标签（label），显示 AUC 值，保留小数点后三位（`{:.3f}`）。\n",
    "\n",
    "4. `plt.xlabel('False Positive Rate')`: 设置 x 轴标签为 \"False Positive Rate\"（假阳性率）。\n",
    "\n",
    "5. `plt.ylabel('True Positive Rate')`: 设置 y 轴标签为 \"True Positive Rate\"（真阳性率，这里的 \"Rositive\" 应当是拼写错误，应改为 \"Positive\"）。\n",
    "\n",
    "6. `plt.title('ROC 曲线')`: 设置图形标题为 \"ROC 曲线\"。\n",
    "\n",
    "7. `plt.legend(loc='best')`: 添加图例（图中包含两个模型逻辑回归和深度神经网络的ROC曲线）并将其放置于图形的最佳位置。\n",
    "\n",
    "8. `plt.show()`: 显示绘制的图形。\n",
    "\n",
    "总结：这些代码行创建了一个 ROC 曲线图，其中包含逻辑回归模型和 DNN 模型的 ROC 曲线、虚线表示随机分类器。通过比较曲线和 AUC 值，我们可以分析和比较两个模型的性能。\n",
    "\n",
    "根据提供的 ROC 曲线图中逻辑回归和神经网络模型的 AUC 值，我们可以对比分析这两个模型的性能。\n",
    "\n",
    "逻辑回归模型的 AUC 值为 0.756，这意味着模型在真阳性率（TPR）和假阳性率（FPR）之间的折衷取舍上有相对较好的表现。AUC 值越接近1，则模型性能越好。在这种情况下，虽然该模型比随机猜测（AUC 值为 0.5）具有相对较高的预测能力，但并不是一个非常理想的分类器。\n",
    "\n",
    "神经网络模型的 AUC 值为 0.810，这表明在比较真阳性率（TPR）和假阳性率（FPR）之间的折衷取舍时，神经网络模型的性能要优于逻辑回归模型。这意味着 DNN 模型能够在更高的真阳性率下控制假阳性率，因此可以捕捉更多的正样本，并在实际应用中产生更高的分类准确率。\n",
    "\n",
    "总的来说，从这两个模型的 AUC 值来看，神经网络模型影子为0.810 表现更好，而逻辑回归模型的表现相对较差（AUC 值为 0.756）。然而，也需要注意，在实际应用中选择模型的过程中，除了比较 ROC 曲线，还需要对比更多的性能指标（如精确率、召回率、F1 分数等），以及模型的训练时间和复杂性等因素。同时，通过调整模型参数和优化特征，我们可能可以进一步提高这两个模型的性能。"
   ]
  },
  {
   "cell_type": "code",
   "execution_count": null,
   "metadata": {},
   "outputs": [],
   "source": []
  }
 ],
 "metadata": {
  "kernelspec": {
   "display_name": "Python 3 (ipykernel)",
   "language": "python",
   "name": "python3"
  },
  "language_info": {
   "codemirror_mode": {
    "name": "ipython",
    "version": 3
   },
   "file_extension": ".py",
   "mimetype": "text/x-python",
   "name": "python",
   "nbconvert_exporter": "python",
   "pygments_lexer": "ipython3",
   "version": "3.10.9"
  }
 },
 "nbformat": 4,
 "nbformat_minor": 2
}
